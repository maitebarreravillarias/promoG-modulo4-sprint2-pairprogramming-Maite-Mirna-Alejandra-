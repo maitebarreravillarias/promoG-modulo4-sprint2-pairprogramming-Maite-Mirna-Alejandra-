{
 "cells": [
  {
   "cell_type": "code",
   "execution_count": 2,
   "metadata": {},
   "outputs": [],
   "source": [
    "# importamos las librerías que necesitamos\n",
    "\n",
    "# Tratamiento de datos\n",
    "# -----------------------------------------------------------------------\n",
    "import pandas as pd\n",
    "import numpy as np\n",
    "\n",
    "pd.set_option('display.max_columns', None) # para poder visualizar todas las columnas de los DataFrames\n",
    "\n",
    "# Gestión de los warnings\n",
    "# -----------------------------------------------------------------------\n",
    "import warnings\n",
    "warnings.filterwarnings(\"ignore\")"
   ]
  },
  {
   "cell_type": "code",
   "execution_count": 7,
   "metadata": {},
   "outputs": [],
   "source": [
    "df_total1 = pd.read_csv(\"files/df_nobechel_filtrado.csv\", index_col=None)"
   ]
  },
  {
   "cell_type": "code",
   "execution_count": 14,
   "metadata": {},
   "outputs": [],
   "source": [
    "df_total1_ordenado = df_total1.sort_values(by='Año de estreno')"
   ]
  },
  {
   "cell_type": "code",
   "execution_count": 19,
   "metadata": {},
   "outputs": [],
   "source": [
    "df_total2_ordenado = df_total1.sort_values(by='Año de estreno')"
   ]
  },
  {
   "cell_type": "code",
   "execution_count": 22,
   "metadata": {},
   "outputs": [],
   "source": [
    "df_total2_ordenado = df_total2.sort_values(by='Año de estreno', ascending=False)"
   ]
  },
  {
   "cell_type": "code",
   "execution_count": 33,
   "metadata": {},
   "outputs": [],
   "source": [
    "df_total1_ordenado_filtrado['Rating'].fillna(0, inplace=True)"
   ]
  },
  {
   "cell_type": "code",
   "execution_count": 24,
   "metadata": {},
   "outputs": [],
   "source": [
    "indices_a_eliminar = [27, 19, 38]\n",
    "df_total1_ordenado_filtrado = df_total1_ordenado.drop(indices_a_eliminar)"
   ]
  },
  {
   "cell_type": "code",
   "execution_count": 5,
   "metadata": {},
   "outputs": [],
   "source": [
    "df_total2 = pd.read_csv(\"files/df_recaudacion.csv\", index_col=None)"
   ]
  },
  {
   "cell_type": "code",
   "execution_count": 35,
   "metadata": {},
   "outputs": [],
   "source": [
    "\n",
    "df_total_taquilleras = pd.concat([df_total1_ordenado_filtrado, df_total2], ignore_index=True)"
   ]
  },
  {
   "cell_type": "code",
   "execution_count": 4,
   "metadata": {},
   "outputs": [
    {
     "data": {
      "text/html": [
       "<div>\n",
       "<style scoped>\n",
       "    .dataframe tbody tr th:only-of-type {\n",
       "        vertical-align: middle;\n",
       "    }\n",
       "\n",
       "    .dataframe tbody tr th {\n",
       "        vertical-align: top;\n",
       "    }\n",
       "\n",
       "    .dataframe thead th {\n",
       "        text-align: right;\n",
       "    }\n",
       "</style>\n",
       "<table border=\"1\" class=\"dataframe\">\n",
       "  <thead>\n",
       "    <tr style=\"text-align: right;\">\n",
       "      <th></th>\n",
       "      <th>N.º</th>\n",
       "      <th>Película</th>\n",
       "      <th>Recaudación mundial</th>\n",
       "      <th>Taquilla (EE. UU.)</th>\n",
       "      <th>Taquilla (fuera de EE. UU.)</th>\n",
       "      <th>Presupuesto</th>\n",
       "      <th>Distribuidora(s)</th>\n",
       "      <th>Año de estreno</th>\n",
       "      <th>Director(es)</th>\n",
       "      <th>Rating</th>\n",
       "    </tr>\n",
       "  </thead>\n",
       "  <tbody>\n",
       "    <tr>\n",
       "      <th>0</th>\n",
       "      <td>47.0</td>\n",
       "      <td>Star Wars: Episodio I - La amenaza fantasma</td>\n",
       "      <td>1027082707</td>\n",
       "      <td>474 544 677 (46,2 %)</td>\n",
       "      <td>552 538 030 (53,8 %)</td>\n",
       "      <td>115000000</td>\n",
       "      <td>20th Century Fox</td>\n",
       "      <td>1999</td>\n",
       "      <td>George Lucas</td>\n",
       "      <td>0.0</td>\n",
       "    </tr>\n",
       "    <tr>\n",
       "      <th>1</th>\n",
       "      <td>77.0</td>\n",
       "      <td>El Señor de los Anillos: la Comunidad del Anillo</td>\n",
       "      <td>883407846</td>\n",
       "      <td>316 115 420 (35,2 %)</td>\n",
       "      <td>582 089 000 (64,8 %)</td>\n",
       "      <td>93000000</td>\n",
       "      <td>New Line Cinema</td>\n",
       "      <td>2001</td>\n",
       "      <td>Peter Jackson</td>\n",
       "      <td>0.0</td>\n",
       "    </tr>\n",
       "    <tr>\n",
       "      <th>2</th>\n",
       "      <td>50.0</td>\n",
       "      <td>Harry Potter y la piedra filosofal</td>\n",
       "      <td>1024274108</td>\n",
       "      <td>318 886 962 (31,1 %)</td>\n",
       "      <td>704 955 975 (68,9 %)</td>\n",
       "      <td>125000000</td>\n",
       "      <td>Warner Bros. Pictures</td>\n",
       "      <td>2001</td>\n",
       "      <td>Chris Columbus</td>\n",
       "      <td>0.0</td>\n",
       "    </tr>\n",
       "    <tr>\n",
       "      <th>3</th>\n",
       "      <td>64.0</td>\n",
       "      <td>El Señor de los Anillos: las dos torres</td>\n",
       "      <td>948945489</td>\n",
       "      <td>342 952 511 (36,2 %)</td>\n",
       "      <td>604 991 759 (63,8 %)</td>\n",
       "      <td>94000000</td>\n",
       "      <td>New Line Cinema</td>\n",
       "      <td>2002</td>\n",
       "      <td>Peter Jackson</td>\n",
       "      <td>0.0</td>\n",
       "    </tr>\n",
       "    <tr>\n",
       "      <th>4</th>\n",
       "      <td>70.0</td>\n",
       "      <td>Harry Potter y la cámara secreta</td>\n",
       "      <td>927068902</td>\n",
       "      <td>262 641 637 (28,4 %)</td>\n",
       "      <td>663 026 742 (71,6 %)</td>\n",
       "      <td>100000000</td>\n",
       "      <td>Warner Bros.</td>\n",
       "      <td>2002</td>\n",
       "      <td>Chris Columbus</td>\n",
       "      <td>0.0</td>\n",
       "    </tr>\n",
       "  </tbody>\n",
       "</table>\n",
       "</div>"
      ],
      "text/plain": [
       "    N.º                                          Película  \\\n",
       "0  47.0       Star Wars: Episodio I - La amenaza fantasma   \n",
       "1  77.0  El Señor de los Anillos: la Comunidad del Anillo   \n",
       "2  50.0                Harry Potter y la piedra filosofal   \n",
       "3  64.0           El Señor de los Anillos: las dos torres   \n",
       "4  70.0                  Harry Potter y la cámara secreta   \n",
       "\n",
       "   Recaudación mundial    Taquilla (EE. UU.) Taquilla (fuera de EE. UU.)  \\\n",
       "0           1027082707  474 544 677 (46,2 %)        552 538 030 (53,8 %)   \n",
       "1            883407846  316 115 420 (35,2 %)        582 089 000 (64,8 %)   \n",
       "2           1024274108  318 886 962 (31,1 %)        704 955 975 (68,9 %)   \n",
       "3            948945489  342 952 511 (36,2 %)        604 991 759 (63,8 %)   \n",
       "4            927068902  262 641 637 (28,4 %)        663 026 742 (71,6 %)   \n",
       "\n",
       "   Presupuesto       Distribuidora(s)  Año de estreno    Director(es)  Rating  \n",
       "0    115000000       20th Century Fox            1999    George Lucas     0.0  \n",
       "1     93000000        New Line Cinema            2001   Peter Jackson     0.0  \n",
       "2    125000000  Warner Bros. Pictures            2001  Chris Columbus     0.0  \n",
       "3     94000000        New Line Cinema            2002   Peter Jackson     0.0  \n",
       "4    100000000           Warner Bros.            2002  Chris Columbus     0.0  "
      ]
     },
     "execution_count": 4,
     "metadata": {},
     "output_type": "execute_result"
    }
   ],
   "source": [
    "df_total_taquilleras1 = pd.read_csv(\"files/df_total_taquilleras1.csv\", index_col=None)\n",
    "df_total_taquilleras1.head()"
   ]
  },
  {
   "cell_type": "code",
   "execution_count": 5,
   "metadata": {},
   "outputs": [
    {
     "data": {
      "text/plain": [
       "0.0    40\n",
       "3.0    31\n",
       "1.0     7\n",
       "2.0     4\n",
       "Name: Rating, dtype: int64"
      ]
     },
     "execution_count": 5,
     "metadata": {},
     "output_type": "execute_result"
    }
   ],
   "source": [
    "df_total_taquilleras1[\"Rating\"].value_counts()"
   ]
  },
  {
   "cell_type": "code",
   "execution_count": 39,
   "metadata": {},
   "outputs": [],
   "source": [
    "\n",
    "df_total1_ordenado_filtrado.to_csv('df_nobechel_filtrado.csv', index=False)"
   ]
  },
  {
   "cell_type": "code",
   "execution_count": 6,
   "metadata": {},
   "outputs": [],
   "source": [
    "df_total_taquilleras1['test'] = df_total_taquilleras1['Rating'].apply(lambda x: True if x == 3 else False)\n"
   ]
  },
  {
   "cell_type": "code",
   "execution_count": null,
   "metadata": {},
   "outputs": [],
   "source": [
    "df_total_taquilleras1[\"test\"].value_counts()"
   ]
  },
  {
   "cell_type": "code",
   "execution_count": 8,
   "metadata": {},
   "outputs": [],
   "source": [
    "df_total_taquilleras1.to_csv('df_total_taquilleras2.csv', index=False)"
   ]
  }
 ],
 "metadata": {
  "kernelspec": {
   "display_name": "Python 3",
   "language": "python",
   "name": "python3"
  },
  "language_info": {
   "codemirror_mode": {
    "name": "ipython",
    "version": 3
   },
   "file_extension": ".py",
   "mimetype": "text/x-python",
   "name": "python",
   "nbconvert_exporter": "python",
   "pygments_lexer": "ipython3",
   "version": "3.9.7"
  }
 },
 "nbformat": 4,
 "nbformat_minor": 2
}

{
 "cells": [
  {
   "cell_type": "code",
   "execution_count": null,
   "metadata": {},
   "outputs": [],
   "source": [
    "introducir explicación de la puntuación https://data.world/carolee/women-in-movies"
   ]
  },
  {
   "cell_type": "markdown",
   "metadata": {},
   "source": [
    "diseño de los dashboards\n",
    "\n"
   ]
  },
  {
   "cell_type": "markdown",
   "metadata": {},
   "source": [
    "df_bechdel_movies_limpio analisis de todas las películas a lo largo del tiempo y por décadas (cruzar años / rating) sin % y con el, gráfico de líneas\n",
    "\n",
    "comparar evolucion con un velocímetro \n",
    "\n",
    "------------------------------------------\n",
    "\n",
    "movies_limpio  comparar presupuesto con pasan no pasan.\n",
    "                comparar ingresos nacionales, internacionales y totales con pasan no pasan\n",
    "\n",
    "                tasa de beneficio - ingresos menos presupuesto - compara con pasan no pasan\n",
    "\n",
    "\n",
    "las cien más taquilleras - ver cómo se distribuye en rating y comparar presupuesto, beneficio, \n",
    "\n"
   ]
  },
  {
   "cell_type": "markdown",
   "metadata": {},
   "source": []
  },
  {
   "cell_type": "markdown",
   "metadata": {},
   "source": [
    "El articulo está en \n",
    "https://fivethirtyeight.com/features/the-dollar-and-cents-case-against-hollywoods-exclusion-of-women/"
   ]
  }
 ],
 "metadata": {
  "language_info": {
   "name": "python"
  }
 },
 "nbformat": 4,
 "nbformat_minor": 2
}

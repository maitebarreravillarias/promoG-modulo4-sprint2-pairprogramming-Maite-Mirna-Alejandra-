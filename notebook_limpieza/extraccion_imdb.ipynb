{
 "cells": [
  {
   "cell_type": "code",
   "execution_count": 1,
   "metadata": {},
   "outputs": [],
   "source": [
    "# Importar librerías para tratamiento de datos\n",
    "import pandas as pd  \n",
    "\n",
    "# Importar librerías para web scraping y manipulación de datos\n",
    "from bs4 import BeautifulSoup\n",
    "import requests\n",
    "import re\n",
    "import random\n",
    "\n",
    "# Importar librerías para automatización de navegadores web con Selenium\n",
    "from selenium import webdriver  \n",
    "from selenium.webdriver.common.by import By\n",
    "from webdriver_manager.chrome import ChromeDriverManager  \n",
    "from selenium.webdriver.common.keys import Keys  \n",
    "from selenium.webdriver.support.ui import Select  \n",
    "\n",
    "# Importar librerías para pausar la ejecución\n",
    "from time import sleep  \n",
    "\n",
    "# Configuraciones\n",
    "pd.set_option('display.max_columns', None)  # Establece una opción de Pandas para mostrar todas las columnas de un DataFrame.\n",
    "\n",
    "import warnings\n",
    "warnings.filterwarnings('ignore')"
   ]
  },
  {
   "cell_type": "code",
   "execution_count": 12,
   "metadata": {},
   "outputs": [],
   "source": [
    "#leer csv\n",
    "df = pd.read_csv(\"/Users/maite/Desktop/ADALAB/modulo-4/ejercicios/promoG-modulo4-sprint2-pairprogramming-Maite-Mirna-Alejandra-/files/movies_limpio.csv\", index_col = 0)"
   ]
  },
  {
   "cell_type": "code",
   "execution_count": 16,
   "metadata": {},
   "outputs": [
    {
     "ename": "WebDriverException",
     "evalue": "Message: disconnected: not connected to DevTools\n  (failed to check if window was closed: disconnected: not connected to DevTools)\n  (Session info: chrome=124.0.6367.91)\nStacktrace:\n0   chromedriver                        0x00000001043f8a18 chromedriver + 5216792\n1   chromedriver                        0x00000001043f0653 chromedriver + 5183059\n2   chromedriver                        0x0000000103f62527 chromedriver + 406823\n3   chromedriver                        0x0000000103f4859e chromedriver + 300446\n4   chromedriver                        0x0000000103f48493 chromedriver + 300179\n5   chromedriver                        0x0000000103f648b2 chromedriver + 415922\n6   chromedriver                        0x0000000103fef05b chromedriver + 983131\n7   chromedriver                        0x0000000103fd04a3 chromedriver + 857251\n8   chromedriver                        0x0000000103fa0fe3 chromedriver + 663523\n9   chromedriver                        0x0000000103fa192e chromedriver + 665902\n10  chromedriver                        0x00000001043b6930 chromedriver + 4946224\n11  chromedriver                        0x00000001043bc9e4 chromedriver + 4970980\n12  chromedriver                        0x000000010439742e chromedriver + 4817966\n13  chromedriver                        0x00000001043bd4f9 chromedriver + 4973817\n14  chromedriver                        0x00000001043876b4 chromedriver + 4753076\n15  chromedriver                        0x00000001043dfba8 chromedriver + 5114792\n16  chromedriver                        0x00000001043dfd67 chromedriver + 5115239\n17  chromedriver                        0x00000001043f0273 chromedriver + 5182067\n18  libsystem_pthread.dylib             0x00007fff206ba954 _pthread_start + 224\n19  libsystem_pthread.dylib             0x00007fff206b64a7 thread_start + 15\n",
     "output_type": "error",
     "traceback": [
      "\u001b[0;31m---------------------------------------------------------------------------\u001b[0m",
      "\u001b[0;31mWebDriverException\u001b[0m                        Traceback (most recent call last)",
      "\u001b[0;32m/var/folders/8b/dscb3hf534s_7dk8087c1m9m0000gn/T/ipykernel_18800/2012762690.py\u001b[0m in \u001b[0;36m<module>\u001b[0;34m\u001b[0m\n\u001b[1;32m     35\u001b[0m \u001b[0;34m\u001b[0m\u001b[0m\n\u001b[1;32m     36\u001b[0m             \u001b[0;31m#Accedemos al buscador e introduccimos la peli para buscar PAG IMDB\u001b[0m\u001b[0;34m\u001b[0m\u001b[0;34m\u001b[0m\u001b[0m\n\u001b[0;32m---> 37\u001b[0;31m             \u001b[0mdriver\u001b[0m\u001b[0;34m.\u001b[0m\u001b[0mfind_element\u001b[0m\u001b[0;34m(\u001b[0m\u001b[0;34m\"css selector\"\u001b[0m\u001b[0;34m,\u001b[0m\u001b[0;34m'#suggestion-search'\u001b[0m\u001b[0;34m)\u001b[0m\u001b[0;34m.\u001b[0m\u001b[0msend_keys\u001b[0m\u001b[0;34m(\u001b[0m\u001b[0mpelicula\u001b[0m\u001b[0;34m,\u001b[0m \u001b[0mKeys\u001b[0m\u001b[0;34m.\u001b[0m\u001b[0mENTER\u001b[0m\u001b[0;34m)\u001b[0m\u001b[0;34m\u001b[0m\u001b[0;34m\u001b[0m\u001b[0m\n\u001b[0m\u001b[1;32m     38\u001b[0m \u001b[0;34m\u001b[0m\u001b[0m\n\u001b[1;32m     39\u001b[0m             \u001b[0msleep\u001b[0m\u001b[0;34m(\u001b[0m\u001b[0mrandom\u001b[0m\u001b[0;34m.\u001b[0m\u001b[0mrandint\u001b[0m\u001b[0;34m(\u001b[0m\u001b[0;36m5\u001b[0m\u001b[0;34m,\u001b[0m\u001b[0;36m12\u001b[0m\u001b[0;34m)\u001b[0m\u001b[0;34m)\u001b[0m\u001b[0;34m\u001b[0m\u001b[0;34m\u001b[0m\u001b[0m\n",
      "\u001b[0;32m~/opt/anaconda3/lib/python3.9/site-packages/selenium/webdriver/remote/webdriver.py\u001b[0m in \u001b[0;36mfind_element\u001b[0;34m(self, by, value)\u001b[0m\n\u001b[1;32m    739\u001b[0m             \u001b[0mvalue\u001b[0m \u001b[0;34m=\u001b[0m \u001b[0;34mf'[name=\"{value}\"]'\u001b[0m\u001b[0;34m\u001b[0m\u001b[0;34m\u001b[0m\u001b[0m\n\u001b[1;32m    740\u001b[0m \u001b[0;34m\u001b[0m\u001b[0m\n\u001b[0;32m--> 741\u001b[0;31m         \u001b[0;32mreturn\u001b[0m \u001b[0mself\u001b[0m\u001b[0;34m.\u001b[0m\u001b[0mexecute\u001b[0m\u001b[0;34m(\u001b[0m\u001b[0mCommand\u001b[0m\u001b[0;34m.\u001b[0m\u001b[0mFIND_ELEMENT\u001b[0m\u001b[0;34m,\u001b[0m \u001b[0;34m{\u001b[0m\u001b[0;34m\"using\"\u001b[0m\u001b[0;34m:\u001b[0m \u001b[0mby\u001b[0m\u001b[0;34m,\u001b[0m \u001b[0;34m\"value\"\u001b[0m\u001b[0;34m:\u001b[0m \u001b[0mvalue\u001b[0m\u001b[0;34m}\u001b[0m\u001b[0;34m)\u001b[0m\u001b[0;34m[\u001b[0m\u001b[0;34m\"value\"\u001b[0m\u001b[0;34m]\u001b[0m\u001b[0;34m\u001b[0m\u001b[0;34m\u001b[0m\u001b[0m\n\u001b[0m\u001b[1;32m    742\u001b[0m \u001b[0;34m\u001b[0m\u001b[0m\n\u001b[1;32m    743\u001b[0m     \u001b[0;32mdef\u001b[0m \u001b[0mfind_elements\u001b[0m\u001b[0;34m(\u001b[0m\u001b[0mself\u001b[0m\u001b[0;34m,\u001b[0m \u001b[0mby\u001b[0m\u001b[0;34m=\u001b[0m\u001b[0mBy\u001b[0m\u001b[0;34m.\u001b[0m\u001b[0mID\u001b[0m\u001b[0;34m,\u001b[0m \u001b[0mvalue\u001b[0m\u001b[0;34m:\u001b[0m \u001b[0mOptional\u001b[0m\u001b[0;34m[\u001b[0m\u001b[0mstr\u001b[0m\u001b[0;34m]\u001b[0m \u001b[0;34m=\u001b[0m \u001b[0;32mNone\u001b[0m\u001b[0;34m)\u001b[0m \u001b[0;34m->\u001b[0m \u001b[0mList\u001b[0m\u001b[0;34m[\u001b[0m\u001b[0mWebElement\u001b[0m\u001b[0;34m]\u001b[0m\u001b[0;34m:\u001b[0m\u001b[0;34m\u001b[0m\u001b[0;34m\u001b[0m\u001b[0m\n",
      "\u001b[0;32m~/opt/anaconda3/lib/python3.9/site-packages/selenium/webdriver/remote/webdriver.py\u001b[0m in \u001b[0;36mexecute\u001b[0;34m(self, driver_command, params)\u001b[0m\n\u001b[1;32m    345\u001b[0m         \u001b[0mresponse\u001b[0m \u001b[0;34m=\u001b[0m \u001b[0mself\u001b[0m\u001b[0;34m.\u001b[0m\u001b[0mcommand_executor\u001b[0m\u001b[0;34m.\u001b[0m\u001b[0mexecute\u001b[0m\u001b[0;34m(\u001b[0m\u001b[0mdriver_command\u001b[0m\u001b[0;34m,\u001b[0m \u001b[0mparams\u001b[0m\u001b[0;34m)\u001b[0m\u001b[0;34m\u001b[0m\u001b[0;34m\u001b[0m\u001b[0m\n\u001b[1;32m    346\u001b[0m         \u001b[0;32mif\u001b[0m \u001b[0mresponse\u001b[0m\u001b[0;34m:\u001b[0m\u001b[0;34m\u001b[0m\u001b[0;34m\u001b[0m\u001b[0m\n\u001b[0;32m--> 347\u001b[0;31m             \u001b[0mself\u001b[0m\u001b[0;34m.\u001b[0m\u001b[0merror_handler\u001b[0m\u001b[0;34m.\u001b[0m\u001b[0mcheck_response\u001b[0m\u001b[0;34m(\u001b[0m\u001b[0mresponse\u001b[0m\u001b[0;34m)\u001b[0m\u001b[0;34m\u001b[0m\u001b[0;34m\u001b[0m\u001b[0m\n\u001b[0m\u001b[1;32m    348\u001b[0m             \u001b[0mresponse\u001b[0m\u001b[0;34m[\u001b[0m\u001b[0;34m\"value\"\u001b[0m\u001b[0;34m]\u001b[0m \u001b[0;34m=\u001b[0m \u001b[0mself\u001b[0m\u001b[0;34m.\u001b[0m\u001b[0m_unwrap_value\u001b[0m\u001b[0;34m(\u001b[0m\u001b[0mresponse\u001b[0m\u001b[0;34m.\u001b[0m\u001b[0mget\u001b[0m\u001b[0;34m(\u001b[0m\u001b[0;34m\"value\"\u001b[0m\u001b[0;34m,\u001b[0m \u001b[0;32mNone\u001b[0m\u001b[0;34m)\u001b[0m\u001b[0;34m)\u001b[0m\u001b[0;34m\u001b[0m\u001b[0;34m\u001b[0m\u001b[0m\n\u001b[1;32m    349\u001b[0m             \u001b[0;32mreturn\u001b[0m \u001b[0mresponse\u001b[0m\u001b[0;34m\u001b[0m\u001b[0;34m\u001b[0m\u001b[0m\n",
      "\u001b[0;32m~/opt/anaconda3/lib/python3.9/site-packages/selenium/webdriver/remote/errorhandler.py\u001b[0m in \u001b[0;36mcheck_response\u001b[0;34m(self, response)\u001b[0m\n\u001b[1;32m    227\u001b[0m                 \u001b[0malert_text\u001b[0m \u001b[0;34m=\u001b[0m \u001b[0mvalue\u001b[0m\u001b[0;34m[\u001b[0m\u001b[0;34m\"alert\"\u001b[0m\u001b[0;34m]\u001b[0m\u001b[0;34m.\u001b[0m\u001b[0mget\u001b[0m\u001b[0;34m(\u001b[0m\u001b[0;34m\"text\"\u001b[0m\u001b[0;34m)\u001b[0m\u001b[0;34m\u001b[0m\u001b[0;34m\u001b[0m\u001b[0m\n\u001b[1;32m    228\u001b[0m             \u001b[0;32mraise\u001b[0m \u001b[0mexception_class\u001b[0m\u001b[0;34m(\u001b[0m\u001b[0mmessage\u001b[0m\u001b[0;34m,\u001b[0m \u001b[0mscreen\u001b[0m\u001b[0;34m,\u001b[0m \u001b[0mstacktrace\u001b[0m\u001b[0;34m,\u001b[0m \u001b[0malert_text\u001b[0m\u001b[0;34m)\u001b[0m  \u001b[0;31m# type: ignore[call-arg]  # mypy is not smart enough here\u001b[0m\u001b[0;34m\u001b[0m\u001b[0;34m\u001b[0m\u001b[0m\n\u001b[0;32m--> 229\u001b[0;31m         \u001b[0;32mraise\u001b[0m \u001b[0mexception_class\u001b[0m\u001b[0;34m(\u001b[0m\u001b[0mmessage\u001b[0m\u001b[0;34m,\u001b[0m \u001b[0mscreen\u001b[0m\u001b[0;34m,\u001b[0m \u001b[0mstacktrace\u001b[0m\u001b[0;34m)\u001b[0m\u001b[0;34m\u001b[0m\u001b[0;34m\u001b[0m\u001b[0m\n\u001b[0m",
      "\u001b[0;31mWebDriverException\u001b[0m: Message: disconnected: not connected to DevTools\n  (failed to check if window was closed: disconnected: not connected to DevTools)\n  (Session info: chrome=124.0.6367.91)\nStacktrace:\n0   chromedriver                        0x00000001043f8a18 chromedriver + 5216792\n1   chromedriver                        0x00000001043f0653 chromedriver + 5183059\n2   chromedriver                        0x0000000103f62527 chromedriver + 406823\n3   chromedriver                        0x0000000103f4859e chromedriver + 300446\n4   chromedriver                        0x0000000103f48493 chromedriver + 300179\n5   chromedriver                        0x0000000103f648b2 chromedriver + 415922\n6   chromedriver                        0x0000000103fef05b chromedriver + 983131\n7   chromedriver                        0x0000000103fd04a3 chromedriver + 857251\n8   chromedriver                        0x0000000103fa0fe3 chromedriver + 663523\n9   chromedriver                        0x0000000103fa192e chromedriver + 665902\n10  chromedriver                        0x00000001043b6930 chromedriver + 4946224\n11  chromedriver                        0x00000001043bc9e4 chromedriver + 4970980\n12  chromedriver                        0x000000010439742e chromedriver + 4817966\n13  chromedriver                        0x00000001043bd4f9 chromedriver + 4973817\n14  chromedriver                        0x00000001043876b4 chromedriver + 4753076\n15  chromedriver                        0x00000001043dfba8 chromedriver + 5114792\n16  chromedriver                        0x00000001043dfd67 chromedriver + 5115239\n17  chromedriver                        0x00000001043f0273 chromedriver + 5182067\n18  libsystem_pthread.dylib             0x00007fff206ba954 _pthread_start + 224\n19  libsystem_pthread.dylib             0x00007fff206b64a7 thread_start + 15\n"
     ]
    }
   ],
   "source": [
    "driver = webdriver.Chrome()\n",
    "\n",
    "url = \"https://www.imdb.com/?ref_=nv_home\"\n",
    "\n",
    "driver.get(url)\n",
    "\n",
    "driver.maximize_window()\n",
    "\n",
    "sleep(5)\n",
    "\n",
    "# Aceptar las cookies PAG IMDB\n",
    "driver.find_element(\"css selector\", \"#__next > div > div > div.sc-jrcTuL.bPmWiM > div > button.icb-btn.sc-bcXHqe.sc-dkrFOg.sc-iBYQkv.dcvrLS.ddtuHe.dRCGjd\").click()\n",
    "\n",
    "sleep(5)\n",
    "\n",
    "\n",
    "## CAMBIAR A TUPLA\n",
    "diccionario_peliculas = {\"pais\":[], \"Genero\": [], \"title\": []}\n",
    "\n",
    "\n",
    "#crear lista con los id de imdb\n",
    "lista_id = df[\"imdb\"].to_list()\n",
    "\n",
    "\n",
    "\"\"\"contador = 2000\n",
    "maximo = 3000\n",
    "intentos = 0 \n",
    "antiguo_contador = 0 \n",
    "\n",
    "while contador <2001:\n",
    "\n",
    "    try:\"\"\"\n",
    "\n",
    "for pelicula in lista_id:   # [contador:maximo+1]\n",
    "                        \n",
    "            #Accedemos al buscador e introduccimos la peli para buscar PAG IMDB\n",
    "            driver.find_element(\"css selector\",'#suggestion-search').send_keys(pelicula, Keys.ENTER)\n",
    "\n",
    "            sleep(random.randint(5,12))\n",
    "\n",
    "            # buscar origen\n",
    "            try:\n",
    "                diccionario_peliculas[\"pais\"].append(driver.find_element(\"css selector\", 'section.ipc-page-section:nth-child(45) ').text)\n",
    "            except:\n",
    "                diccionario_peliculas[\"pais\"].append(f\"Error nombre para la pelicula con id: {pelicula}\")\n",
    "                \n",
    "            # buscar genero\n",
    "            try: \n",
    "                diccionario_peliculas[\"Genero\"].append(driver.find_element(\"css selector\",'ul.ipc-metadata-list:nth-child(4) > li:nth-child(2) > div:nth-child(2) ').text)\n",
    "                \n",
    "            except:  \n",
    "                diccionario_peliculas[\"Genero\"].append(\"--\")        \n",
    "\n",
    "\n",
    "        \n",
    "           # contador += 1\n",
    "\n",
    "   # except:\n",
    "print(f\"ha fallado la pelicula {pelicula}\")\n",
    "\"\"\" if antiguo_contador == contador:\n",
    "            intentos += 1\n",
    "            if intentos == 4:\n",
    "                sleep(20)\n",
    "                intentos = 0\n",
    "                driver.back()\n",
    "        else:\n",
    "            intentos += 1\n",
    "            antiguo_contador = contador\"\"\"\n",
    "\n",
    "\n",
    "### REVISAR:\n",
    "# Lista de tuplas"
   ]
  },
  {
   "cell_type": "code",
   "execution_count": null,
   "metadata": {},
   "outputs": [],
   "source": [
    "section.ipc-page-section:nth-child(45) \n",
    "\n",
    "ul.ipc-metadata-list:nth-child(4) > li:nth-child(2) > div:nth-child(2)\n",
    "\n",
    "ul.ipc-metadata-list:nth-child(4) > li:nth-child(2) > div:nth-child(2) "
   ]
  }
 ],
 "metadata": {
  "kernelspec": {
   "display_name": "base",
   "language": "python",
   "name": "python3"
  },
  "language_info": {
   "codemirror_mode": {
    "name": "ipython",
    "version": 3
   },
   "file_extension": ".py",
   "mimetype": "text/x-python",
   "name": "python",
   "nbconvert_exporter": "python",
   "pygments_lexer": "ipython3",
   "version": "3.9.7"
  }
 },
 "nbformat": 4,
 "nbformat_minor": 2
}

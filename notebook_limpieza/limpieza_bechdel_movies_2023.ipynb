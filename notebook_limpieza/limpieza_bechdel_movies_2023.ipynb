{
 "cells": [
  {
   "cell_type": "code",
   "execution_count": 186,
   "metadata": {},
   "outputs": [],
   "source": [
    "import numpy as np\n",
    "import pandas as pd\n",
    "\n",
    "pd.set_option('display.max_columns', None)\n"
   ]
  },
  {
   "cell_type": "code",
   "execution_count": 187,
   "metadata": {},
   "outputs": [
    {
     "data": {
      "text/html": [
       "<div>\n",
       "<style scoped>\n",
       "    .dataframe tbody tr th:only-of-type {\n",
       "        vertical-align: middle;\n",
       "    }\n",
       "\n",
       "    .dataframe tbody tr th {\n",
       "        vertical-align: top;\n",
       "    }\n",
       "\n",
       "    .dataframe thead th {\n",
       "        text-align: right;\n",
       "    }\n",
       "</style>\n",
       "<table border=\"1\" class=\"dataframe\">\n",
       "  <thead>\n",
       "    <tr style=\"text-align: right;\">\n",
       "      <th></th>\n",
       "      <th>year</th>\n",
       "      <th>rating</th>\n",
       "      <th>dubious</th>\n",
       "      <th>imdbid</th>\n",
       "      <th>id</th>\n",
       "      <th>submitterid</th>\n",
       "      <th>date</th>\n",
       "      <th>visible</th>\n",
       "    </tr>\n",
       "    <tr>\n",
       "      <th>title</th>\n",
       "      <th></th>\n",
       "      <th></th>\n",
       "      <th></th>\n",
       "      <th></th>\n",
       "      <th></th>\n",
       "      <th></th>\n",
       "      <th></th>\n",
       "      <th></th>\n",
       "    </tr>\n",
       "  </thead>\n",
       "  <tbody>\n",
       "    <tr>\n",
       "      <th>Passage de Venus</th>\n",
       "      <td>1874</td>\n",
       "      <td>0</td>\n",
       "      <td>0.0</td>\n",
       "      <td>3155794</td>\n",
       "      <td>9602</td>\n",
       "      <td>18880</td>\n",
       "      <td>2021-04-02 20:58</td>\n",
       "      <td>1</td>\n",
       "    </tr>\n",
       "    <tr>\n",
       "      <th>La Rosace Magique</th>\n",
       "      <td>1877</td>\n",
       "      <td>0</td>\n",
       "      <td>0.0</td>\n",
       "      <td>14495706</td>\n",
       "      <td>9804</td>\n",
       "      <td>19145</td>\n",
       "      <td>2021-05-11 0:11</td>\n",
       "      <td>1</td>\n",
       "    </tr>\n",
       "    <tr>\n",
       "      <th>Sallie Gardner at a Gallop</th>\n",
       "      <td>1878</td>\n",
       "      <td>0</td>\n",
       "      <td>0.0</td>\n",
       "      <td>2221420</td>\n",
       "      <td>9603</td>\n",
       "      <td>18882</td>\n",
       "      <td>2021-04-03 2:25</td>\n",
       "      <td>1</td>\n",
       "    </tr>\n",
       "    <tr>\n",
       "      <th>Le singe musicien</th>\n",
       "      <td>1878</td>\n",
       "      <td>0</td>\n",
       "      <td>0.0</td>\n",
       "      <td>12592084</td>\n",
       "      <td>9806</td>\n",
       "      <td>19151</td>\n",
       "      <td>2021-05-11 23:38</td>\n",
       "      <td>1</td>\n",
       "    </tr>\n",
       "    <tr>\n",
       "      <th>Athlete Swinging a Pick</th>\n",
       "      <td>1881</td>\n",
       "      <td>0</td>\n",
       "      <td>0.0</td>\n",
       "      <td>7816420</td>\n",
       "      <td>9816</td>\n",
       "      <td>19162</td>\n",
       "      <td>2021-05-13 1:32</td>\n",
       "      <td>1</td>\n",
       "    </tr>\n",
       "  </tbody>\n",
       "</table>\n",
       "</div>"
      ],
      "text/plain": [
       "                            year  rating  dubious    imdbid    id  \\\n",
       "title                                                               \n",
       "Passage de Venus            1874       0      0.0   3155794  9602   \n",
       "La Rosace Magique           1877       0      0.0  14495706  9804   \n",
       "Sallie Gardner at a Gallop  1878       0      0.0   2221420  9603   \n",
       "Le singe musicien           1878       0      0.0  12592084  9806   \n",
       "Athlete Swinging a Pick     1881       0      0.0   7816420  9816   \n",
       "\n",
       "                            submitterid              date  visible  \n",
       "title                                                               \n",
       "Passage de Venus                  18880  2021-04-02 20:58        1  \n",
       "La Rosace Magique                 19145   2021-05-11 0:11        1  \n",
       "Sallie Gardner at a Gallop        18882   2021-04-03 2:25        1  \n",
       "Le singe musicien                 19151  2021-05-11 23:38        1  \n",
       "Athlete Swinging a Pick           19162   2021-05-13 1:32        1  "
      ]
     },
     "execution_count": 187,
     "metadata": {},
     "output_type": "execute_result"
    }
   ],
   "source": [
    "df = pd.read_csv(\"/Users/maite/Desktop/ADALAB/modulo-4/ejercicios/promoG-modulo4-sprint2-pairprogramming-Maite-Mirna-Alejandra-/files_originales/bechdel_movies_2023_FEB.csv\", index_col = 0)\n",
    "df.head()"
   ]
  },
  {
   "cell_type": "code",
   "execution_count": 188,
   "metadata": {},
   "outputs": [
    {
     "data": {
      "text/plain": [
       "Index(['year', 'rating', 'dubious', 'imdbid', 'id', 'submitterid', 'date',\n",
       "       'visible'],\n",
       "      dtype='object')"
      ]
     },
     "execution_count": 188,
     "metadata": {},
     "output_type": "execute_result"
    }
   ],
   "source": [
    "df.columns"
   ]
  },
  {
   "cell_type": "code",
   "execution_count": 189,
   "metadata": {},
   "outputs": [],
   "source": [
    "columnas_a_eliminar = ['submitterid', 'date','visible']\n",
    "df_bechdel_movies_2023_limpio = df.drop(columnas_a_eliminar, axis=1)"
   ]
  },
  {
   "cell_type": "code",
   "execution_count": 190,
   "metadata": {},
   "outputs": [
    {
     "data": {
      "text/html": [
       "<div>\n",
       "<style scoped>\n",
       "    .dataframe tbody tr th:only-of-type {\n",
       "        vertical-align: middle;\n",
       "    }\n",
       "\n",
       "    .dataframe tbody tr th {\n",
       "        vertical-align: top;\n",
       "    }\n",
       "\n",
       "    .dataframe thead th {\n",
       "        text-align: right;\n",
       "    }\n",
       "</style>\n",
       "<table border=\"1\" class=\"dataframe\">\n",
       "  <thead>\n",
       "    <tr style=\"text-align: right;\">\n",
       "      <th></th>\n",
       "      <th>year</th>\n",
       "      <th>rating</th>\n",
       "      <th>dubious</th>\n",
       "      <th>imdbid</th>\n",
       "      <th>id</th>\n",
       "    </tr>\n",
       "    <tr>\n",
       "      <th>title</th>\n",
       "      <th></th>\n",
       "      <th></th>\n",
       "      <th></th>\n",
       "      <th></th>\n",
       "      <th></th>\n",
       "    </tr>\n",
       "  </thead>\n",
       "  <tbody>\n",
       "    <tr>\n",
       "      <th>Passage de Venus</th>\n",
       "      <td>1874</td>\n",
       "      <td>0</td>\n",
       "      <td>0.0</td>\n",
       "      <td>3155794</td>\n",
       "      <td>9602</td>\n",
       "    </tr>\n",
       "    <tr>\n",
       "      <th>La Rosace Magique</th>\n",
       "      <td>1877</td>\n",
       "      <td>0</td>\n",
       "      <td>0.0</td>\n",
       "      <td>14495706</td>\n",
       "      <td>9804</td>\n",
       "    </tr>\n",
       "    <tr>\n",
       "      <th>Sallie Gardner at a Gallop</th>\n",
       "      <td>1878</td>\n",
       "      <td>0</td>\n",
       "      <td>0.0</td>\n",
       "      <td>2221420</td>\n",
       "      <td>9603</td>\n",
       "    </tr>\n",
       "    <tr>\n",
       "      <th>Le singe musicien</th>\n",
       "      <td>1878</td>\n",
       "      <td>0</td>\n",
       "      <td>0.0</td>\n",
       "      <td>12592084</td>\n",
       "      <td>9806</td>\n",
       "    </tr>\n",
       "    <tr>\n",
       "      <th>Athlete Swinging a Pick</th>\n",
       "      <td>1881</td>\n",
       "      <td>0</td>\n",
       "      <td>0.0</td>\n",
       "      <td>7816420</td>\n",
       "      <td>9816</td>\n",
       "    </tr>\n",
       "  </tbody>\n",
       "</table>\n",
       "</div>"
      ],
      "text/plain": [
       "                            year  rating  dubious    imdbid    id\n",
       "title                                                            \n",
       "Passage de Venus            1874       0      0.0   3155794  9602\n",
       "La Rosace Magique           1877       0      0.0  14495706  9804\n",
       "Sallie Gardner at a Gallop  1878       0      0.0   2221420  9603\n",
       "Le singe musicien           1878       0      0.0  12592084  9806\n",
       "Athlete Swinging a Pick     1881       0      0.0   7816420  9816"
      ]
     },
     "execution_count": 190,
     "metadata": {},
     "output_type": "execute_result"
    }
   ],
   "source": [
    "df_bechdel_movies_2023_limpio.head()"
   ]
  },
  {
   "cell_type": "code",
   "execution_count": 191,
   "metadata": {},
   "outputs": [
    {
     "data": {
      "text/plain": [
       "2023"
      ]
     },
     "execution_count": 191,
     "metadata": {},
     "output_type": "execute_result"
    }
   ],
   "source": [
    "df_bechdel_movies_2023_limpio[\"year\"].max()"
   ]
  },
  {
   "cell_type": "code",
   "execution_count": 192,
   "metadata": {},
   "outputs": [],
   "source": [
    "# Define el diccionario de décadas\n",
    "decadas_dict = {\n",
    "    '1870s': range(1870, 1880),\n",
    "    '1880s': range(1880, 1890),\n",
    "    '1890s': range(1890, 1900),\n",
    "    '1900s': range(1900, 1910),\n",
    "    '1910s': range(1910, 1920),\n",
    "    '1920s': range(1920, 1930),\n",
    "    '1930s': range(1930, 1940),\n",
    "    '1940s': range(1940, 1950),\n",
    "    '1950s': range(1950, 1960),\n",
    "    '1960s': range(1960, 1970),\n",
    "    '1970s': range(1970, 1980),\n",
    "    '1980s': range(1980, 1990),\n",
    "    '1990s': range(1990, 2000),\n",
    "    '2000s': range(2000, 2010),\n",
    "    '2010s': range(2010, 2020),\n",
    "    '2020s': range(2020, 2030),\n",
    "    \n",
    "}\n",
    "\n",
    "# Asigna décadas\n",
    "def get_decade(year):\n",
    "    for decade, year_range in decadas_dict.items():\n",
    "        if int(year) in year_range:\n",
    "            return decade\n",
    "    # Manejo de excepciones: si el año no está en ningún rango de décadas, devuelve un valor predeterminado\n",
    "    return 'No disponible'\n",
    "\n",
    "\n",
    "# Aplica la función para crear la columna 'década'\n",
    "df_bechdel_movies_2023_limpio['década'] = df_bechdel_movies_2023_limpio['year'].apply(get_decade)\n"
   ]
  },
  {
   "cell_type": "code",
   "execution_count": 193,
   "metadata": {},
   "outputs": [
    {
     "name": "stdout",
     "output_type": "stream",
     "text": [
      "Empty DataFrame\n",
      "Columns: [year, rating, dubious, imdbid, id, década]\n",
      "Index: []\n"
     ]
    }
   ],
   "source": [
    "df_no_disponible = df_bechdel_movies_2023_limpio[df_bechdel_movies_2023_limpio['década'] == \"No disponible\"]\n",
    "\n",
    "# Mostrar las filas donde 'década' es \"No disponible\"\n",
    "print(df_no_disponible)"
   ]
  },
  {
   "cell_type": "code",
   "execution_count": 194,
   "metadata": {},
   "outputs": [
    {
     "data": {
      "text/plain": [
       "False"
      ]
     },
     "execution_count": 194,
     "metadata": {},
     "output_type": "execute_result"
    }
   ],
   "source": [
    "df_bechdel_movies_2023_limpio[\"year\"].isnull().any()"
   ]
  },
  {
   "cell_type": "code",
   "execution_count": 195,
   "metadata": {},
   "outputs": [
    {
     "data": {
      "text/plain": [
       "2010s    3391\n",
       "2000s    2307\n",
       "1990s    1139\n",
       "1980s     700\n",
       "2020s     486\n",
       "1970s     465\n",
       "1960s     417\n",
       "1950s     306\n",
       "1940s     246\n",
       "1930s     207\n",
       "1920s      83\n",
       "1890s      67\n",
       "1900s      42\n",
       "1910s      26\n",
       "1880s      16\n",
       "1870s       4\n",
       "Name: década, dtype: int64"
      ]
     },
     "execution_count": 195,
     "metadata": {},
     "output_type": "execute_result"
    }
   ],
   "source": [
    "df_bechdel_movies_2023_limpio[\"década\"].value_counts()"
   ]
  },
  {
   "cell_type": "code",
   "execution_count": 196,
   "metadata": {},
   "outputs": [
    {
     "data": {
      "text/html": [
       "<div>\n",
       "<style scoped>\n",
       "    .dataframe tbody tr th:only-of-type {\n",
       "        vertical-align: middle;\n",
       "    }\n",
       "\n",
       "    .dataframe tbody tr th {\n",
       "        vertical-align: top;\n",
       "    }\n",
       "\n",
       "    .dataframe thead th {\n",
       "        text-align: right;\n",
       "    }\n",
       "</style>\n",
       "<table border=\"1\" class=\"dataframe\">\n",
       "  <thead>\n",
       "    <tr style=\"text-align: right;\">\n",
       "      <th></th>\n",
       "      <th>year</th>\n",
       "      <th>rating</th>\n",
       "      <th>dubious</th>\n",
       "      <th>imdbid</th>\n",
       "      <th>id</th>\n",
       "      <th>década</th>\n",
       "    </tr>\n",
       "    <tr>\n",
       "      <th>title</th>\n",
       "      <th></th>\n",
       "      <th></th>\n",
       "      <th></th>\n",
       "      <th></th>\n",
       "      <th></th>\n",
       "      <th></th>\n",
       "    </tr>\n",
       "  </thead>\n",
       "  <tbody>\n",
       "    <tr>\n",
       "      <th>Passage de Venus</th>\n",
       "      <td>1874</td>\n",
       "      <td>0</td>\n",
       "      <td>0.0</td>\n",
       "      <td>3155794</td>\n",
       "      <td>9602</td>\n",
       "      <td>1870s</td>\n",
       "    </tr>\n",
       "    <tr>\n",
       "      <th>La Rosace Magique</th>\n",
       "      <td>1877</td>\n",
       "      <td>0</td>\n",
       "      <td>0.0</td>\n",
       "      <td>14495706</td>\n",
       "      <td>9804</td>\n",
       "      <td>1870s</td>\n",
       "    </tr>\n",
       "    <tr>\n",
       "      <th>Sallie Gardner at a Gallop</th>\n",
       "      <td>1878</td>\n",
       "      <td>0</td>\n",
       "      <td>0.0</td>\n",
       "      <td>2221420</td>\n",
       "      <td>9603</td>\n",
       "      <td>1870s</td>\n",
       "    </tr>\n",
       "    <tr>\n",
       "      <th>Le singe musicien</th>\n",
       "      <td>1878</td>\n",
       "      <td>0</td>\n",
       "      <td>0.0</td>\n",
       "      <td>12592084</td>\n",
       "      <td>9806</td>\n",
       "      <td>1870s</td>\n",
       "    </tr>\n",
       "    <tr>\n",
       "      <th>Athlete Swinging a Pick</th>\n",
       "      <td>1881</td>\n",
       "      <td>0</td>\n",
       "      <td>0.0</td>\n",
       "      <td>7816420</td>\n",
       "      <td>9816</td>\n",
       "      <td>1880s</td>\n",
       "    </tr>\n",
       "  </tbody>\n",
       "</table>\n",
       "</div>"
      ],
      "text/plain": [
       "                            year  rating  dubious    imdbid    id década\n",
       "title                                                                   \n",
       "Passage de Venus            1874       0      0.0   3155794  9602  1870s\n",
       "La Rosace Magique           1877       0      0.0  14495706  9804  1870s\n",
       "Sallie Gardner at a Gallop  1878       0      0.0   2221420  9603  1870s\n",
       "Le singe musicien           1878       0      0.0  12592084  9806  1870s\n",
       "Athlete Swinging a Pick     1881       0      0.0   7816420  9816  1880s"
      ]
     },
     "execution_count": 196,
     "metadata": {},
     "output_type": "execute_result"
    }
   ],
   "source": [
    "df_bechdel_movies_2023_limpio.head()"
   ]
  },
  {
   "cell_type": "code",
   "execution_count": 197,
   "metadata": {},
   "outputs": [
    {
     "data": {
      "text/plain": [
       "Index(['year', 'rating', 'dubious', 'imdbid', 'id', 'submitterid', 'date',\n",
       "       'visible'],\n",
       "      dtype='object')"
      ]
     },
     "execution_count": 197,
     "metadata": {},
     "output_type": "execute_result"
    }
   ],
   "source": [
    "df.columns"
   ]
  },
  {
   "cell_type": "code",
   "execution_count": 198,
   "metadata": {},
   "outputs": [],
   "source": [
    "df_bechdel_movies_2023_limpio['title'] = df_bechdel_movies_2023_limpio.index  "
   ]
  },
  {
   "cell_type": "code",
   "execution_count": 199,
   "metadata": {},
   "outputs": [
    {
     "data": {
      "text/html": [
       "<div>\n",
       "<style scoped>\n",
       "    .dataframe tbody tr th:only-of-type {\n",
       "        vertical-align: middle;\n",
       "    }\n",
       "\n",
       "    .dataframe tbody tr th {\n",
       "        vertical-align: top;\n",
       "    }\n",
       "\n",
       "    .dataframe thead th {\n",
       "        text-align: right;\n",
       "    }\n",
       "</style>\n",
       "<table border=\"1\" class=\"dataframe\">\n",
       "  <thead>\n",
       "    <tr style=\"text-align: right;\">\n",
       "      <th></th>\n",
       "      <th>year</th>\n",
       "      <th>rating</th>\n",
       "      <th>dubious</th>\n",
       "      <th>imdbid</th>\n",
       "      <th>id</th>\n",
       "      <th>década</th>\n",
       "      <th>title</th>\n",
       "    </tr>\n",
       "    <tr>\n",
       "      <th>title</th>\n",
       "      <th></th>\n",
       "      <th></th>\n",
       "      <th></th>\n",
       "      <th></th>\n",
       "      <th></th>\n",
       "      <th></th>\n",
       "      <th></th>\n",
       "    </tr>\n",
       "  </thead>\n",
       "  <tbody>\n",
       "    <tr>\n",
       "      <th>Passage de Venus</th>\n",
       "      <td>1874</td>\n",
       "      <td>0</td>\n",
       "      <td>0.0</td>\n",
       "      <td>3155794</td>\n",
       "      <td>9602</td>\n",
       "      <td>1870s</td>\n",
       "      <td>Passage de Venus</td>\n",
       "    </tr>\n",
       "    <tr>\n",
       "      <th>La Rosace Magique</th>\n",
       "      <td>1877</td>\n",
       "      <td>0</td>\n",
       "      <td>0.0</td>\n",
       "      <td>14495706</td>\n",
       "      <td>9804</td>\n",
       "      <td>1870s</td>\n",
       "      <td>La Rosace Magique</td>\n",
       "    </tr>\n",
       "    <tr>\n",
       "      <th>Sallie Gardner at a Gallop</th>\n",
       "      <td>1878</td>\n",
       "      <td>0</td>\n",
       "      <td>0.0</td>\n",
       "      <td>2221420</td>\n",
       "      <td>9603</td>\n",
       "      <td>1870s</td>\n",
       "      <td>Sallie Gardner at a Gallop</td>\n",
       "    </tr>\n",
       "    <tr>\n",
       "      <th>Le singe musicien</th>\n",
       "      <td>1878</td>\n",
       "      <td>0</td>\n",
       "      <td>0.0</td>\n",
       "      <td>12592084</td>\n",
       "      <td>9806</td>\n",
       "      <td>1870s</td>\n",
       "      <td>Le singe musicien</td>\n",
       "    </tr>\n",
       "    <tr>\n",
       "      <th>Athlete Swinging a Pick</th>\n",
       "      <td>1881</td>\n",
       "      <td>0</td>\n",
       "      <td>0.0</td>\n",
       "      <td>7816420</td>\n",
       "      <td>9816</td>\n",
       "      <td>1880s</td>\n",
       "      <td>Athlete Swinging a Pick</td>\n",
       "    </tr>\n",
       "  </tbody>\n",
       "</table>\n",
       "</div>"
      ],
      "text/plain": [
       "                            year  rating  dubious    imdbid    id década  \\\n",
       "title                                                                      \n",
       "Passage de Venus            1874       0      0.0   3155794  9602  1870s   \n",
       "La Rosace Magique           1877       0      0.0  14495706  9804  1870s   \n",
       "Sallie Gardner at a Gallop  1878       0      0.0   2221420  9603  1870s   \n",
       "Le singe musicien           1878       0      0.0  12592084  9806  1870s   \n",
       "Athlete Swinging a Pick     1881       0      0.0   7816420  9816  1880s   \n",
       "\n",
       "                                                 title  \n",
       "title                                                   \n",
       "Passage de Venus                      Passage de Venus  \n",
       "La Rosace Magique                    La Rosace Magique  \n",
       "Sallie Gardner at a Gallop  Sallie Gardner at a Gallop  \n",
       "Le singe musicien                    Le singe musicien  \n",
       "Athlete Swinging a Pick        Athlete Swinging a Pick  "
      ]
     },
     "execution_count": 199,
     "metadata": {},
     "output_type": "execute_result"
    }
   ],
   "source": [
    "df_bechdel_movies_2023_limpio.head()"
   ]
  },
  {
   "cell_type": "code",
   "execution_count": 200,
   "metadata": {},
   "outputs": [
    {
     "data": {
      "text/plain": [
       "2010s    3391\n",
       "2000s    2307\n",
       "1990s    1139\n",
       "1980s     700\n",
       "2020s     486\n",
       "1970s     465\n",
       "1960s     417\n",
       "1950s     306\n",
       "1940s     246\n",
       "1930s     207\n",
       "1920s      83\n",
       "1890s      67\n",
       "1900s      42\n",
       "1910s      26\n",
       "1880s      16\n",
       "1870s       4\n",
       "Name: década, dtype: int64"
      ]
     },
     "execution_count": 200,
     "metadata": {},
     "output_type": "execute_result"
    }
   ],
   "source": [
    "df_bechdel_movies_2023_limpio[\"década\"].value_counts()"
   ]
  },
  {
   "cell_type": "code",
   "execution_count": 201,
   "metadata": {},
   "outputs": [
    {
     "data": {
      "text/html": [
       "<div>\n",
       "<style scoped>\n",
       "    .dataframe tbody tr th:only-of-type {\n",
       "        vertical-align: middle;\n",
       "    }\n",
       "\n",
       "    .dataframe tbody tr th {\n",
       "        vertical-align: top;\n",
       "    }\n",
       "\n",
       "    .dataframe thead th {\n",
       "        text-align: right;\n",
       "    }\n",
       "</style>\n",
       "<table border=\"1\" class=\"dataframe\">\n",
       "  <thead>\n",
       "    <tr style=\"text-align: right;\">\n",
       "      <th></th>\n",
       "      <th>year</th>\n",
       "      <th>rating</th>\n",
       "      <th>dubious</th>\n",
       "      <th>imdbid</th>\n",
       "      <th>id</th>\n",
       "      <th>década</th>\n",
       "      <th>title</th>\n",
       "    </tr>\n",
       "    <tr>\n",
       "      <th>title</th>\n",
       "      <th></th>\n",
       "      <th></th>\n",
       "      <th></th>\n",
       "      <th></th>\n",
       "      <th></th>\n",
       "      <th></th>\n",
       "      <th></th>\n",
       "    </tr>\n",
       "  </thead>\n",
       "  <tbody>\n",
       "    <tr>\n",
       "      <th>Passage de Venus</th>\n",
       "      <td>1874</td>\n",
       "      <td>0</td>\n",
       "      <td>0.0</td>\n",
       "      <td>3155794</td>\n",
       "      <td>9602</td>\n",
       "      <td>1870s</td>\n",
       "      <td>Passage de Venus</td>\n",
       "    </tr>\n",
       "    <tr>\n",
       "      <th>La Rosace Magique</th>\n",
       "      <td>1877</td>\n",
       "      <td>0</td>\n",
       "      <td>0.0</td>\n",
       "      <td>14495706</td>\n",
       "      <td>9804</td>\n",
       "      <td>1870s</td>\n",
       "      <td>La Rosace Magique</td>\n",
       "    </tr>\n",
       "    <tr>\n",
       "      <th>Sallie Gardner at a Gallop</th>\n",
       "      <td>1878</td>\n",
       "      <td>0</td>\n",
       "      <td>0.0</td>\n",
       "      <td>2221420</td>\n",
       "      <td>9603</td>\n",
       "      <td>1870s</td>\n",
       "      <td>Sallie Gardner at a Gallop</td>\n",
       "    </tr>\n",
       "    <tr>\n",
       "      <th>Le singe musicien</th>\n",
       "      <td>1878</td>\n",
       "      <td>0</td>\n",
       "      <td>0.0</td>\n",
       "      <td>12592084</td>\n",
       "      <td>9806</td>\n",
       "      <td>1870s</td>\n",
       "      <td>Le singe musicien</td>\n",
       "    </tr>\n",
       "    <tr>\n",
       "      <th>Athlete Swinging a Pick</th>\n",
       "      <td>1881</td>\n",
       "      <td>0</td>\n",
       "      <td>0.0</td>\n",
       "      <td>7816420</td>\n",
       "      <td>9816</td>\n",
       "      <td>1880s</td>\n",
       "      <td>Athlete Swinging a Pick</td>\n",
       "    </tr>\n",
       "    <tr>\n",
       "      <th>...</th>\n",
       "      <td>...</td>\n",
       "      <td>...</td>\n",
       "      <td>...</td>\n",
       "      <td>...</td>\n",
       "      <td>...</td>\n",
       "      <td>...</td>\n",
       "      <td>...</td>\n",
       "    </tr>\n",
       "    <tr>\n",
       "      <th>Spider-Man: No Way Home</th>\n",
       "      <td>2021</td>\n",
       "      <td>3</td>\n",
       "      <td>1.0</td>\n",
       "      <td>10872600</td>\n",
       "      <td>10166</td>\n",
       "      <td>2020s</td>\n",
       "      <td>Spider-Man: No Way Home</td>\n",
       "    </tr>\n",
       "    <tr>\n",
       "      <th>Timeless</th>\n",
       "      <td>2018</td>\n",
       "      <td>3</td>\n",
       "      <td>0.0</td>\n",
       "      <td>5511582</td>\n",
       "      <td>10165</td>\n",
       "      <td>2010s</td>\n",
       "      <td>Timeless</td>\n",
       "    </tr>\n",
       "    <tr>\n",
       "      <th>Red Notice</th>\n",
       "      <td>2021</td>\n",
       "      <td>1</td>\n",
       "      <td>0.0</td>\n",
       "      <td>7991608</td>\n",
       "      <td>10164</td>\n",
       "      <td>2020s</td>\n",
       "      <td>Red Notice</td>\n",
       "    </tr>\n",
       "    <tr>\n",
       "      <th>Abbott and Costello Meet Frankenstein</th>\n",
       "      <td>1948</td>\n",
       "      <td>3</td>\n",
       "      <td>0.0</td>\n",
       "      <td>40068</td>\n",
       "      <td>10163</td>\n",
       "      <td>1940s</td>\n",
       "      <td>Abbott and Costello Meet Frankenstein</td>\n",
       "    </tr>\n",
       "    <tr>\n",
       "      <th>Moomins on the Riviera</th>\n",
       "      <td>2014</td>\n",
       "      <td>3</td>\n",
       "      <td>0.0</td>\n",
       "      <td>2371399</td>\n",
       "      <td>10162</td>\n",
       "      <td>2010s</td>\n",
       "      <td>Moomins on the Riviera</td>\n",
       "    </tr>\n",
       "  </tbody>\n",
       "</table>\n",
       "<p>9902 rows × 7 columns</p>\n",
       "</div>"
      ],
      "text/plain": [
       "                                       year  rating  dubious    imdbid     id  \\\n",
       "title                                                                           \n",
       "Passage de Venus                       1874       0      0.0   3155794   9602   \n",
       "La Rosace Magique                      1877       0      0.0  14495706   9804   \n",
       "Sallie Gardner at a Gallop             1878       0      0.0   2221420   9603   \n",
       "Le singe musicien                      1878       0      0.0  12592084   9806   \n",
       "Athlete Swinging a Pick                1881       0      0.0   7816420   9816   \n",
       "...                                     ...     ...      ...       ...    ...   \n",
       "Spider-Man: No Way Home                2021       3      1.0  10872600  10166   \n",
       "Timeless                               2018       3      0.0   5511582  10165   \n",
       "Red Notice                             2021       1      0.0   7991608  10164   \n",
       "Abbott and Costello Meet Frankenstein  1948       3      0.0     40068  10163   \n",
       "Moomins on the Riviera                 2014       3      0.0   2371399  10162   \n",
       "\n",
       "                                      década  \\\n",
       "title                                          \n",
       "Passage de Venus                       1870s   \n",
       "La Rosace Magique                      1870s   \n",
       "Sallie Gardner at a Gallop             1870s   \n",
       "Le singe musicien                      1870s   \n",
       "Athlete Swinging a Pick                1880s   \n",
       "...                                      ...   \n",
       "Spider-Man: No Way Home                2020s   \n",
       "Timeless                               2010s   \n",
       "Red Notice                             2020s   \n",
       "Abbott and Costello Meet Frankenstein  1940s   \n",
       "Moomins on the Riviera                 2010s   \n",
       "\n",
       "                                                                       title  \n",
       "title                                                                         \n",
       "Passage de Venus                                            Passage de Venus  \n",
       "La Rosace Magique                                          La Rosace Magique  \n",
       "Sallie Gardner at a Gallop                        Sallie Gardner at a Gallop  \n",
       "Le singe musicien                                          Le singe musicien  \n",
       "Athlete Swinging a Pick                              Athlete Swinging a Pick  \n",
       "...                                                                      ...  \n",
       "Spider-Man: No Way Home                              Spider-Man: No Way Home  \n",
       "Timeless                                                            Timeless  \n",
       "Red Notice                                                        Red Notice  \n",
       "Abbott and Costello Meet Frankenstein  Abbott and Costello Meet Frankenstein  \n",
       "Moomins on the Riviera                                Moomins on the Riviera  \n",
       "\n",
       "[9902 rows x 7 columns]"
      ]
     },
     "execution_count": 201,
     "metadata": {},
     "output_type": "execute_result"
    }
   ],
   "source": [
    "df_bechdel_movies_2023_limpio"
   ]
  },
  {
   "cell_type": "code",
   "execution_count": 202,
   "metadata": {},
   "outputs": [],
   "source": [
    "# Limpiar los títulos de las películas\n",
    "def limpiar_titulo(title):\n",
    "    # Eliminar comillas si están presentes\n",
    "    title = title.replace('\"', '')\n",
    "    # Si el título termina con \", The\", ajustar el formato\n",
    "    if title.endswith(', The'):\n",
    "        title = 'The ' + title[:-5]  # Mover \"The\" al principio del título\n",
    "    return title\n",
    "\n",
    "# Aplicar la función de limpieza a la columna 'titulo'\n",
    "df_bechdel_movies_2023_limpio['title'] = df_bechdel_movies_2023_limpio['title'].apply(limpiar_titulo)"
   ]
  },
  {
   "cell_type": "code",
   "execution_count": 203,
   "metadata": {},
   "outputs": [
    {
     "name": "stdout",
     "output_type": "stream",
     "text": [
      "642\n"
     ]
    }
   ],
   "source": [
    "df_ver = df_bechdel_movies_2023_limpio[df_bechdel_movies_2023_limpio[\"title\"].str.contains(\"&\")]\n",
    "print(len(df_ver))\n"
   ]
  },
  {
   "cell_type": "code",
   "execution_count": 204,
   "metadata": {},
   "outputs": [],
   "source": [
    "# Limpiar los títulos de las películas, segunda parte (&)\n",
    "def limpiar_titulo(title):\n",
    "    # sustituir \n",
    "    title = title.replace('&amp;', 'and')\n",
    "    title = title.replace('&#39;', '´')\n",
    "    title = title.replace('&eacute;', 'é')\n",
    "    title = title.replace('&egrave;', 'è')\n",
    "    title = title.replace('&agrave;', 'à')\n",
    "    title = title.replace('&#150;&nbsp;', '-')\n",
    "    title = title.replace('&#305;', 'i')\n",
    "    title = title.replace('&quot;', '')\n",
    "    title = title.replace('&ouml;', 'ö')\n",
    "    title = title.replace('&auml;', 'ä')\n",
    "    title = title.replace('&uuml;', 'ü')\n",
    "    title = title.replace('#146;', '´')\n",
    "    title = title.replace('&iacute;', 'í')\n",
    "    title = title.replace('&eth;', 'd')\n",
    "    title = title.replace('&ocirc;', 'ô')\n",
    "    title = title.replace('&ucirc;', 'û')\n",
    "    title = title.replace('&acute;', '´')\n",
    "    title = title.replace('&frac12;', '1/2')\n",
    "    title = title.replace('&ograve;', 'ò')\n",
    "    title = title.replace('d&#146;', 'd´')\n",
    "    title = title.replace('&ugrave;', 'ù')\n",
    "    title = title.replace('&#378;', 'z')\n",
    "    title = title.replace('&euml;', 'ë')\n",
    "    title = title.replace('&Aacute;', 'Á')\n",
    "    title = title.replace('&aacute;', 'á')\n",
    "    title = title.replace('&oslash;', 'o')\n",
    "    title = title.replace('&acirc;', 'â')\n",
    "    title = title.replace('&#146;t', '´t')\n",
    "    title = title.replace('&ntilde;', 'ñ')\n",
    "    title = title.replace('&oacute;', 'ó')\n",
    "    title = title.replace('&atilde;o', 'a')\n",
    "    title = title.replace('&Ecirc;', 'ê')\n",
    "    \n",
    "    # Si el título termina con \", The\", ajustar el formato\n",
    "    if title.endswith(', The'):\n",
    "        title = 'The ' + title[:-5]  # Mover \"The\" al principio del título\n",
    "    return title\n",
    "\n",
    "# Aplicar la función de limpieza a la columna 'titulo'\n",
    "df_bechdel_movies_2023_limpio['title'] = df_bechdel_movies_2023_limpio['title'].apply(limpiar_titulo)"
   ]
  },
  {
   "cell_type": "code",
   "execution_count": 205,
   "metadata": {},
   "outputs": [
    {
     "name": "stdout",
     "output_type": "stream",
     "text": [
      "14\n"
     ]
    }
   ],
   "source": [
    "df_ver = df_bechdel_movies_2023_limpio[df_bechdel_movies_2023_limpio[\"title\"].str.contains(\"&\")]\n",
    "print(len(df_ver))"
   ]
  },
  {
   "cell_type": "code",
   "execution_count": 206,
   "metadata": {},
   "outputs": [
    {
     "name": "stdout",
     "output_type": "stream",
     "text": [
      "                                                    year  rating  dubious  \\\n",
      "title                                                                       \n",
      "Les Douze Travaux d&#146;Ast&eacute;rix (the Tw...  1976       1      0.0   \n",
      "Gekij&ocirc;-ban - Bish&ocirc;jo senshi S&ecirc...  1993       3      0.0   \n",
      "Gekij&ocirc;-ban - Bish&ocirc;jo senshi S&ecirc...  1994       3      0.0   \n",
      "Se upp f&ouml;r d&aring;rarna                       2007       3      0.0   \n",
      "L&aring;t den r&auml;tte komma in (Let the Righ...  2008       1      0.0   \n",
      "En duva satt p&aring; en gren och funderade p&a...  2014       1      0.0   \n",
      "Temp&ecirc;te                                       2015       1      0.0   \n",
      "Gr&uuml;&szlig;e aus Fukushima (Greetings from ...  2016       3      0.0   \n",
      "Quiet Girl (An Cail&iacute;n Ci&uacute;in), The     2022       3      0.0   \n",
      "Bob&#146;s Burgers Movie, The                       2022       3      0.0   \n",
      "Tyler Perry&#146;s Diary of a mad black woman       2005       3      0.0   \n",
      "Scooby-Doo! and The Witch&#146;s Ghost              1999       3      0.0   \n",
      "You Don&#146;t Mess with the Zohan                  2008       1      1.0   \n",
      "Don&#146;t Look Up                                  2021       3      0.0   \n",
      "\n",
      "                                                      imdbid     id década  \\\n",
      "title                                                                        \n",
      "Les Douze Travaux d&#146;Ast&eacute;rix (the Tw...     72901   2530  1970s   \n",
      "Gekij&ocirc;-ban - Bish&ocirc;jo senshi S&ecirc...    106417   3330  1990s   \n",
      "Gekij&ocirc;-ban - Bish&ocirc;jo senshi S&ecirc...    109277   3331  1990s   \n",
      "Se upp f&ouml;r d&aring;rarna                         959342   4060  2000s   \n",
      "L&aring;t den r&auml;tte komma in (Let the Righ...   1139797    668  2000s   \n",
      "En duva satt p&aring; en gren och funderade p&a...   1883180   5965  2010s   \n",
      "Temp&ecirc;te                                        3757648   6716  2010s   \n",
      "Gr&uuml;&szlig;e aus Fukushima (Greetings from ...   4667788   7231  2010s   \n",
      "Quiet Girl (An Cail&iacute;n Ci&uacute;in), The     15109082  10510  2020s   \n",
      "Bob&#146;s Burgers Movie, The                        7466442  10413  2020s   \n",
      "Tyler Perry&#146;s Diary of a mad black woman         422093  10336  2000s   \n",
      "Scooby-Doo! and The Witch&#146;s Ghost                196931  10331  1990s   \n",
      "You Don&#146;t Mess with the Zohan                    960144  10311  2000s   \n",
      "Don&#146;t Look Up                                  11286314  10168  2020s   \n",
      "\n",
      "                                                                                                title  \n",
      "title                                                                                                  \n",
      "Les Douze Travaux d&#146;Ast&eacute;rix (the Tw...  Les Douze Travaux d&´Astérix (the Twelve Tasks...  \n",
      "Gekij&ocirc;-ban - Bish&ocirc;jo senshi S&ecirc...  Gekijô-ban - Bishôjo senshi S&ecirc;râ Mûn R (...  \n",
      "Gekij&ocirc;-ban - Bish&ocirc;jo senshi S&ecirc...  Gekijô-ban - Bishôjo senshi S&ecirc;râ Mûn S (...  \n",
      "Se upp f&ouml;r d&aring;rarna                                                Se upp för d&aring;rarna  \n",
      "L&aring;t den r&auml;tte komma in (Let the Righ...  L&aring;t den rätte komma in (Let the Right On...  \n",
      "En duva satt p&aring; en gren och funderade p&a...  En duva satt p&aring; en gren och funderade p&...  \n",
      "Temp&ecirc;te                                                                           Temp&ecirc;te  \n",
      "Gr&uuml;&szlig;e aus Fukushima (Greetings from ...  Grü&szlig;e aus Fukushima (Greetings from Fuku...  \n",
      "Quiet Girl (An Cail&iacute;n Ci&uacute;in), The               The Quiet Girl (An Cailín Ci&uacute;in)  \n",
      "Bob&#146;s Burgers Movie, The                                                The Bob&´s Burgers Movie  \n",
      "Tyler Perry&#146;s Diary of a mad black woman               Tyler Perry&´s Diary of a mad black woman  \n",
      "Scooby-Doo! and The Witch&#146;s Ghost                             Scooby-Doo! and The Witch&´s Ghost  \n",
      "You Don&#146;t Mess with the Zohan                                     You Don&´t Mess with the Zohan  \n",
      "Don&#146;t Look Up                                                                     Don&´t Look Up  \n"
     ]
    }
   ],
   "source": [
    "df_ver = df_bechdel_movies_2023_limpio[df_bechdel_movies_2023_limpio[\"title\"].str.contains(\"&\")]\n",
    "print(df_ver)"
   ]
  },
  {
   "cell_type": "code",
   "execution_count": 207,
   "metadata": {},
   "outputs": [
    {
     "name": "stdout",
     "output_type": "stream",
     "text": [
      "8\n"
     ]
    }
   ],
   "source": [
    "df_ver = df_bechdel_movies_2023_limpio[df_bechdel_movies_2023_limpio[\"title\"].str.contains(\"#\")]\n",
    "print(len(df_ver))"
   ]
  },
  {
   "cell_type": "code",
   "execution_count": 208,
   "metadata": {},
   "outputs": [],
   "source": [
    "df_bechdel_movies_2023_limpio.to_csv(\"bechdel_movies_2023_limpio.csv\")"
   ]
  }
 ],
 "metadata": {
  "kernelspec": {
   "display_name": "base",
   "language": "python",
   "name": "python3"
  },
  "language_info": {
   "codemirror_mode": {
    "name": "ipython",
    "version": 3
   },
   "file_extension": ".py",
   "mimetype": "text/x-python",
   "name": "python",
   "nbconvert_exporter": "python",
   "pygments_lexer": "ipython3",
   "version": "3.9.7"
  }
 },
 "nbformat": 4,
 "nbformat_minor": 2
}

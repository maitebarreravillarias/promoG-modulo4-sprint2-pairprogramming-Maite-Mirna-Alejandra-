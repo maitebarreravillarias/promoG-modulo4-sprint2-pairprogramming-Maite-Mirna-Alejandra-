{
 "cells": [
  {
   "cell_type": "code",
   "execution_count": 6,
   "metadata": {},
   "outputs": [],
   "source": [
    "import numpy as np\n",
    "import pandas as pd\n",
    "\n",
    "pd.set_option('display.max_columns', None)\n"
   ]
  },
  {
   "cell_type": "code",
   "execution_count": 7,
   "metadata": {},
   "outputs": [
    {
     "data": {
      "text/html": [
       "<div>\n",
       "<style scoped>\n",
       "    .dataframe tbody tr th:only-of-type {\n",
       "        vertical-align: middle;\n",
       "    }\n",
       "\n",
       "    .dataframe tbody tr th {\n",
       "        vertical-align: top;\n",
       "    }\n",
       "\n",
       "    .dataframe thead th {\n",
       "        text-align: right;\n",
       "    }\n",
       "</style>\n",
       "<table border=\"1\" class=\"dataframe\">\n",
       "  <thead>\n",
       "    <tr style=\"text-align: right;\">\n",
       "      <th></th>\n",
       "      <th>year</th>\n",
       "      <th>rating</th>\n",
       "      <th>dubious</th>\n",
       "      <th>imdbid</th>\n",
       "      <th>id</th>\n",
       "      <th>submitterid</th>\n",
       "      <th>date</th>\n",
       "      <th>visible</th>\n",
       "    </tr>\n",
       "    <tr>\n",
       "      <th>title</th>\n",
       "      <th></th>\n",
       "      <th></th>\n",
       "      <th></th>\n",
       "      <th></th>\n",
       "      <th></th>\n",
       "      <th></th>\n",
       "      <th></th>\n",
       "      <th></th>\n",
       "    </tr>\n",
       "  </thead>\n",
       "  <tbody>\n",
       "    <tr>\n",
       "      <th>Passage de Venus</th>\n",
       "      <td>1874</td>\n",
       "      <td>0</td>\n",
       "      <td>0.0</td>\n",
       "      <td>3155794</td>\n",
       "      <td>9602</td>\n",
       "      <td>18880</td>\n",
       "      <td>2021-04-02 20:58</td>\n",
       "      <td>1</td>\n",
       "    </tr>\n",
       "    <tr>\n",
       "      <th>La Rosace Magique</th>\n",
       "      <td>1877</td>\n",
       "      <td>0</td>\n",
       "      <td>0.0</td>\n",
       "      <td>14495706</td>\n",
       "      <td>9804</td>\n",
       "      <td>19145</td>\n",
       "      <td>2021-05-11 0:11</td>\n",
       "      <td>1</td>\n",
       "    </tr>\n",
       "    <tr>\n",
       "      <th>Sallie Gardner at a Gallop</th>\n",
       "      <td>1878</td>\n",
       "      <td>0</td>\n",
       "      <td>0.0</td>\n",
       "      <td>2221420</td>\n",
       "      <td>9603</td>\n",
       "      <td>18882</td>\n",
       "      <td>2021-04-03 2:25</td>\n",
       "      <td>1</td>\n",
       "    </tr>\n",
       "    <tr>\n",
       "      <th>Le singe musicien</th>\n",
       "      <td>1878</td>\n",
       "      <td>0</td>\n",
       "      <td>0.0</td>\n",
       "      <td>12592084</td>\n",
       "      <td>9806</td>\n",
       "      <td>19151</td>\n",
       "      <td>2021-05-11 23:38</td>\n",
       "      <td>1</td>\n",
       "    </tr>\n",
       "    <tr>\n",
       "      <th>Athlete Swinging a Pick</th>\n",
       "      <td>1881</td>\n",
       "      <td>0</td>\n",
       "      <td>0.0</td>\n",
       "      <td>7816420</td>\n",
       "      <td>9816</td>\n",
       "      <td>19162</td>\n",
       "      <td>2021-05-13 1:32</td>\n",
       "      <td>1</td>\n",
       "    </tr>\n",
       "  </tbody>\n",
       "</table>\n",
       "</div>"
      ],
      "text/plain": [
       "                            year  rating  dubious    imdbid    id  \\\n",
       "title                                                               \n",
       "Passage de Venus            1874       0      0.0   3155794  9602   \n",
       "La Rosace Magique           1877       0      0.0  14495706  9804   \n",
       "Sallie Gardner at a Gallop  1878       0      0.0   2221420  9603   \n",
       "Le singe musicien           1878       0      0.0  12592084  9806   \n",
       "Athlete Swinging a Pick     1881       0      0.0   7816420  9816   \n",
       "\n",
       "                            submitterid              date  visible  \n",
       "title                                                               \n",
       "Passage de Venus                  18880  2021-04-02 20:58        1  \n",
       "La Rosace Magique                 19145   2021-05-11 0:11        1  \n",
       "Sallie Gardner at a Gallop        18882   2021-04-03 2:25        1  \n",
       "Le singe musicien                 19151  2021-05-11 23:38        1  \n",
       "Athlete Swinging a Pick           19162   2021-05-13 1:32        1  "
      ]
     },
     "execution_count": 7,
     "metadata": {},
     "output_type": "execute_result"
    }
   ],
   "source": [
    "df = pd.read_csv(\"/Users/maite/Desktop/ADALAB/modulo-4/ejercicios/promoG-DA-modulo4-sprint2-Maite_Mirna-Alejandra/files_originales/bechdel_movies_2023_FEB.csv\", index_col = 0)\n",
    "df.head()"
   ]
  },
  {
   "cell_type": "code",
   "execution_count": 8,
   "metadata": {},
   "outputs": [
    {
     "data": {
      "text/plain": [
       "Index(['year', 'rating', 'dubious', 'imdbid', 'id', 'submitterid', 'date',\n",
       "       'visible'],\n",
       "      dtype='object')"
      ]
     },
     "execution_count": 8,
     "metadata": {},
     "output_type": "execute_result"
    }
   ],
   "source": [
    "df.columns"
   ]
  },
  {
   "cell_type": "code",
   "execution_count": 9,
   "metadata": {},
   "outputs": [],
   "source": [
    "columnas_a_eliminar = ['submitterid', 'date','visible']\n",
    "df_bechdel_movies_2023_limpio = df.drop(columnas_a_eliminar, axis=1)"
   ]
  },
  {
   "cell_type": "code",
   "execution_count": 10,
   "metadata": {},
   "outputs": [
    {
     "data": {
      "text/html": [
       "<div>\n",
       "<style scoped>\n",
       "    .dataframe tbody tr th:only-of-type {\n",
       "        vertical-align: middle;\n",
       "    }\n",
       "\n",
       "    .dataframe tbody tr th {\n",
       "        vertical-align: top;\n",
       "    }\n",
       "\n",
       "    .dataframe thead th {\n",
       "        text-align: right;\n",
       "    }\n",
       "</style>\n",
       "<table border=\"1\" class=\"dataframe\">\n",
       "  <thead>\n",
       "    <tr style=\"text-align: right;\">\n",
       "      <th></th>\n",
       "      <th>year</th>\n",
       "      <th>rating</th>\n",
       "      <th>dubious</th>\n",
       "      <th>imdbid</th>\n",
       "      <th>id</th>\n",
       "    </tr>\n",
       "    <tr>\n",
       "      <th>title</th>\n",
       "      <th></th>\n",
       "      <th></th>\n",
       "      <th></th>\n",
       "      <th></th>\n",
       "      <th></th>\n",
       "    </tr>\n",
       "  </thead>\n",
       "  <tbody>\n",
       "    <tr>\n",
       "      <th>Passage de Venus</th>\n",
       "      <td>1874</td>\n",
       "      <td>0</td>\n",
       "      <td>0.0</td>\n",
       "      <td>3155794</td>\n",
       "      <td>9602</td>\n",
       "    </tr>\n",
       "    <tr>\n",
       "      <th>La Rosace Magique</th>\n",
       "      <td>1877</td>\n",
       "      <td>0</td>\n",
       "      <td>0.0</td>\n",
       "      <td>14495706</td>\n",
       "      <td>9804</td>\n",
       "    </tr>\n",
       "    <tr>\n",
       "      <th>Sallie Gardner at a Gallop</th>\n",
       "      <td>1878</td>\n",
       "      <td>0</td>\n",
       "      <td>0.0</td>\n",
       "      <td>2221420</td>\n",
       "      <td>9603</td>\n",
       "    </tr>\n",
       "    <tr>\n",
       "      <th>Le singe musicien</th>\n",
       "      <td>1878</td>\n",
       "      <td>0</td>\n",
       "      <td>0.0</td>\n",
       "      <td>12592084</td>\n",
       "      <td>9806</td>\n",
       "    </tr>\n",
       "    <tr>\n",
       "      <th>Athlete Swinging a Pick</th>\n",
       "      <td>1881</td>\n",
       "      <td>0</td>\n",
       "      <td>0.0</td>\n",
       "      <td>7816420</td>\n",
       "      <td>9816</td>\n",
       "    </tr>\n",
       "  </tbody>\n",
       "</table>\n",
       "</div>"
      ],
      "text/plain": [
       "                            year  rating  dubious    imdbid    id\n",
       "title                                                            \n",
       "Passage de Venus            1874       0      0.0   3155794  9602\n",
       "La Rosace Magique           1877       0      0.0  14495706  9804\n",
       "Sallie Gardner at a Gallop  1878       0      0.0   2221420  9603\n",
       "Le singe musicien           1878       0      0.0  12592084  9806\n",
       "Athlete Swinging a Pick     1881       0      0.0   7816420  9816"
      ]
     },
     "execution_count": 10,
     "metadata": {},
     "output_type": "execute_result"
    }
   ],
   "source": [
    "df_bechdel_movies_2023_limpio.head()"
   ]
  },
  {
   "cell_type": "code",
   "execution_count": 11,
   "metadata": {},
   "outputs": [
    {
     "data": {
      "text/plain": [
       "2023"
      ]
     },
     "execution_count": 11,
     "metadata": {},
     "output_type": "execute_result"
    }
   ],
   "source": [
    "df_bechdel_movies_2023_limpio[\"year\"].max()"
   ]
  },
  {
   "cell_type": "code",
   "execution_count": 12,
   "metadata": {},
   "outputs": [],
   "source": [
    "# Define el diccionario de décadas\n",
    "decadas_dict = {\n",
    "    '1870s': range(1870, 1880),\n",
    "    '1880s': range(1880, 1890),\n",
    "    '1890s': range(1890, 1900),\n",
    "    '1900s': range(1900, 1910),\n",
    "    '1910s': range(1910, 1920),\n",
    "    '1920s': range(1920, 1930),\n",
    "    '1930s': range(1930, 1940),\n",
    "    '1940s': range(1940, 1950),\n",
    "    '1950s': range(1950, 1960),\n",
    "    '1960s': range(1960, 1970),\n",
    "    '1970s': range(1970, 1980),\n",
    "    '1980s': range(1980, 1990),\n",
    "    '1990s': range(1990, 2000),\n",
    "    '2000s': range(2000, 2010),\n",
    "    '2010s': range(2010, 2020),\n",
    "    '2020s': range(2020, 2030),\n",
    "    \n",
    "}\n",
    "\n",
    "# Asigna décadas\n",
    "def get_decade(year):\n",
    "    for decade, year_range in decadas_dict.items():\n",
    "        if int(year) in year_range:\n",
    "            return decade\n",
    "    # Manejo de excepciones: si el año no está en ningún rango de décadas, devuelve un valor predeterminado\n",
    "    return 'No disponible'\n",
    "\n",
    "\n",
    "# Aplica la función para crear la columna 'década'\n",
    "df_bechdel_movies_2023_limpio['década'] = df_bechdel_movies_2023_limpio['year'].apply(get_decade)\n"
   ]
  },
  {
   "cell_type": "code",
   "execution_count": 13,
   "metadata": {},
   "outputs": [
    {
     "name": "stdout",
     "output_type": "stream",
     "text": [
      "Empty DataFrame\n",
      "Columns: [year, rating, dubious, imdbid, id, década]\n",
      "Index: []\n"
     ]
    }
   ],
   "source": [
    "df_no_disponible = df_bechdel_movies_2023_limpio[df_bechdel_movies_2023_limpio['década'] == \"No disponible\"]\n",
    "\n",
    "# Mostrar las filas donde 'década' es \"No disponible\"\n",
    "print(df_no_disponible)"
   ]
  },
  {
   "cell_type": "code",
   "execution_count": 14,
   "metadata": {},
   "outputs": [
    {
     "data": {
      "text/plain": [
       "False"
      ]
     },
     "execution_count": 14,
     "metadata": {},
     "output_type": "execute_result"
    }
   ],
   "source": [
    "df_bechdel_movies_2023_limpio[\"year\"].isnull().any()"
   ]
  },
  {
   "cell_type": "code",
   "execution_count": 15,
   "metadata": {},
   "outputs": [
    {
     "data": {
      "text/plain": [
       "2010s    3391\n",
       "2000s    2307\n",
       "1990s    1139\n",
       "1980s     700\n",
       "2020s     486\n",
       "1970s     465\n",
       "1960s     417\n",
       "1950s     306\n",
       "1940s     246\n",
       "1930s     207\n",
       "1920s      83\n",
       "1890s      67\n",
       "1900s      42\n",
       "1910s      26\n",
       "1880s      16\n",
       "1870s       4\n",
       "Name: década, dtype: int64"
      ]
     },
     "execution_count": 15,
     "metadata": {},
     "output_type": "execute_result"
    }
   ],
   "source": [
    "df_bechdel_movies_2023_limpio[\"década\"].value_counts()"
   ]
  },
  {
   "cell_type": "code",
   "execution_count": 16,
   "metadata": {},
   "outputs": [
    {
     "ename": "KeyError",
     "evalue": "'title'",
     "output_type": "error",
     "traceback": [
      "\u001b[0;31m---------------------------------------------------------------------------\u001b[0m",
      "\u001b[0;31mKeyError\u001b[0m                                  Traceback (most recent call last)",
      "\u001b[0;32m~/opt/anaconda3/lib/python3.9/site-packages/pandas/core/indexes/base.py\u001b[0m in \u001b[0;36mget_loc\u001b[0;34m(self, key, method, tolerance)\u001b[0m\n\u001b[1;32m   3360\u001b[0m             \u001b[0;32mtry\u001b[0m\u001b[0;34m:\u001b[0m\u001b[0;34m\u001b[0m\u001b[0;34m\u001b[0m\u001b[0m\n\u001b[0;32m-> 3361\u001b[0;31m                 \u001b[0;32mreturn\u001b[0m \u001b[0mself\u001b[0m\u001b[0;34m.\u001b[0m\u001b[0m_engine\u001b[0m\u001b[0;34m.\u001b[0m\u001b[0mget_loc\u001b[0m\u001b[0;34m(\u001b[0m\u001b[0mcasted_key\u001b[0m\u001b[0;34m)\u001b[0m\u001b[0;34m\u001b[0m\u001b[0;34m\u001b[0m\u001b[0m\n\u001b[0m\u001b[1;32m   3362\u001b[0m             \u001b[0;32mexcept\u001b[0m \u001b[0mKeyError\u001b[0m \u001b[0;32mas\u001b[0m \u001b[0merr\u001b[0m\u001b[0;34m:\u001b[0m\u001b[0;34m\u001b[0m\u001b[0;34m\u001b[0m\u001b[0m\n",
      "\u001b[0;32m~/opt/anaconda3/lib/python3.9/site-packages/pandas/_libs/index.pyx\u001b[0m in \u001b[0;36mpandas._libs.index.IndexEngine.get_loc\u001b[0;34m()\u001b[0m\n",
      "\u001b[0;32m~/opt/anaconda3/lib/python3.9/site-packages/pandas/_libs/index.pyx\u001b[0m in \u001b[0;36mpandas._libs.index.IndexEngine.get_loc\u001b[0;34m()\u001b[0m\n",
      "\u001b[0;32mpandas/_libs/hashtable_class_helper.pxi\u001b[0m in \u001b[0;36mpandas._libs.hashtable.PyObjectHashTable.get_item\u001b[0;34m()\u001b[0m\n",
      "\u001b[0;32mpandas/_libs/hashtable_class_helper.pxi\u001b[0m in \u001b[0;36mpandas._libs.hashtable.PyObjectHashTable.get_item\u001b[0;34m()\u001b[0m\n",
      "\u001b[0;31mKeyError\u001b[0m: 'title'",
      "\nThe above exception was the direct cause of the following exception:\n",
      "\u001b[0;31mKeyError\u001b[0m                                  Traceback (most recent call last)",
      "\u001b[0;32m/var/folders/8b/dscb3hf534s_7dk8087c1m9m0000gn/T/ipykernel_9129/466104863.py\u001b[0m in \u001b[0;36m<module>\u001b[0;34m\u001b[0m\n\u001b[0;32m----> 1\u001b[0;31m \u001b[0mdf_bechdel_movies_2023_limpio\u001b[0m\u001b[0;34m[\u001b[0m\u001b[0mdf_bechdel_movies_2023_limpio\u001b[0m\u001b[0;34m[\u001b[0m\u001b[0;34m\"title\"\u001b[0m\u001b[0;34m]\u001b[0m \u001b[0;34m==\u001b[0m \u001b[0;34m\"Willow\"\u001b[0m\u001b[0;34m]\u001b[0m\u001b[0;34m\u001b[0m\u001b[0;34m\u001b[0m\u001b[0m\n\u001b[0m",
      "\u001b[0;32m~/opt/anaconda3/lib/python3.9/site-packages/pandas/core/frame.py\u001b[0m in \u001b[0;36m__getitem__\u001b[0;34m(self, key)\u001b[0m\n\u001b[1;32m   3456\u001b[0m             \u001b[0;32mif\u001b[0m \u001b[0mself\u001b[0m\u001b[0;34m.\u001b[0m\u001b[0mcolumns\u001b[0m\u001b[0;34m.\u001b[0m\u001b[0mnlevels\u001b[0m \u001b[0;34m>\u001b[0m \u001b[0;36m1\u001b[0m\u001b[0;34m:\u001b[0m\u001b[0;34m\u001b[0m\u001b[0;34m\u001b[0m\u001b[0m\n\u001b[1;32m   3457\u001b[0m                 \u001b[0;32mreturn\u001b[0m \u001b[0mself\u001b[0m\u001b[0;34m.\u001b[0m\u001b[0m_getitem_multilevel\u001b[0m\u001b[0;34m(\u001b[0m\u001b[0mkey\u001b[0m\u001b[0;34m)\u001b[0m\u001b[0;34m\u001b[0m\u001b[0;34m\u001b[0m\u001b[0m\n\u001b[0;32m-> 3458\u001b[0;31m             \u001b[0mindexer\u001b[0m \u001b[0;34m=\u001b[0m \u001b[0mself\u001b[0m\u001b[0;34m.\u001b[0m\u001b[0mcolumns\u001b[0m\u001b[0;34m.\u001b[0m\u001b[0mget_loc\u001b[0m\u001b[0;34m(\u001b[0m\u001b[0mkey\u001b[0m\u001b[0;34m)\u001b[0m\u001b[0;34m\u001b[0m\u001b[0;34m\u001b[0m\u001b[0m\n\u001b[0m\u001b[1;32m   3459\u001b[0m             \u001b[0;32mif\u001b[0m \u001b[0mis_integer\u001b[0m\u001b[0;34m(\u001b[0m\u001b[0mindexer\u001b[0m\u001b[0;34m)\u001b[0m\u001b[0;34m:\u001b[0m\u001b[0;34m\u001b[0m\u001b[0;34m\u001b[0m\u001b[0m\n\u001b[1;32m   3460\u001b[0m                 \u001b[0mindexer\u001b[0m \u001b[0;34m=\u001b[0m \u001b[0;34m[\u001b[0m\u001b[0mindexer\u001b[0m\u001b[0;34m]\u001b[0m\u001b[0;34m\u001b[0m\u001b[0;34m\u001b[0m\u001b[0m\n",
      "\u001b[0;32m~/opt/anaconda3/lib/python3.9/site-packages/pandas/core/indexes/base.py\u001b[0m in \u001b[0;36mget_loc\u001b[0;34m(self, key, method, tolerance)\u001b[0m\n\u001b[1;32m   3361\u001b[0m                 \u001b[0;32mreturn\u001b[0m \u001b[0mself\u001b[0m\u001b[0;34m.\u001b[0m\u001b[0m_engine\u001b[0m\u001b[0;34m.\u001b[0m\u001b[0mget_loc\u001b[0m\u001b[0;34m(\u001b[0m\u001b[0mcasted_key\u001b[0m\u001b[0;34m)\u001b[0m\u001b[0;34m\u001b[0m\u001b[0;34m\u001b[0m\u001b[0m\n\u001b[1;32m   3362\u001b[0m             \u001b[0;32mexcept\u001b[0m \u001b[0mKeyError\u001b[0m \u001b[0;32mas\u001b[0m \u001b[0merr\u001b[0m\u001b[0;34m:\u001b[0m\u001b[0;34m\u001b[0m\u001b[0;34m\u001b[0m\u001b[0m\n\u001b[0;32m-> 3363\u001b[0;31m                 \u001b[0;32mraise\u001b[0m \u001b[0mKeyError\u001b[0m\u001b[0;34m(\u001b[0m\u001b[0mkey\u001b[0m\u001b[0;34m)\u001b[0m \u001b[0;32mfrom\u001b[0m \u001b[0merr\u001b[0m\u001b[0;34m\u001b[0m\u001b[0;34m\u001b[0m\u001b[0m\n\u001b[0m\u001b[1;32m   3364\u001b[0m \u001b[0;34m\u001b[0m\u001b[0m\n\u001b[1;32m   3365\u001b[0m         \u001b[0;32mif\u001b[0m \u001b[0mis_scalar\u001b[0m\u001b[0;34m(\u001b[0m\u001b[0mkey\u001b[0m\u001b[0;34m)\u001b[0m \u001b[0;32mand\u001b[0m \u001b[0misna\u001b[0m\u001b[0;34m(\u001b[0m\u001b[0mkey\u001b[0m\u001b[0;34m)\u001b[0m \u001b[0;32mand\u001b[0m \u001b[0;32mnot\u001b[0m \u001b[0mself\u001b[0m\u001b[0;34m.\u001b[0m\u001b[0mhasnans\u001b[0m\u001b[0;34m:\u001b[0m\u001b[0;34m\u001b[0m\u001b[0;34m\u001b[0m\u001b[0m\n",
      "\u001b[0;31mKeyError\u001b[0m: 'title'"
     ]
    }
   ],
   "source": [
    "df_bechdel_movies_2023_limpio[df_bechdel_movies_2023_limpio[\"title\"] == \"Willow\"]"
   ]
  },
  {
   "cell_type": "code",
   "execution_count": null,
   "metadata": {},
   "outputs": [
    {
     "data": {
      "text/html": [
       "<div>\n",
       "<style scoped>\n",
       "    .dataframe tbody tr th:only-of-type {\n",
       "        vertical-align: middle;\n",
       "    }\n",
       "\n",
       "    .dataframe tbody tr th {\n",
       "        vertical-align: top;\n",
       "    }\n",
       "\n",
       "    .dataframe thead th {\n",
       "        text-align: right;\n",
       "    }\n",
       "</style>\n",
       "<table border=\"1\" class=\"dataframe\">\n",
       "  <thead>\n",
       "    <tr style=\"text-align: right;\">\n",
       "      <th></th>\n",
       "      <th>year</th>\n",
       "      <th>rating</th>\n",
       "      <th>dubious</th>\n",
       "      <th>imdbid</th>\n",
       "      <th>id</th>\n",
       "      <th>década</th>\n",
       "    </tr>\n",
       "    <tr>\n",
       "      <th>title</th>\n",
       "      <th></th>\n",
       "      <th></th>\n",
       "      <th></th>\n",
       "      <th></th>\n",
       "      <th></th>\n",
       "      <th></th>\n",
       "    </tr>\n",
       "  </thead>\n",
       "  <tbody>\n",
       "    <tr>\n",
       "      <th>Passage de Venus</th>\n",
       "      <td>1874</td>\n",
       "      <td>0</td>\n",
       "      <td>0.0</td>\n",
       "      <td>3155794</td>\n",
       "      <td>9602</td>\n",
       "      <td>1870s</td>\n",
       "    </tr>\n",
       "    <tr>\n",
       "      <th>La Rosace Magique</th>\n",
       "      <td>1877</td>\n",
       "      <td>0</td>\n",
       "      <td>0.0</td>\n",
       "      <td>14495706</td>\n",
       "      <td>9804</td>\n",
       "      <td>1870s</td>\n",
       "    </tr>\n",
       "    <tr>\n",
       "      <th>Sallie Gardner at a Gallop</th>\n",
       "      <td>1878</td>\n",
       "      <td>0</td>\n",
       "      <td>0.0</td>\n",
       "      <td>2221420</td>\n",
       "      <td>9603</td>\n",
       "      <td>1870s</td>\n",
       "    </tr>\n",
       "    <tr>\n",
       "      <th>Le singe musicien</th>\n",
       "      <td>1878</td>\n",
       "      <td>0</td>\n",
       "      <td>0.0</td>\n",
       "      <td>12592084</td>\n",
       "      <td>9806</td>\n",
       "      <td>1870s</td>\n",
       "    </tr>\n",
       "    <tr>\n",
       "      <th>Athlete Swinging a Pick</th>\n",
       "      <td>1881</td>\n",
       "      <td>0</td>\n",
       "      <td>0.0</td>\n",
       "      <td>7816420</td>\n",
       "      <td>9816</td>\n",
       "      <td>1880s</td>\n",
       "    </tr>\n",
       "  </tbody>\n",
       "</table>\n",
       "</div>"
      ],
      "text/plain": [
       "                            year  rating  dubious    imdbid    id década\n",
       "title                                                                   \n",
       "Passage de Venus            1874       0      0.0   3155794  9602  1870s\n",
       "La Rosace Magique           1877       0      0.0  14495706  9804  1870s\n",
       "Sallie Gardner at a Gallop  1878       0      0.0   2221420  9603  1870s\n",
       "Le singe musicien           1878       0      0.0  12592084  9806  1870s\n",
       "Athlete Swinging a Pick     1881       0      0.0   7816420  9816  1880s"
      ]
     },
     "execution_count": 11,
     "metadata": {},
     "output_type": "execute_result"
    }
   ],
   "source": [
    "df_bechdel_movies_2023_limpio.head()"
   ]
  },
  {
   "cell_type": "code",
   "execution_count": null,
   "metadata": {},
   "outputs": [
    {
     "data": {
      "text/plain": [
       "Index(['year', 'rating', 'dubious', 'imdbid', 'id', 'submitterid', 'date',\n",
       "       'visible'],\n",
       "      dtype='object')"
      ]
     },
     "execution_count": 12,
     "metadata": {},
     "output_type": "execute_result"
    }
   ],
   "source": [
    "df.columns"
   ]
  },
  {
   "cell_type": "code",
   "execution_count": null,
   "metadata": {},
   "outputs": [],
   "source": [
    "df_bechdel_movies_2023_limpio['title'] = df_bechdel_movies_2023_limpio.index  "
   ]
  },
  {
   "cell_type": "code",
   "execution_count": null,
   "metadata": {},
   "outputs": [
    {
     "data": {
      "text/html": [
       "<div>\n",
       "<style scoped>\n",
       "    .dataframe tbody tr th:only-of-type {\n",
       "        vertical-align: middle;\n",
       "    }\n",
       "\n",
       "    .dataframe tbody tr th {\n",
       "        vertical-align: top;\n",
       "    }\n",
       "\n",
       "    .dataframe thead th {\n",
       "        text-align: right;\n",
       "    }\n",
       "</style>\n",
       "<table border=\"1\" class=\"dataframe\">\n",
       "  <thead>\n",
       "    <tr style=\"text-align: right;\">\n",
       "      <th></th>\n",
       "      <th>year</th>\n",
       "      <th>rating</th>\n",
       "      <th>dubious</th>\n",
       "      <th>imdbid</th>\n",
       "      <th>id</th>\n",
       "      <th>década</th>\n",
       "      <th>title</th>\n",
       "    </tr>\n",
       "    <tr>\n",
       "      <th>title</th>\n",
       "      <th></th>\n",
       "      <th></th>\n",
       "      <th></th>\n",
       "      <th></th>\n",
       "      <th></th>\n",
       "      <th></th>\n",
       "      <th></th>\n",
       "    </tr>\n",
       "  </thead>\n",
       "  <tbody>\n",
       "    <tr>\n",
       "      <th>Passage de Venus</th>\n",
       "      <td>1874</td>\n",
       "      <td>0</td>\n",
       "      <td>0.0</td>\n",
       "      <td>3155794</td>\n",
       "      <td>9602</td>\n",
       "      <td>1870s</td>\n",
       "      <td>Passage de Venus</td>\n",
       "    </tr>\n",
       "    <tr>\n",
       "      <th>La Rosace Magique</th>\n",
       "      <td>1877</td>\n",
       "      <td>0</td>\n",
       "      <td>0.0</td>\n",
       "      <td>14495706</td>\n",
       "      <td>9804</td>\n",
       "      <td>1870s</td>\n",
       "      <td>La Rosace Magique</td>\n",
       "    </tr>\n",
       "    <tr>\n",
       "      <th>Sallie Gardner at a Gallop</th>\n",
       "      <td>1878</td>\n",
       "      <td>0</td>\n",
       "      <td>0.0</td>\n",
       "      <td>2221420</td>\n",
       "      <td>9603</td>\n",
       "      <td>1870s</td>\n",
       "      <td>Sallie Gardner at a Gallop</td>\n",
       "    </tr>\n",
       "    <tr>\n",
       "      <th>Le singe musicien</th>\n",
       "      <td>1878</td>\n",
       "      <td>0</td>\n",
       "      <td>0.0</td>\n",
       "      <td>12592084</td>\n",
       "      <td>9806</td>\n",
       "      <td>1870s</td>\n",
       "      <td>Le singe musicien</td>\n",
       "    </tr>\n",
       "    <tr>\n",
       "      <th>Athlete Swinging a Pick</th>\n",
       "      <td>1881</td>\n",
       "      <td>0</td>\n",
       "      <td>0.0</td>\n",
       "      <td>7816420</td>\n",
       "      <td>9816</td>\n",
       "      <td>1880s</td>\n",
       "      <td>Athlete Swinging a Pick</td>\n",
       "    </tr>\n",
       "  </tbody>\n",
       "</table>\n",
       "</div>"
      ],
      "text/plain": [
       "                            year  rating  dubious    imdbid    id década  \\\n",
       "title                                                                      \n",
       "Passage de Venus            1874       0      0.0   3155794  9602  1870s   \n",
       "La Rosace Magique           1877       0      0.0  14495706  9804  1870s   \n",
       "Sallie Gardner at a Gallop  1878       0      0.0   2221420  9603  1870s   \n",
       "Le singe musicien           1878       0      0.0  12592084  9806  1870s   \n",
       "Athlete Swinging a Pick     1881       0      0.0   7816420  9816  1880s   \n",
       "\n",
       "                                                 title  \n",
       "title                                                   \n",
       "Passage de Venus                      Passage de Venus  \n",
       "La Rosace Magique                    La Rosace Magique  \n",
       "Sallie Gardner at a Gallop  Sallie Gardner at a Gallop  \n",
       "Le singe musicien                    Le singe musicien  \n",
       "Athlete Swinging a Pick        Athlete Swinging a Pick  "
      ]
     },
     "execution_count": 14,
     "metadata": {},
     "output_type": "execute_result"
    }
   ],
   "source": [
    "df_bechdel_movies_2023_limpio.head()"
   ]
  },
  {
   "cell_type": "code",
   "execution_count": null,
   "metadata": {},
   "outputs": [
    {
     "data": {
      "text/plain": [
       "2010s    3391\n",
       "2000s    2307\n",
       "1990s    1139\n",
       "1980s     700\n",
       "2020s     486\n",
       "1970s     465\n",
       "1960s     417\n",
       "1950s     306\n",
       "1940s     246\n",
       "1930s     207\n",
       "1920s      83\n",
       "1890s      67\n",
       "1900s      42\n",
       "1910s      26\n",
       "1880s      16\n",
       "1870s       4\n",
       "Name: década, dtype: int64"
      ]
     },
     "execution_count": 17,
     "metadata": {},
     "output_type": "execute_result"
    }
   ],
   "source": [
    "df_bechdel_movies_2023_limpio[\"década\"].value_counts()"
   ]
  },
  {
   "cell_type": "code",
   "execution_count": null,
   "metadata": {},
   "outputs": [],
   "source": [
    "df_bechdel_movies_2023_limpio[\"d\"]"
   ]
  },
  {
   "cell_type": "code",
   "execution_count": null,
   "metadata": {},
   "outputs": [],
   "source": [
    "# Limpiar los títulos de las películas\n",
    "def limpiar_titulo(title):\n",
    "    # Eliminar comillas si están presentes\n",
    "    title = title.replace('\"', '')\n",
    "    # Si el título termina con \", The\", ajustar el formato\n",
    "    if title.endswith(', The'):\n",
    "        title = 'The ' + title[:-5]  # Mover \"The\" al principio del título\n",
    "    return title\n",
    "\n",
    "# Aplicar la función de limpieza a la columna 'titulo'\n",
    "df_bechdel_movies_2023_limpio['title'] = df_bechdel_movies_2023_limpio['title'].apply(limpiar_titulo)"
   ]
  },
  {
   "cell_type": "code",
   "execution_count": null,
   "metadata": {},
   "outputs": [],
   "source": [
    "df_bechdel_movies_2023_limpio.to_csv(\"bechdel_movies_2023_limpio.csv\")"
   ]
  }
 ],
 "metadata": {
  "kernelspec": {
   "display_name": "base",
   "language": "python",
   "name": "python3"
  },
  "language_info": {
   "codemirror_mode": {
    "name": "ipython",
    "version": 3
   },
   "file_extension": ".py",
   "mimetype": "text/x-python",
   "name": "python",
   "nbconvert_exporter": "python",
   "pygments_lexer": "ipython3",
   "version": "3.9.7"
  }
 },
 "nbformat": 4,
 "nbformat_minor": 2
}

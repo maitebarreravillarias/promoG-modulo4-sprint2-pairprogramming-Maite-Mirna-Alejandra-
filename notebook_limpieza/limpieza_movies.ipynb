{
 "cells": [
  {
   "cell_type": "code",
   "execution_count": 154,
   "metadata": {},
   "outputs": [],
   "source": [
    "import numpy as np\n",
    "import pandas as pd\n",
    "\n",
    "pd.set_option('display.max_columns', None)"
   ]
  },
  {
   "cell_type": "code",
   "execution_count": 155,
   "metadata": {},
   "outputs": [
    {
     "data": {
      "text/html": [
       "<div>\n",
       "<style scoped>\n",
       "    .dataframe tbody tr th:only-of-type {\n",
       "        vertical-align: middle;\n",
       "    }\n",
       "\n",
       "    .dataframe tbody tr th {\n",
       "        vertical-align: top;\n",
       "    }\n",
       "\n",
       "    .dataframe thead th {\n",
       "        text-align: right;\n",
       "    }\n",
       "</style>\n",
       "<table border=\"1\" class=\"dataframe\">\n",
       "  <thead>\n",
       "    <tr style=\"text-align: right;\">\n",
       "      <th></th>\n",
       "      <th>imdb</th>\n",
       "      <th>title</th>\n",
       "      <th>test</th>\n",
       "      <th>clean_test</th>\n",
       "      <th>binary</th>\n",
       "      <th>budget</th>\n",
       "      <th>domgross</th>\n",
       "      <th>intgross</th>\n",
       "      <th>code</th>\n",
       "      <th>budget_2013$</th>\n",
       "      <th>domgross_2013$</th>\n",
       "      <th>intgross_2013$</th>\n",
       "      <th>period code</th>\n",
       "      <th>decade code</th>\n",
       "    </tr>\n",
       "    <tr>\n",
       "      <th>year</th>\n",
       "      <th></th>\n",
       "      <th></th>\n",
       "      <th></th>\n",
       "      <th></th>\n",
       "      <th></th>\n",
       "      <th></th>\n",
       "      <th></th>\n",
       "      <th></th>\n",
       "      <th></th>\n",
       "      <th></th>\n",
       "      <th></th>\n",
       "      <th></th>\n",
       "      <th></th>\n",
       "      <th></th>\n",
       "    </tr>\n",
       "  </thead>\n",
       "  <tbody>\n",
       "    <tr>\n",
       "      <th>2013</th>\n",
       "      <td>tt1711425</td>\n",
       "      <td>21 &amp;amp; Over</td>\n",
       "      <td>notalk</td>\n",
       "      <td>notalk</td>\n",
       "      <td>FAIL</td>\n",
       "      <td>13000000</td>\n",
       "      <td>25682380.0</td>\n",
       "      <td>42195766.0</td>\n",
       "      <td>2013FAIL</td>\n",
       "      <td>13000000</td>\n",
       "      <td>25682380.0</td>\n",
       "      <td>42195766.0</td>\n",
       "      <td>1.0</td>\n",
       "      <td>1.0</td>\n",
       "    </tr>\n",
       "    <tr>\n",
       "      <th>2012</th>\n",
       "      <td>tt1343727</td>\n",
       "      <td>Dredd 3D</td>\n",
       "      <td>ok-disagree</td>\n",
       "      <td>ok</td>\n",
       "      <td>PASS</td>\n",
       "      <td>45000000</td>\n",
       "      <td>13414714.0</td>\n",
       "      <td>40868994.0</td>\n",
       "      <td>2012PASS</td>\n",
       "      <td>45658735</td>\n",
       "      <td>13611086.0</td>\n",
       "      <td>41467257.0</td>\n",
       "      <td>1.0</td>\n",
       "      <td>1.0</td>\n",
       "    </tr>\n",
       "    <tr>\n",
       "      <th>2013</th>\n",
       "      <td>tt2024544</td>\n",
       "      <td>12 Years a Slave</td>\n",
       "      <td>notalk-disagree</td>\n",
       "      <td>notalk</td>\n",
       "      <td>FAIL</td>\n",
       "      <td>20000000</td>\n",
       "      <td>53107035.0</td>\n",
       "      <td>158607035.0</td>\n",
       "      <td>2013FAIL</td>\n",
       "      <td>20000000</td>\n",
       "      <td>53107035.0</td>\n",
       "      <td>158607035.0</td>\n",
       "      <td>1.0</td>\n",
       "      <td>1.0</td>\n",
       "    </tr>\n",
       "    <tr>\n",
       "      <th>2013</th>\n",
       "      <td>tt1272878</td>\n",
       "      <td>2 Guns</td>\n",
       "      <td>notalk</td>\n",
       "      <td>notalk</td>\n",
       "      <td>FAIL</td>\n",
       "      <td>61000000</td>\n",
       "      <td>75612460.0</td>\n",
       "      <td>132493015.0</td>\n",
       "      <td>2013FAIL</td>\n",
       "      <td>61000000</td>\n",
       "      <td>75612460.0</td>\n",
       "      <td>132493015.0</td>\n",
       "      <td>1.0</td>\n",
       "      <td>1.0</td>\n",
       "    </tr>\n",
       "    <tr>\n",
       "      <th>2013</th>\n",
       "      <td>tt0453562</td>\n",
       "      <td>42</td>\n",
       "      <td>men</td>\n",
       "      <td>men</td>\n",
       "      <td>FAIL</td>\n",
       "      <td>40000000</td>\n",
       "      <td>95020213.0</td>\n",
       "      <td>95020213.0</td>\n",
       "      <td>2013FAIL</td>\n",
       "      <td>40000000</td>\n",
       "      <td>95020213.0</td>\n",
       "      <td>95020213.0</td>\n",
       "      <td>1.0</td>\n",
       "      <td>1.0</td>\n",
       "    </tr>\n",
       "  </tbody>\n",
       "</table>\n",
       "</div>"
      ],
      "text/plain": [
       "           imdb             title             test clean_test binary  \\\n",
       "year                                                                   \n",
       "2013  tt1711425     21 &amp; Over           notalk     notalk   FAIL   \n",
       "2012  tt1343727          Dredd 3D      ok-disagree         ok   PASS   \n",
       "2013  tt2024544  12 Years a Slave  notalk-disagree     notalk   FAIL   \n",
       "2013  tt1272878            2 Guns           notalk     notalk   FAIL   \n",
       "2013  tt0453562                42              men        men   FAIL   \n",
       "\n",
       "        budget    domgross     intgross      code  budget_2013$  \\\n",
       "year                                                              \n",
       "2013  13000000  25682380.0   42195766.0  2013FAIL      13000000   \n",
       "2012  45000000  13414714.0   40868994.0  2012PASS      45658735   \n",
       "2013  20000000  53107035.0  158607035.0  2013FAIL      20000000   \n",
       "2013  61000000  75612460.0  132493015.0  2013FAIL      61000000   \n",
       "2013  40000000  95020213.0   95020213.0  2013FAIL      40000000   \n",
       "\n",
       "      domgross_2013$  intgross_2013$  period code  decade code  \n",
       "year                                                            \n",
       "2013      25682380.0      42195766.0          1.0          1.0  \n",
       "2012      13611086.0      41467257.0          1.0          1.0  \n",
       "2013      53107035.0     158607035.0          1.0          1.0  \n",
       "2013      75612460.0     132493015.0          1.0          1.0  \n",
       "2013      95020213.0      95020213.0          1.0          1.0  "
      ]
     },
     "execution_count": 155,
     "metadata": {},
     "output_type": "execute_result"
    }
   ],
   "source": [
    "df = pd.read_csv(\"/Users/maite/Desktop/ADALAB/modulo-4/ejercicios/promoG-modulo4-sprint2-pairprogramming-Maite-Mirna-Alejandra-/files_originales/movies.csv\", index_col = 0)\n",
    "df.head()"
   ]
  },
  {
   "cell_type": "code",
   "execution_count": 156,
   "metadata": {},
   "outputs": [
    {
     "data": {
      "text/plain": [
       "1794"
      ]
     },
     "execution_count": 156,
     "metadata": {},
     "output_type": "execute_result"
    }
   ],
   "source": [
    "df.shape[0]"
   ]
  },
  {
   "cell_type": "code",
   "execution_count": 157,
   "metadata": {},
   "outputs": [
    {
     "data": {
      "text/plain": [
       "Index(['imdb', 'title', 'test', 'clean_test', 'binary', 'budget', 'domgross',\n",
       "       'intgross', 'code', 'budget_2013$', 'domgross_2013$', 'intgross_2013$',\n",
       "       'period code', 'decade code'],\n",
       "      dtype='object')"
      ]
     },
     "execution_count": 157,
     "metadata": {},
     "output_type": "execute_result"
    }
   ],
   "source": [
    "df.columns"
   ]
  },
  {
   "cell_type": "code",
   "execution_count": 158,
   "metadata": {},
   "outputs": [
    {
     "data": {
      "text/plain": [
       "Pride and Prejudice                   3\n",
       "Hannibal                              2\n",
       "The Illusionist                       2\n",
       "Conan the Barbarian                   2\n",
       "The Avengers                          2\n",
       "                                     ..\n",
       "In Bruges                             1\n",
       "Igor                                  1\n",
       "High School Musical 3: Senior Year    1\n",
       "Herb &amp; Dorothy                    1\n",
       "Beyond the Valley of the Dolls        1\n",
       "Name: title, Length: 1768, dtype: int64"
      ]
     },
     "execution_count": 158,
     "metadata": {},
     "output_type": "execute_result"
    }
   ],
   "source": [
    "df[\"title\"].value_counts()"
   ]
  },
  {
   "cell_type": "code",
   "execution_count": 159,
   "metadata": {},
   "outputs": [
    {
     "data": {
      "text/plain": [
       "ok                  696\n",
       "notalk              379\n",
       "notalk-disagree     135\n",
       "men                 125\n",
       "ok-disagree         107\n",
       "nowomen              88\n",
       "dubious              81\n",
       "men-disagree         69\n",
       "dubious-disagree     61\n",
       "nowomen-disagree     53\n",
       "Name: test, dtype: int64"
      ]
     },
     "execution_count": 159,
     "metadata": {},
     "output_type": "execute_result"
    }
   ],
   "source": [
    "df[\"test\"].value_counts()"
   ]
  },
  {
   "cell_type": "code",
   "execution_count": 160,
   "metadata": {},
   "outputs": [
    {
     "data": {
      "text/plain": [
       "ok         803\n",
       "notalk     514\n",
       "men        194\n",
       "dubious    142\n",
       "nowomen    141\n",
       "Name: clean_test, dtype: int64"
      ]
     },
     "execution_count": 160,
     "metadata": {},
     "output_type": "execute_result"
    }
   ],
   "source": [
    "df[\"clean_test\"].value_counts()"
   ]
  },
  {
   "cell_type": "code",
   "execution_count": 161,
   "metadata": {},
   "outputs": [
    {
     "data": {
      "text/plain": [
       "FAIL    991\n",
       "PASS    803\n",
       "Name: binary, dtype: int64"
      ]
     },
     "execution_count": 161,
     "metadata": {},
     "output_type": "execute_result"
    }
   ],
   "source": [
    "df[\"binary\"].value_counts()"
   ]
  },
  {
   "cell_type": "code",
   "execution_count": 162,
   "metadata": {},
   "outputs": [
    {
     "data": {
      "text/plain": [
       "1970"
      ]
     },
     "execution_count": 162,
     "metadata": {},
     "output_type": "execute_result"
    }
   ],
   "source": [
    "df.index.min()"
   ]
  },
  {
   "cell_type": "code",
   "execution_count": 163,
   "metadata": {},
   "outputs": [
    {
     "data": {
      "text/plain": [
       "2013"
      ]
     },
     "execution_count": 163,
     "metadata": {},
     "output_type": "execute_result"
    }
   ],
   "source": [
    "df.index.max()"
   ]
  },
  {
   "cell_type": "code",
   "execution_count": 164,
   "metadata": {},
   "outputs": [
    {
     "data": {
      "text/plain": [
       "2.0    488\n",
       "1.0    438\n",
       "3.0    352\n",
       "4.0    247\n",
       "5.0     90\n",
       "Name: period code, dtype: int64"
      ]
     },
     "execution_count": 164,
     "metadata": {},
     "output_type": "execute_result"
    }
   ],
   "source": [
    "df[\"period code\"].value_counts()"
   ]
  },
  {
   "cell_type": "code",
   "execution_count": 165,
   "metadata": {},
   "outputs": [
    {
     "data": {
      "text/html": [
       "<div>\n",
       "<style scoped>\n",
       "    .dataframe tbody tr th:only-of-type {\n",
       "        vertical-align: middle;\n",
       "    }\n",
       "\n",
       "    .dataframe tbody tr th {\n",
       "        vertical-align: top;\n",
       "    }\n",
       "\n",
       "    .dataframe thead th {\n",
       "        text-align: right;\n",
       "    }\n",
       "</style>\n",
       "<table border=\"1\" class=\"dataframe\">\n",
       "  <thead>\n",
       "    <tr style=\"text-align: right;\">\n",
       "      <th></th>\n",
       "      <th>imdb</th>\n",
       "      <th>title</th>\n",
       "      <th>test</th>\n",
       "      <th>clean_test</th>\n",
       "      <th>binary</th>\n",
       "      <th>budget</th>\n",
       "      <th>domgross</th>\n",
       "      <th>intgross</th>\n",
       "      <th>code</th>\n",
       "      <th>budget_2013$</th>\n",
       "      <th>domgross_2013$</th>\n",
       "      <th>intgross_2013$</th>\n",
       "      <th>period code</th>\n",
       "      <th>decade code</th>\n",
       "    </tr>\n",
       "    <tr>\n",
       "      <th>year</th>\n",
       "      <th></th>\n",
       "      <th></th>\n",
       "      <th></th>\n",
       "      <th></th>\n",
       "      <th></th>\n",
       "      <th></th>\n",
       "      <th></th>\n",
       "      <th></th>\n",
       "      <th></th>\n",
       "      <th></th>\n",
       "      <th></th>\n",
       "      <th></th>\n",
       "      <th></th>\n",
       "      <th></th>\n",
       "    </tr>\n",
       "  </thead>\n",
       "  <tbody>\n",
       "    <tr>\n",
       "      <th>2000</th>\n",
       "      <td>tt0200550</td>\n",
       "      <td>Coyote Ugly</td>\n",
       "      <td>men-disagree</td>\n",
       "      <td>men</td>\n",
       "      <td>FAIL</td>\n",
       "      <td>45000000</td>\n",
       "      <td>60786269.0</td>\n",
       "      <td>115786269.0</td>\n",
       "      <td>2000FAIL</td>\n",
       "      <td>60880877</td>\n",
       "      <td>82238253.0</td>\n",
       "      <td>156648214.0</td>\n",
       "      <td>3.0</td>\n",
       "      <td>2.0</td>\n",
       "    </tr>\n",
       "    <tr>\n",
       "      <th>2013</th>\n",
       "      <td>tt1650554</td>\n",
       "      <td>Kick-Ass 2</td>\n",
       "      <td>ok</td>\n",
       "      <td>ok</td>\n",
       "      <td>PASS</td>\n",
       "      <td>28000000</td>\n",
       "      <td>28795985.0</td>\n",
       "      <td>60839197.0</td>\n",
       "      <td>2013PASS</td>\n",
       "      <td>28000000</td>\n",
       "      <td>28795985.0</td>\n",
       "      <td>60839197.0</td>\n",
       "      <td>1.0</td>\n",
       "      <td>1.0</td>\n",
       "    </tr>\n",
       "    <tr>\n",
       "      <th>2004</th>\n",
       "      <td>tt0414852</td>\n",
       "      <td>Banlieue 13</td>\n",
       "      <td>nowomen</td>\n",
       "      <td>nowomen</td>\n",
       "      <td>FAIL</td>\n",
       "      <td>15000000</td>\n",
       "      <td>1200216.0</td>\n",
       "      <td>11208291.0</td>\n",
       "      <td>2004FAIL</td>\n",
       "      <td>18497893</td>\n",
       "      <td>1480098.0</td>\n",
       "      <td>13821985.0</td>\n",
       "      <td>3.0</td>\n",
       "      <td>2.0</td>\n",
       "    </tr>\n",
       "    <tr>\n",
       "      <th>1989</th>\n",
       "      <td>tt0098546</td>\n",
       "      <td>UHF</td>\n",
       "      <td>notalk</td>\n",
       "      <td>notalk</td>\n",
       "      <td>FAIL</td>\n",
       "      <td>5000000</td>\n",
       "      <td>6157157.0</td>\n",
       "      <td>6157157.0</td>\n",
       "      <td>1989FAIL</td>\n",
       "      <td>9397944</td>\n",
       "      <td>11572924.0</td>\n",
       "      <td>11572924.0</td>\n",
       "      <td>NaN</td>\n",
       "      <td>NaN</td>\n",
       "    </tr>\n",
       "    <tr>\n",
       "      <th>2010</th>\n",
       "      <td>tt0892769</td>\n",
       "      <td>How to Train Your Dragon</td>\n",
       "      <td>ok</td>\n",
       "      <td>ok</td>\n",
       "      <td>PASS</td>\n",
       "      <td>165000000</td>\n",
       "      <td>217581231.0</td>\n",
       "      <td>494870991.0</td>\n",
       "      <td>2010PASS</td>\n",
       "      <td>176258254</td>\n",
       "      <td>232427199.0</td>\n",
       "      <td>528636950.0</td>\n",
       "      <td>1.0</td>\n",
       "      <td>1.0</td>\n",
       "    </tr>\n",
       "    <tr>\n",
       "      <th>1995</th>\n",
       "      <td>tt0113957</td>\n",
       "      <td>The Net</td>\n",
       "      <td>ok</td>\n",
       "      <td>ok</td>\n",
       "      <td>PASS</td>\n",
       "      <td>22000000</td>\n",
       "      <td>50621733.0</td>\n",
       "      <td>110521733.0</td>\n",
       "      <td>1995PASS</td>\n",
       "      <td>33633148</td>\n",
       "      <td>77389465.0</td>\n",
       "      <td>168963355.0</td>\n",
       "      <td>4.0</td>\n",
       "      <td>3.0</td>\n",
       "    </tr>\n",
       "    <tr>\n",
       "      <th>2009</th>\n",
       "      <td>tt1188729</td>\n",
       "      <td>Pandorum</td>\n",
       "      <td>notalk</td>\n",
       "      <td>notalk</td>\n",
       "      <td>FAIL</td>\n",
       "      <td>40000000</td>\n",
       "      <td>10330853.0</td>\n",
       "      <td>17033431.0</td>\n",
       "      <td>2009FAIL</td>\n",
       "      <td>43429264</td>\n",
       "      <td>11216534.0</td>\n",
       "      <td>18493734.0</td>\n",
       "      <td>2.0</td>\n",
       "      <td>2.0</td>\n",
       "    </tr>\n",
       "    <tr>\n",
       "      <th>1999</th>\n",
       "      <td>tt0144117</td>\n",
       "      <td>The Boondock Saints</td>\n",
       "      <td>nowomen-disagree</td>\n",
       "      <td>nowomen</td>\n",
       "      <td>FAIL</td>\n",
       "      <td>7000000</td>\n",
       "      <td>30471.0</td>\n",
       "      <td>411874.0</td>\n",
       "      <td>1999FAIL</td>\n",
       "      <td>9789234</td>\n",
       "      <td>42613.0</td>\n",
       "      <td>575990.0</td>\n",
       "      <td>4.0</td>\n",
       "      <td>3.0</td>\n",
       "    </tr>\n",
       "    <tr>\n",
       "      <th>2011</th>\n",
       "      <td>tt1324999</td>\n",
       "      <td>The Twilight Saga: Breaking Dawn - Part 1</td>\n",
       "      <td>ok</td>\n",
       "      <td>ok</td>\n",
       "      <td>PASS</td>\n",
       "      <td>127500000</td>\n",
       "      <td>281287133.0</td>\n",
       "      <td>709938657.0</td>\n",
       "      <td>2011PASS</td>\n",
       "      <td>132050575</td>\n",
       "      <td>291326492.0</td>\n",
       "      <td>735276926.0</td>\n",
       "      <td>1.0</td>\n",
       "      <td>1.0</td>\n",
       "    </tr>\n",
       "    <tr>\n",
       "      <th>2002</th>\n",
       "      <td>tt0303361</td>\n",
       "      <td>May</td>\n",
       "      <td>ok</td>\n",
       "      <td>ok</td>\n",
       "      <td>PASS</td>\n",
       "      <td>1750000</td>\n",
       "      <td>145540.0</td>\n",
       "      <td>497339.0</td>\n",
       "      <td>2002PASS</td>\n",
       "      <td>2266564</td>\n",
       "      <td>188500.0</td>\n",
       "      <td>644143.0</td>\n",
       "      <td>3.0</td>\n",
       "      <td>2.0</td>\n",
       "    </tr>\n",
       "    <tr>\n",
       "      <th>2003</th>\n",
       "      <td>tt0287978</td>\n",
       "      <td>Daredevil</td>\n",
       "      <td>nowomen-disagree</td>\n",
       "      <td>nowomen</td>\n",
       "      <td>FAIL</td>\n",
       "      <td>80000000</td>\n",
       "      <td>102543518.0</td>\n",
       "      <td>182782518.0</td>\n",
       "      <td>2003FAIL</td>\n",
       "      <td>101286957</td>\n",
       "      <td>129829011.0</td>\n",
       "      <td>231418562.0</td>\n",
       "      <td>3.0</td>\n",
       "      <td>2.0</td>\n",
       "    </tr>\n",
       "    <tr>\n",
       "      <th>2012</th>\n",
       "      <td>tt1298649</td>\n",
       "      <td>The Watch</td>\n",
       "      <td>men</td>\n",
       "      <td>men</td>\n",
       "      <td>FAIL</td>\n",
       "      <td>55000000</td>\n",
       "      <td>34353000.0</td>\n",
       "      <td>67353000.0</td>\n",
       "      <td>2012FAIL</td>\n",
       "      <td>55805121</td>\n",
       "      <td>34855879.0</td>\n",
       "      <td>68338951.0</td>\n",
       "      <td>1.0</td>\n",
       "      <td>1.0</td>\n",
       "    </tr>\n",
       "    <tr>\n",
       "      <th>1990</th>\n",
       "      <td>tt0099423</td>\n",
       "      <td>Die Hard 2</td>\n",
       "      <td>dubious-disagree</td>\n",
       "      <td>dubious</td>\n",
       "      <td>FAIL</td>\n",
       "      <td>70000000</td>\n",
       "      <td>117323878.0</td>\n",
       "      <td>239814025.0</td>\n",
       "      <td>1990FAIL</td>\n",
       "      <td>124808278</td>\n",
       "      <td>209185588.0</td>\n",
       "      <td>427582507.0</td>\n",
       "      <td>5.0</td>\n",
       "      <td>3.0</td>\n",
       "    </tr>\n",
       "    <tr>\n",
       "      <th>2012</th>\n",
       "      <td>tt1277953</td>\n",
       "      <td>Madagascar 3: Europe&amp;#39;s Most Wanted</td>\n",
       "      <td>men-disagree</td>\n",
       "      <td>men</td>\n",
       "      <td>FAIL</td>\n",
       "      <td>145000000</td>\n",
       "      <td>216391482.0</td>\n",
       "      <td>746921271.0</td>\n",
       "      <td>2012FAIL</td>\n",
       "      <td>147122592</td>\n",
       "      <td>219559143.0</td>\n",
       "      <td>757855127.0</td>\n",
       "      <td>1.0</td>\n",
       "      <td>1.0</td>\n",
       "    </tr>\n",
       "    <tr>\n",
       "      <th>2008</th>\n",
       "      <td>tt0852713</td>\n",
       "      <td>The House Bunny</td>\n",
       "      <td>ok</td>\n",
       "      <td>ok</td>\n",
       "      <td>PASS</td>\n",
       "      <td>25000000</td>\n",
       "      <td>48237389.0</td>\n",
       "      <td>70237389.0</td>\n",
       "      <td>2008PASS</td>\n",
       "      <td>27056408</td>\n",
       "      <td>52205219.0</td>\n",
       "      <td>76014858.0</td>\n",
       "      <td>2.0</td>\n",
       "      <td>2.0</td>\n",
       "    </tr>\n",
       "  </tbody>\n",
       "</table>\n",
       "</div>"
      ],
      "text/plain": [
       "           imdb                                      title              test  \\\n",
       "year                                                                           \n",
       "2000  tt0200550                                Coyote Ugly      men-disagree   \n",
       "2013  tt1650554                                 Kick-Ass 2                ok   \n",
       "2004  tt0414852                                Banlieue 13           nowomen   \n",
       "1989  tt0098546                                        UHF            notalk   \n",
       "2010  tt0892769                   How to Train Your Dragon                ok   \n",
       "1995  tt0113957                                    The Net                ok   \n",
       "2009  tt1188729                                   Pandorum            notalk   \n",
       "1999  tt0144117                        The Boondock Saints  nowomen-disagree   \n",
       "2011  tt1324999  The Twilight Saga: Breaking Dawn - Part 1                ok   \n",
       "2002  tt0303361                                        May                ok   \n",
       "2003  tt0287978                                  Daredevil  nowomen-disagree   \n",
       "2012  tt1298649                                  The Watch               men   \n",
       "1990  tt0099423                                 Die Hard 2  dubious-disagree   \n",
       "2012  tt1277953     Madagascar 3: Europe&#39;s Most Wanted      men-disagree   \n",
       "2008  tt0852713                            The House Bunny                ok   \n",
       "\n",
       "     clean_test binary     budget     domgross     intgross      code  \\\n",
       "year                                                                    \n",
       "2000        men   FAIL   45000000   60786269.0  115786269.0  2000FAIL   \n",
       "2013         ok   PASS   28000000   28795985.0   60839197.0  2013PASS   \n",
       "2004    nowomen   FAIL   15000000    1200216.0   11208291.0  2004FAIL   \n",
       "1989     notalk   FAIL    5000000    6157157.0    6157157.0  1989FAIL   \n",
       "2010         ok   PASS  165000000  217581231.0  494870991.0  2010PASS   \n",
       "1995         ok   PASS   22000000   50621733.0  110521733.0  1995PASS   \n",
       "2009     notalk   FAIL   40000000   10330853.0   17033431.0  2009FAIL   \n",
       "1999    nowomen   FAIL    7000000      30471.0     411874.0  1999FAIL   \n",
       "2011         ok   PASS  127500000  281287133.0  709938657.0  2011PASS   \n",
       "2002         ok   PASS    1750000     145540.0     497339.0  2002PASS   \n",
       "2003    nowomen   FAIL   80000000  102543518.0  182782518.0  2003FAIL   \n",
       "2012        men   FAIL   55000000   34353000.0   67353000.0  2012FAIL   \n",
       "1990    dubious   FAIL   70000000  117323878.0  239814025.0  1990FAIL   \n",
       "2012        men   FAIL  145000000  216391482.0  746921271.0  2012FAIL   \n",
       "2008         ok   PASS   25000000   48237389.0   70237389.0  2008PASS   \n",
       "\n",
       "      budget_2013$  domgross_2013$  intgross_2013$  period code  decade code  \n",
       "year                                                                          \n",
       "2000      60880877      82238253.0     156648214.0          3.0          2.0  \n",
       "2013      28000000      28795985.0      60839197.0          1.0          1.0  \n",
       "2004      18497893       1480098.0      13821985.0          3.0          2.0  \n",
       "1989       9397944      11572924.0      11572924.0          NaN          NaN  \n",
       "2010     176258254     232427199.0     528636950.0          1.0          1.0  \n",
       "1995      33633148      77389465.0     168963355.0          4.0          3.0  \n",
       "2009      43429264      11216534.0      18493734.0          2.0          2.0  \n",
       "1999       9789234         42613.0        575990.0          4.0          3.0  \n",
       "2011     132050575     291326492.0     735276926.0          1.0          1.0  \n",
       "2002       2266564        188500.0        644143.0          3.0          2.0  \n",
       "2003     101286957     129829011.0     231418562.0          3.0          2.0  \n",
       "2012      55805121      34855879.0      68338951.0          1.0          1.0  \n",
       "1990     124808278     209185588.0     427582507.0          5.0          3.0  \n",
       "2012     147122592     219559143.0     757855127.0          1.0          1.0  \n",
       "2008      27056408      52205219.0      76014858.0          2.0          2.0  "
      ]
     },
     "execution_count": 165,
     "metadata": {},
     "output_type": "execute_result"
    }
   ],
   "source": [
    "df.sample(15)"
   ]
  },
  {
   "cell_type": "code",
   "execution_count": 166,
   "metadata": {},
   "outputs": [
    {
     "data": {
      "text/plain": [
       "ok         803\n",
       "notalk     514\n",
       "men        194\n",
       "dubious    142\n",
       "nowomen    141\n",
       "Name: clean_test, dtype: int64"
      ]
     },
     "execution_count": 166,
     "metadata": {},
     "output_type": "execute_result"
    }
   ],
   "source": [
    "df[\"clean_test\"].value_counts()"
   ]
  },
  {
   "cell_type": "code",
   "execution_count": 167,
   "metadata": {},
   "outputs": [],
   "source": [
    "valor_actual_a_nuevo_valor = {\n",
    "    'ok': 3,\n",
    "    'notalk': 1,\n",
    "    'men': 2,\n",
    "    'dubious': \"dubious\",\n",
    "    'no women': 0,\n",
    "    'nowomen': 0}"
   ]
  },
  {
   "cell_type": "code",
   "execution_count": 168,
   "metadata": {},
   "outputs": [],
   "source": [
    "df['clean_test'] = df['clean_test'].replace(valor_actual_a_nuevo_valor)"
   ]
  },
  {
   "cell_type": "code",
   "execution_count": 169,
   "metadata": {},
   "outputs": [
    {
     "data": {
      "text/plain": [
       "year\n",
       "2013    1\n",
       "2012    3\n",
       "2013    1\n",
       "2013    1\n",
       "2013    2\n",
       "       ..\n",
       "1971    1\n",
       "1971    1\n",
       "1971    1\n",
       "1971    2\n",
       "1970    3\n",
       "Name: clean_test, Length: 1794, dtype: object"
      ]
     },
     "execution_count": 169,
     "metadata": {},
     "output_type": "execute_result"
    }
   ],
   "source": [
    "df[\"clean_test\"]"
   ]
  },
  {
   "cell_type": "code",
   "execution_count": 170,
   "metadata": {},
   "outputs": [
    {
     "data": {
      "text/plain": [
       "3          803\n",
       "1          514\n",
       "2          194\n",
       "dubious    142\n",
       "0          141\n",
       "Name: clean_test, dtype: int64"
      ]
     },
     "execution_count": 170,
     "metadata": {},
     "output_type": "execute_result"
    }
   ],
   "source": [
    "df[\"clean_test\"].value_counts()"
   ]
  },
  {
   "cell_type": "code",
   "execution_count": 171,
   "metadata": {},
   "outputs": [
    {
     "data": {
      "text/plain": [
       "Index(['imdb', 'title', 'test', 'clean_test', 'binary', 'budget', 'domgross',\n",
       "       'intgross', 'code', 'budget_2013$', 'domgross_2013$', 'intgross_2013$',\n",
       "       'period code', 'decade code'],\n",
       "      dtype='object')"
      ]
     },
     "execution_count": 171,
     "metadata": {},
     "output_type": "execute_result"
    }
   ],
   "source": [
    "df.columns"
   ]
  },
  {
   "cell_type": "code",
   "execution_count": 172,
   "metadata": {},
   "outputs": [],
   "source": [
    "columnas_a_eliminar = ['test', 'code', \"period code\", \"decade code\", 'budget_2013$', 'domgross_2013$', 'intgross_2013$']\n",
    "\n",
    "df_movies_limpio = df.drop(columnas_a_eliminar, axis=1)"
   ]
  },
  {
   "cell_type": "code",
   "execution_count": 173,
   "metadata": {},
   "outputs": [
    {
     "data": {
      "text/html": [
       "<div>\n",
       "<style scoped>\n",
       "    .dataframe tbody tr th:only-of-type {\n",
       "        vertical-align: middle;\n",
       "    }\n",
       "\n",
       "    .dataframe tbody tr th {\n",
       "        vertical-align: top;\n",
       "    }\n",
       "\n",
       "    .dataframe thead th {\n",
       "        text-align: right;\n",
       "    }\n",
       "</style>\n",
       "<table border=\"1\" class=\"dataframe\">\n",
       "  <thead>\n",
       "    <tr style=\"text-align: right;\">\n",
       "      <th></th>\n",
       "      <th>imdb</th>\n",
       "      <th>title</th>\n",
       "      <th>clean_test</th>\n",
       "      <th>binary</th>\n",
       "      <th>budget</th>\n",
       "      <th>domgross</th>\n",
       "      <th>intgross</th>\n",
       "    </tr>\n",
       "    <tr>\n",
       "      <th>year</th>\n",
       "      <th></th>\n",
       "      <th></th>\n",
       "      <th></th>\n",
       "      <th></th>\n",
       "      <th></th>\n",
       "      <th></th>\n",
       "      <th></th>\n",
       "    </tr>\n",
       "  </thead>\n",
       "  <tbody>\n",
       "    <tr>\n",
       "      <th>2013</th>\n",
       "      <td>tt1711425</td>\n",
       "      <td>21 &amp;amp; Over</td>\n",
       "      <td>1</td>\n",
       "      <td>FAIL</td>\n",
       "      <td>13000000</td>\n",
       "      <td>25682380.0</td>\n",
       "      <td>42195766.0</td>\n",
       "    </tr>\n",
       "    <tr>\n",
       "      <th>2012</th>\n",
       "      <td>tt1343727</td>\n",
       "      <td>Dredd 3D</td>\n",
       "      <td>3</td>\n",
       "      <td>PASS</td>\n",
       "      <td>45000000</td>\n",
       "      <td>13414714.0</td>\n",
       "      <td>40868994.0</td>\n",
       "    </tr>\n",
       "    <tr>\n",
       "      <th>2013</th>\n",
       "      <td>tt2024544</td>\n",
       "      <td>12 Years a Slave</td>\n",
       "      <td>1</td>\n",
       "      <td>FAIL</td>\n",
       "      <td>20000000</td>\n",
       "      <td>53107035.0</td>\n",
       "      <td>158607035.0</td>\n",
       "    </tr>\n",
       "    <tr>\n",
       "      <th>2013</th>\n",
       "      <td>tt1272878</td>\n",
       "      <td>2 Guns</td>\n",
       "      <td>1</td>\n",
       "      <td>FAIL</td>\n",
       "      <td>61000000</td>\n",
       "      <td>75612460.0</td>\n",
       "      <td>132493015.0</td>\n",
       "    </tr>\n",
       "    <tr>\n",
       "      <th>2013</th>\n",
       "      <td>tt0453562</td>\n",
       "      <td>42</td>\n",
       "      <td>2</td>\n",
       "      <td>FAIL</td>\n",
       "      <td>40000000</td>\n",
       "      <td>95020213.0</td>\n",
       "      <td>95020213.0</td>\n",
       "    </tr>\n",
       "  </tbody>\n",
       "</table>\n",
       "</div>"
      ],
      "text/plain": [
       "           imdb             title clean_test binary    budget    domgross  \\\n",
       "year                                                                        \n",
       "2013  tt1711425     21 &amp; Over          1   FAIL  13000000  25682380.0   \n",
       "2012  tt1343727          Dredd 3D          3   PASS  45000000  13414714.0   \n",
       "2013  tt2024544  12 Years a Slave          1   FAIL  20000000  53107035.0   \n",
       "2013  tt1272878            2 Guns          1   FAIL  61000000  75612460.0   \n",
       "2013  tt0453562                42          2   FAIL  40000000  95020213.0   \n",
       "\n",
       "         intgross  \n",
       "year               \n",
       "2013   42195766.0  \n",
       "2012   40868994.0  \n",
       "2013  158607035.0  \n",
       "2013  132493015.0  \n",
       "2013   95020213.0  "
      ]
     },
     "execution_count": 173,
     "metadata": {},
     "output_type": "execute_result"
    }
   ],
   "source": [
    "df_movies_limpio.head()"
   ]
  },
  {
   "cell_type": "code",
   "execution_count": 174,
   "metadata": {},
   "outputs": [
    {
     "data": {
      "text/html": [
       "<div>\n",
       "<style scoped>\n",
       "    .dataframe tbody tr th:only-of-type {\n",
       "        vertical-align: middle;\n",
       "    }\n",
       "\n",
       "    .dataframe tbody tr th {\n",
       "        vertical-align: top;\n",
       "    }\n",
       "\n",
       "    .dataframe thead th {\n",
       "        text-align: right;\n",
       "    }\n",
       "</style>\n",
       "<table border=\"1\" class=\"dataframe\">\n",
       "  <thead>\n",
       "    <tr style=\"text-align: right;\">\n",
       "      <th></th>\n",
       "      <th>imdb</th>\n",
       "      <th>title</th>\n",
       "      <th>test</th>\n",
       "      <th>clean_test</th>\n",
       "      <th>binary</th>\n",
       "      <th>budget</th>\n",
       "      <th>domgross</th>\n",
       "      <th>intgross</th>\n",
       "      <th>code</th>\n",
       "      <th>budget_2013$</th>\n",
       "      <th>domgross_2013$</th>\n",
       "      <th>intgross_2013$</th>\n",
       "      <th>period code</th>\n",
       "      <th>decade code</th>\n",
       "    </tr>\n",
       "    <tr>\n",
       "      <th>year</th>\n",
       "      <th></th>\n",
       "      <th></th>\n",
       "      <th></th>\n",
       "      <th></th>\n",
       "      <th></th>\n",
       "      <th></th>\n",
       "      <th></th>\n",
       "      <th></th>\n",
       "      <th></th>\n",
       "      <th></th>\n",
       "      <th></th>\n",
       "      <th></th>\n",
       "      <th></th>\n",
       "      <th></th>\n",
       "    </tr>\n",
       "  </thead>\n",
       "  <tbody>\n",
       "    <tr>\n",
       "      <th>2013</th>\n",
       "      <td>tt1711425</td>\n",
       "      <td>21 &amp;amp; Over</td>\n",
       "      <td>notalk</td>\n",
       "      <td>1</td>\n",
       "      <td>FAIL</td>\n",
       "      <td>13000000</td>\n",
       "      <td>25682380.0</td>\n",
       "      <td>42195766.0</td>\n",
       "      <td>2013FAIL</td>\n",
       "      <td>13000000</td>\n",
       "      <td>25682380.0</td>\n",
       "      <td>42195766.0</td>\n",
       "      <td>1.0</td>\n",
       "      <td>1.0</td>\n",
       "    </tr>\n",
       "    <tr>\n",
       "      <th>2013</th>\n",
       "      <td>tt1731141</td>\n",
       "      <td>Ender&amp;#39;s Game</td>\n",
       "      <td>men</td>\n",
       "      <td>2</td>\n",
       "      <td>FAIL</td>\n",
       "      <td>110000000</td>\n",
       "      <td>61737191.0</td>\n",
       "      <td>89737191.0</td>\n",
       "      <td>2013FAIL</td>\n",
       "      <td>110000000</td>\n",
       "      <td>61737191.0</td>\n",
       "      <td>89737191.0</td>\n",
       "      <td>1.0</td>\n",
       "      <td>1.0</td>\n",
       "    </tr>\n",
       "    <tr>\n",
       "      <th>2013</th>\n",
       "      <td>tt1428538</td>\n",
       "      <td>Hansel &amp;amp; Gretel: Witch Hunters</td>\n",
       "      <td>ok</td>\n",
       "      <td>3</td>\n",
       "      <td>PASS</td>\n",
       "      <td>50000000</td>\n",
       "      <td>55703475.0</td>\n",
       "      <td>225703475.0</td>\n",
       "      <td>2013PASS</td>\n",
       "      <td>50000000</td>\n",
       "      <td>55703475.0</td>\n",
       "      <td>225703475.0</td>\n",
       "      <td>1.0</td>\n",
       "      <td>1.0</td>\n",
       "    </tr>\n",
       "    <tr>\n",
       "      <th>2013</th>\n",
       "      <td>tt1327773</td>\n",
       "      <td>Lee Daniels&amp;#39; The Butler</td>\n",
       "      <td>ok</td>\n",
       "      <td>3</td>\n",
       "      <td>PASS</td>\n",
       "      <td>30000000</td>\n",
       "      <td>116632095.0</td>\n",
       "      <td>151513429.0</td>\n",
       "      <td>2013PASS</td>\n",
       "      <td>30000000</td>\n",
       "      <td>116632095.0</td>\n",
       "      <td>151513429.0</td>\n",
       "      <td>1.0</td>\n",
       "      <td>1.0</td>\n",
       "    </tr>\n",
       "    <tr>\n",
       "      <th>2013</th>\n",
       "      <td>tt1980209</td>\n",
       "      <td>Pain &amp;amp; Gain</td>\n",
       "      <td>notalk</td>\n",
       "      <td>1</td>\n",
       "      <td>FAIL</td>\n",
       "      <td>26000000</td>\n",
       "      <td>49875291.0</td>\n",
       "      <td>81275291.0</td>\n",
       "      <td>2013FAIL</td>\n",
       "      <td>26000000</td>\n",
       "      <td>49875291.0</td>\n",
       "      <td>81275291.0</td>\n",
       "      <td>1.0</td>\n",
       "      <td>1.0</td>\n",
       "    </tr>\n",
       "    <tr>\n",
       "      <th>...</th>\n",
       "      <td>...</td>\n",
       "      <td>...</td>\n",
       "      <td>...</td>\n",
       "      <td>...</td>\n",
       "      <td>...</td>\n",
       "      <td>...</td>\n",
       "      <td>...</td>\n",
       "      <td>...</td>\n",
       "      <td>...</td>\n",
       "      <td>...</td>\n",
       "      <td>...</td>\n",
       "      <td>...</td>\n",
       "      <td>...</td>\n",
       "      <td>...</td>\n",
       "    </tr>\n",
       "    <tr>\n",
       "      <th>1980</th>\n",
       "      <td>tt0080492</td>\n",
       "      <td>Can&amp;#39;t Stop the Music</td>\n",
       "      <td>ok</td>\n",
       "      <td>3</td>\n",
       "      <td>PASS</td>\n",
       "      <td>20000000</td>\n",
       "      <td>2000000.0</td>\n",
       "      <td>2000000.0</td>\n",
       "      <td>1980PASS</td>\n",
       "      <td>56555357</td>\n",
       "      <td>5655536.0</td>\n",
       "      <td>5655536.0</td>\n",
       "      <td>NaN</td>\n",
       "      <td>NaN</td>\n",
       "    </tr>\n",
       "    <tr>\n",
       "      <th>1980</th>\n",
       "      <td>tt0080855</td>\n",
       "      <td>Heaven&amp;#39;s Gate</td>\n",
       "      <td>nowomen</td>\n",
       "      <td>0</td>\n",
       "      <td>FAIL</td>\n",
       "      <td>44000000</td>\n",
       "      <td>3484331.0</td>\n",
       "      <td>3484331.0</td>\n",
       "      <td>1980FAIL</td>\n",
       "      <td>124421786</td>\n",
       "      <td>9852879.0</td>\n",
       "      <td>9852879.0</td>\n",
       "      <td>NaN</td>\n",
       "      <td>NaN</td>\n",
       "    </tr>\n",
       "    <tr>\n",
       "      <th>1976</th>\n",
       "      <td>tt0074812</td>\n",
       "      <td>Logan&amp;#39;s Run</td>\n",
       "      <td>men</td>\n",
       "      <td>2</td>\n",
       "      <td>FAIL</td>\n",
       "      <td>7000000</td>\n",
       "      <td>25000000.0</td>\n",
       "      <td>25000000.0</td>\n",
       "      <td>1976FAIL</td>\n",
       "      <td>28642791</td>\n",
       "      <td>102295681.0</td>\n",
       "      <td>102295681.0</td>\n",
       "      <td>NaN</td>\n",
       "      <td>NaN</td>\n",
       "    </tr>\n",
       "    <tr>\n",
       "      <th>1975</th>\n",
       "      <td>tt0073486</td>\n",
       "      <td>One Flew Over the Cuckoo&amp;#39;s Nest</td>\n",
       "      <td>men</td>\n",
       "      <td>2</td>\n",
       "      <td>FAIL</td>\n",
       "      <td>4400000</td>\n",
       "      <td>108981275.0</td>\n",
       "      <td>108981275.0</td>\n",
       "      <td>1975FAIL</td>\n",
       "      <td>19043641</td>\n",
       "      <td>471681892.0</td>\n",
       "      <td>471681892.0</td>\n",
       "      <td>NaN</td>\n",
       "      <td>NaN</td>\n",
       "    </tr>\n",
       "    <tr>\n",
       "      <th>1971</th>\n",
       "      <td>tt0067992</td>\n",
       "      <td>Willy Wonka &amp;amp; the Chocolate Factory</td>\n",
       "      <td>men-disagree</td>\n",
       "      <td>2</td>\n",
       "      <td>FAIL</td>\n",
       "      <td>3000000</td>\n",
       "      <td>4000000.0</td>\n",
       "      <td>4000000.0</td>\n",
       "      <td>1971FAIL</td>\n",
       "      <td>17263543</td>\n",
       "      <td>23018057.0</td>\n",
       "      <td>23018057.0</td>\n",
       "      <td>NaN</td>\n",
       "      <td>NaN</td>\n",
       "    </tr>\n",
       "  </tbody>\n",
       "</table>\n",
       "<p>98 rows × 14 columns</p>\n",
       "</div>"
      ],
      "text/plain": [
       "           imdb                                    title          test  \\\n",
       "year                                                                     \n",
       "2013  tt1711425                            21 &amp; Over        notalk   \n",
       "2013  tt1731141                         Ender&#39;s Game           men   \n",
       "2013  tt1428538       Hansel &amp; Gretel: Witch Hunters            ok   \n",
       "2013  tt1327773              Lee Daniels&#39; The Butler            ok   \n",
       "2013  tt1980209                          Pain &amp; Gain        notalk   \n",
       "...         ...                                      ...           ...   \n",
       "1980  tt0080492                 Can&#39;t Stop the Music            ok   \n",
       "1980  tt0080855                        Heaven&#39;s Gate       nowomen   \n",
       "1976  tt0074812                          Logan&#39;s Run           men   \n",
       "1975  tt0073486      One Flew Over the Cuckoo&#39;s Nest           men   \n",
       "1971  tt0067992  Willy Wonka &amp; the Chocolate Factory  men-disagree   \n",
       "\n",
       "     clean_test binary     budget     domgross     intgross      code  \\\n",
       "year                                                                    \n",
       "2013          1   FAIL   13000000   25682380.0   42195766.0  2013FAIL   \n",
       "2013          2   FAIL  110000000   61737191.0   89737191.0  2013FAIL   \n",
       "2013          3   PASS   50000000   55703475.0  225703475.0  2013PASS   \n",
       "2013          3   PASS   30000000  116632095.0  151513429.0  2013PASS   \n",
       "2013          1   FAIL   26000000   49875291.0   81275291.0  2013FAIL   \n",
       "...         ...    ...        ...          ...          ...       ...   \n",
       "1980          3   PASS   20000000    2000000.0    2000000.0  1980PASS   \n",
       "1980          0   FAIL   44000000    3484331.0    3484331.0  1980FAIL   \n",
       "1976          2   FAIL    7000000   25000000.0   25000000.0  1976FAIL   \n",
       "1975          2   FAIL    4400000  108981275.0  108981275.0  1975FAIL   \n",
       "1971          2   FAIL    3000000    4000000.0    4000000.0  1971FAIL   \n",
       "\n",
       "      budget_2013$  domgross_2013$  intgross_2013$  period code  decade code  \n",
       "year                                                                          \n",
       "2013      13000000      25682380.0      42195766.0          1.0          1.0  \n",
       "2013     110000000      61737191.0      89737191.0          1.0          1.0  \n",
       "2013      50000000      55703475.0     225703475.0          1.0          1.0  \n",
       "2013      30000000     116632095.0     151513429.0          1.0          1.0  \n",
       "2013      26000000      49875291.0      81275291.0          1.0          1.0  \n",
       "...            ...             ...             ...          ...          ...  \n",
       "1980      56555357       5655536.0       5655536.0          NaN          NaN  \n",
       "1980     124421786       9852879.0       9852879.0          NaN          NaN  \n",
       "1976      28642791     102295681.0     102295681.0          NaN          NaN  \n",
       "1975      19043641     471681892.0     471681892.0          NaN          NaN  \n",
       "1971      17263543      23018057.0      23018057.0          NaN          NaN  \n",
       "\n",
       "[98 rows x 14 columns]"
      ]
     },
     "execution_count": 174,
     "metadata": {},
     "output_type": "execute_result"
    }
   ],
   "source": [
    "df_ver = df[df[\"title\"].str.contains(\"&\")]\n",
    "df_ver"
   ]
  },
  {
   "cell_type": "code",
   "execution_count": 175,
   "metadata": {},
   "outputs": [
    {
     "name": "stdout",
     "output_type": "stream",
     "text": [
      "98\n"
     ]
    }
   ],
   "source": [
    "print(len(df_ver))"
   ]
  },
  {
   "cell_type": "code",
   "execution_count": 176,
   "metadata": {},
   "outputs": [
    {
     "data": {
      "text/plain": [
       "Index(['imdb', 'title', 'test', 'clean_test', 'binary', 'budget', 'domgross',\n",
       "       'intgross', 'code', 'budget_2013$', 'domgross_2013$', 'intgross_2013$',\n",
       "       'period code', 'decade code'],\n",
       "      dtype='object')"
      ]
     },
     "execution_count": 176,
     "metadata": {},
     "output_type": "execute_result"
    }
   ],
   "source": [
    "df.columns"
   ]
  },
  {
   "cell_type": "code",
   "execution_count": 177,
   "metadata": {},
   "outputs": [],
   "source": [
    "def limpiar_titulo(title):\n",
    "    # sustituir \n",
    "    title = title.replace('&amp;', 'and')\n",
    "    title = title.replace('&#39;', '´')\n",
    "    title = title.replace('&eacute;', 'é')\n",
    "    title = title.replace('&egrave;', 'è')\n",
    "    title = title.replace('&agrave;', 'à')\n",
    "    title = title.replace('&#150;&nbsp;', '-')\n",
    "    title = title.replace('&#305;', 'i')\n",
    "    title = title.replace('&quot;', '')\n",
    "    title = title.replace('&ouml;', 'ö')\n",
    "    title = title.replace('&auml;', 'ä')\n",
    "    title = title.replace('&uuml;', 'ü')\n",
    "    title = title.replace('#146;', '´')\n",
    "    title = title.replace('&iacute;', 'í')\n",
    "    title = title.replace('&eth;', 'd')\n",
    "    title = title.replace('&ocirc;', 'ô')\n",
    "    title = title.replace('&ucirc;', 'û')\n",
    "    title = title.replace('&acute;', '´')\n",
    "    title = title.replace('&frac12;', '1/2')\n",
    "    title = title.replace('&ograve;', 'ò')\n",
    "    title = title.replace('d&#146;', 'd´')\n",
    "    title = title.replace('&ugrave;', 'ù')\n",
    "    title = title.replace('&#378;', 'z')\n",
    "    title = title.replace('&euml;', 'ë')\n",
    "    title = title.replace('&Aacute;', 'Á')\n",
    "    title = title.replace('&aacute;', 'á')\n",
    "    title = title.replace('&oslash;', 'o')\n",
    "    title = title.replace('&acirc;', 'â')\n",
    "    title = title.replace('&#146;t', '´t')\n",
    "    title = title.replace('&ntilde;', 'ñ')\n",
    "    title = title.replace('&oacute;', 'ó')\n",
    "    title = title.replace('&atilde;o', 'a')\n",
    "    title = title.replace('&Ecirc;', 'ê')\n",
    "    \n",
    "     # Si el título termina con \", The\", ajustar el formato\n",
    "    if title.endswith(', The'):\n",
    "        title = 'The ' + title[:-5]  # Mover \"The\" al principio del título\n",
    "    return title\n",
    "\n",
    "# Aplicar la función de limpieza a la columna 'titulo'\n",
    "df['title'] = df['title'].apply(limpiar_titulo)"
   ]
  },
  {
   "cell_type": "code",
   "execution_count": 178,
   "metadata": {},
   "outputs": [
    {
     "name": "stdout",
     "output_type": "stream",
     "text": [
      "98\n"
     ]
    }
   ],
   "source": [
    "print(len(df_ver))"
   ]
  },
  {
   "cell_type": "code",
   "execution_count": 179,
   "metadata": {},
   "outputs": [],
   "source": [
    "df_movies_limpio['year'] = df_movies_limpio.index  \n"
   ]
  },
  {
   "cell_type": "code",
   "execution_count": 180,
   "metadata": {},
   "outputs": [
    {
     "data": {
      "text/plain": [
       "1970"
      ]
     },
     "execution_count": 180,
     "metadata": {},
     "output_type": "execute_result"
    }
   ],
   "source": [
    "df_movies_limpio[\"year\"].min()"
   ]
  },
  {
   "cell_type": "code",
   "execution_count": 181,
   "metadata": {},
   "outputs": [
    {
     "data": {
      "text/plain": [
       "2013"
      ]
     },
     "execution_count": 181,
     "metadata": {},
     "output_type": "execute_result"
    }
   ],
   "source": [
    "df_movies_limpio[\"year\"].max()"
   ]
  },
  {
   "cell_type": "code",
   "execution_count": 182,
   "metadata": {},
   "outputs": [
    {
     "data": {
      "text/plain": [
       "3          803\n",
       "1          514\n",
       "2          194\n",
       "dubious    142\n",
       "0          141\n",
       "Name: clean_test, dtype: int64"
      ]
     },
     "execution_count": 182,
     "metadata": {},
     "output_type": "execute_result"
    }
   ],
   "source": [
    "df_movies_limpio[\"clean_test\"].value_counts()"
   ]
  },
  {
   "cell_type": "code",
   "execution_count": 183,
   "metadata": {},
   "outputs": [],
   "source": [
    "decadas_dict = {\n",
    "    '1970s': range(1970, 1980),\n",
    "    '1980s': range(1980, 1990),\n",
    "    '1990s': range(1990, 2000),\n",
    "    '2000s': range(2000, 2010),\n",
    "    '2010s': range(2010, 2020),  # Include 2019 in this decade\n",
    "}\n",
    "\n",
    "# asignar decadas\n",
    "def get_decade(year):\n",
    "    for decade, year_range in decadas_dict.items():\n",
    "        if year in year_range:\n",
    "            return decade\n",
    "\n",
    "df_movies_limpio['década'] = df_movies_limpio['year'].apply(get_decade)\n",
    "\n"
   ]
  },
  {
   "cell_type": "code",
   "execution_count": 184,
   "metadata": {},
   "outputs": [
    {
     "name": "stdout",
     "output_type": "stream",
     "text": [
      "Empty DataFrame\n",
      "Columns: [imdb, title, clean_test, binary, budget, domgross, intgross, year, década]\n",
      "Index: []\n"
     ]
    }
   ],
   "source": [
    "df_no_disponible = df_movies_limpio[df_movies_limpio['década'] == \"No disponible\"]\n",
    "\n",
    "# Mostrar las filas donde 'década' es \"No disponible\"\n",
    "print(df_no_disponible)"
   ]
  },
  {
   "cell_type": "code",
   "execution_count": 185,
   "metadata": {},
   "outputs": [
    {
     "data": {
      "text/plain": [
       "2000s    840\n",
       "2010s    438\n",
       "1990s    337\n",
       "1980s    125\n",
       "1970s     54\n",
       "Name: década, dtype: int64"
      ]
     },
     "execution_count": 185,
     "metadata": {},
     "output_type": "execute_result"
    }
   ],
   "source": [
    "df_movies_limpio[\"década\"].value_counts()"
   ]
  },
  {
   "cell_type": "code",
   "execution_count": 186,
   "metadata": {},
   "outputs": [
    {
     "data": {
      "text/plain": [
       "False"
      ]
     },
     "execution_count": 186,
     "metadata": {},
     "output_type": "execute_result"
    }
   ],
   "source": [
    "df_movies_limpio[\"year\"].isnull().any()"
   ]
  },
  {
   "cell_type": "code",
   "execution_count": 187,
   "metadata": {},
   "outputs": [
    {
     "data": {
      "text/html": [
       "<div>\n",
       "<style scoped>\n",
       "    .dataframe tbody tr th:only-of-type {\n",
       "        vertical-align: middle;\n",
       "    }\n",
       "\n",
       "    .dataframe tbody tr th {\n",
       "        vertical-align: top;\n",
       "    }\n",
       "\n",
       "    .dataframe thead th {\n",
       "        text-align: right;\n",
       "    }\n",
       "</style>\n",
       "<table border=\"1\" class=\"dataframe\">\n",
       "  <thead>\n",
       "    <tr style=\"text-align: right;\">\n",
       "      <th></th>\n",
       "      <th>imdb</th>\n",
       "      <th>title</th>\n",
       "      <th>clean_test</th>\n",
       "      <th>binary</th>\n",
       "      <th>budget</th>\n",
       "      <th>domgross</th>\n",
       "      <th>intgross</th>\n",
       "      <th>year</th>\n",
       "      <th>década</th>\n",
       "    </tr>\n",
       "    <tr>\n",
       "      <th>year</th>\n",
       "      <th></th>\n",
       "      <th></th>\n",
       "      <th></th>\n",
       "      <th></th>\n",
       "      <th></th>\n",
       "      <th></th>\n",
       "      <th></th>\n",
       "      <th></th>\n",
       "      <th></th>\n",
       "    </tr>\n",
       "  </thead>\n",
       "  <tbody>\n",
       "    <tr>\n",
       "      <th>1971</th>\n",
       "      <td>tt0067741</td>\n",
       "      <td>Shaft</td>\n",
       "      <td>1</td>\n",
       "      <td>FAIL</td>\n",
       "      <td>53012938</td>\n",
       "      <td>70327868.0</td>\n",
       "      <td>107190108.0</td>\n",
       "      <td>1971</td>\n",
       "      <td>1970s</td>\n",
       "    </tr>\n",
       "    <tr>\n",
       "      <th>1971</th>\n",
       "      <td>tt0067800</td>\n",
       "      <td>Straw Dogs</td>\n",
       "      <td>1</td>\n",
       "      <td>FAIL</td>\n",
       "      <td>25000000</td>\n",
       "      <td>10324441.0</td>\n",
       "      <td>11253821.0</td>\n",
       "      <td>1971</td>\n",
       "      <td>1970s</td>\n",
       "    </tr>\n",
       "    <tr>\n",
       "      <th>1971</th>\n",
       "      <td>tt0067116</td>\n",
       "      <td>The French Connection</td>\n",
       "      <td>1</td>\n",
       "      <td>FAIL</td>\n",
       "      <td>2200000</td>\n",
       "      <td>41158757.0</td>\n",
       "      <td>41158757.0</td>\n",
       "      <td>1971</td>\n",
       "      <td>1970s</td>\n",
       "    </tr>\n",
       "    <tr>\n",
       "      <th>1971</th>\n",
       "      <td>tt0067992</td>\n",
       "      <td>Willy Wonka &amp;amp; the Chocolate Factory</td>\n",
       "      <td>2</td>\n",
       "      <td>FAIL</td>\n",
       "      <td>3000000</td>\n",
       "      <td>4000000.0</td>\n",
       "      <td>4000000.0</td>\n",
       "      <td>1971</td>\n",
       "      <td>1970s</td>\n",
       "    </tr>\n",
       "    <tr>\n",
       "      <th>1970</th>\n",
       "      <td>tt0065466</td>\n",
       "      <td>Beyond the Valley of the Dolls</td>\n",
       "      <td>3</td>\n",
       "      <td>PASS</td>\n",
       "      <td>1000000</td>\n",
       "      <td>9000000.0</td>\n",
       "      <td>9000000.0</td>\n",
       "      <td>1970</td>\n",
       "      <td>1970s</td>\n",
       "    </tr>\n",
       "  </tbody>\n",
       "</table>\n",
       "</div>"
      ],
      "text/plain": [
       "           imdb                                    title clean_test binary  \\\n",
       "year                                                                         \n",
       "1971  tt0067741                                    Shaft          1   FAIL   \n",
       "1971  tt0067800                               Straw Dogs          1   FAIL   \n",
       "1971  tt0067116                    The French Connection          1   FAIL   \n",
       "1971  tt0067992  Willy Wonka &amp; the Chocolate Factory          2   FAIL   \n",
       "1970  tt0065466           Beyond the Valley of the Dolls          3   PASS   \n",
       "\n",
       "        budget    domgross     intgross  year década  \n",
       "year                                                  \n",
       "1971  53012938  70327868.0  107190108.0  1971  1970s  \n",
       "1971  25000000  10324441.0   11253821.0  1971  1970s  \n",
       "1971   2200000  41158757.0   41158757.0  1971  1970s  \n",
       "1971   3000000   4000000.0    4000000.0  1971  1970s  \n",
       "1970   1000000   9000000.0    9000000.0  1970  1970s  "
      ]
     },
     "execution_count": 187,
     "metadata": {},
     "output_type": "execute_result"
    }
   ],
   "source": [
    "df_movies_limpio.head()\n",
    "df_movies_limpio.tail()"
   ]
  },
  {
   "cell_type": "code",
   "execution_count": 188,
   "metadata": {},
   "outputs": [
    {
     "data": {
      "text/plain": [
       "False"
      ]
     },
     "execution_count": 188,
     "metadata": {},
     "output_type": "execute_result"
    }
   ],
   "source": [
    "df_movies_limpio[\"year\"].isnull().any()"
   ]
  },
  {
   "cell_type": "code",
   "execution_count": 189,
   "metadata": {},
   "outputs": [],
   "source": [
    "\n",
    "df_movies_limpio.to_csv('movies_limpio.csv')\n",
    "\n"
   ]
  }
 ],
 "metadata": {
  "kernelspec": {
   "display_name": "base",
   "language": "python",
   "name": "python3"
  },
  "language_info": {
   "codemirror_mode": {
    "name": "ipython",
    "version": 3
   },
   "file_extension": ".py",
   "mimetype": "text/x-python",
   "name": "python",
   "nbconvert_exporter": "python",
   "pygments_lexer": "ipython3",
   "version": "3.9.7"
  }
 },
 "nbformat": 4,
 "nbformat_minor": 2
}

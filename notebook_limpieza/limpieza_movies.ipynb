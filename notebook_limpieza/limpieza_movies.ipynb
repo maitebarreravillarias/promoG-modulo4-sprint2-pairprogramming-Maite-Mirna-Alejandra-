{
 "cells": [
  {
   "cell_type": "code",
   "execution_count": 1,
   "metadata": {},
   "outputs": [],
   "source": [
    "import numpy as np\n",
    "import pandas as pd\n",
    "\n",
    "pd.set_option('display.max_columns', None)"
   ]
  },
  {
   "cell_type": "code",
   "execution_count": 2,
   "metadata": {},
   "outputs": [
    {
     "data": {
      "text/html": [
       "<div>\n",
       "<style scoped>\n",
       "    .dataframe tbody tr th:only-of-type {\n",
       "        vertical-align: middle;\n",
       "    }\n",
       "\n",
       "    .dataframe tbody tr th {\n",
       "        vertical-align: top;\n",
       "    }\n",
       "\n",
       "    .dataframe thead th {\n",
       "        text-align: right;\n",
       "    }\n",
       "</style>\n",
       "<table border=\"1\" class=\"dataframe\">\n",
       "  <thead>\n",
       "    <tr style=\"text-align: right;\">\n",
       "      <th></th>\n",
       "      <th>imdb</th>\n",
       "      <th>title</th>\n",
       "      <th>test</th>\n",
       "      <th>clean_test</th>\n",
       "      <th>binary</th>\n",
       "      <th>budget</th>\n",
       "      <th>domgross</th>\n",
       "      <th>intgross</th>\n",
       "      <th>code</th>\n",
       "      <th>budget_2013$</th>\n",
       "      <th>domgross_2013$</th>\n",
       "      <th>intgross_2013$</th>\n",
       "      <th>period code</th>\n",
       "      <th>decade code</th>\n",
       "    </tr>\n",
       "    <tr>\n",
       "      <th>year</th>\n",
       "      <th></th>\n",
       "      <th></th>\n",
       "      <th></th>\n",
       "      <th></th>\n",
       "      <th></th>\n",
       "      <th></th>\n",
       "      <th></th>\n",
       "      <th></th>\n",
       "      <th></th>\n",
       "      <th></th>\n",
       "      <th></th>\n",
       "      <th></th>\n",
       "      <th></th>\n",
       "      <th></th>\n",
       "    </tr>\n",
       "  </thead>\n",
       "  <tbody>\n",
       "    <tr>\n",
       "      <th>2013</th>\n",
       "      <td>tt1711425</td>\n",
       "      <td>21 &amp;amp; Over</td>\n",
       "      <td>notalk</td>\n",
       "      <td>notalk</td>\n",
       "      <td>FAIL</td>\n",
       "      <td>13000000</td>\n",
       "      <td>25682380.0</td>\n",
       "      <td>42195766.0</td>\n",
       "      <td>2013FAIL</td>\n",
       "      <td>13000000</td>\n",
       "      <td>25682380.0</td>\n",
       "      <td>42195766.0</td>\n",
       "      <td>1.0</td>\n",
       "      <td>1.0</td>\n",
       "    </tr>\n",
       "    <tr>\n",
       "      <th>2012</th>\n",
       "      <td>tt1343727</td>\n",
       "      <td>Dredd 3D</td>\n",
       "      <td>ok-disagree</td>\n",
       "      <td>ok</td>\n",
       "      <td>PASS</td>\n",
       "      <td>45000000</td>\n",
       "      <td>13414714.0</td>\n",
       "      <td>40868994.0</td>\n",
       "      <td>2012PASS</td>\n",
       "      <td>45658735</td>\n",
       "      <td>13611086.0</td>\n",
       "      <td>41467257.0</td>\n",
       "      <td>1.0</td>\n",
       "      <td>1.0</td>\n",
       "    </tr>\n",
       "    <tr>\n",
       "      <th>2013</th>\n",
       "      <td>tt2024544</td>\n",
       "      <td>12 Years a Slave</td>\n",
       "      <td>notalk-disagree</td>\n",
       "      <td>notalk</td>\n",
       "      <td>FAIL</td>\n",
       "      <td>20000000</td>\n",
       "      <td>53107035.0</td>\n",
       "      <td>158607035.0</td>\n",
       "      <td>2013FAIL</td>\n",
       "      <td>20000000</td>\n",
       "      <td>53107035.0</td>\n",
       "      <td>158607035.0</td>\n",
       "      <td>1.0</td>\n",
       "      <td>1.0</td>\n",
       "    </tr>\n",
       "    <tr>\n",
       "      <th>2013</th>\n",
       "      <td>tt1272878</td>\n",
       "      <td>2 Guns</td>\n",
       "      <td>notalk</td>\n",
       "      <td>notalk</td>\n",
       "      <td>FAIL</td>\n",
       "      <td>61000000</td>\n",
       "      <td>75612460.0</td>\n",
       "      <td>132493015.0</td>\n",
       "      <td>2013FAIL</td>\n",
       "      <td>61000000</td>\n",
       "      <td>75612460.0</td>\n",
       "      <td>132493015.0</td>\n",
       "      <td>1.0</td>\n",
       "      <td>1.0</td>\n",
       "    </tr>\n",
       "    <tr>\n",
       "      <th>2013</th>\n",
       "      <td>tt0453562</td>\n",
       "      <td>42</td>\n",
       "      <td>men</td>\n",
       "      <td>men</td>\n",
       "      <td>FAIL</td>\n",
       "      <td>40000000</td>\n",
       "      <td>95020213.0</td>\n",
       "      <td>95020213.0</td>\n",
       "      <td>2013FAIL</td>\n",
       "      <td>40000000</td>\n",
       "      <td>95020213.0</td>\n",
       "      <td>95020213.0</td>\n",
       "      <td>1.0</td>\n",
       "      <td>1.0</td>\n",
       "    </tr>\n",
       "  </tbody>\n",
       "</table>\n",
       "</div>"
      ],
      "text/plain": [
       "           imdb             title             test clean_test binary  \\\n",
       "year                                                                   \n",
       "2013  tt1711425     21 &amp; Over           notalk     notalk   FAIL   \n",
       "2012  tt1343727          Dredd 3D      ok-disagree         ok   PASS   \n",
       "2013  tt2024544  12 Years a Slave  notalk-disagree     notalk   FAIL   \n",
       "2013  tt1272878            2 Guns           notalk     notalk   FAIL   \n",
       "2013  tt0453562                42              men        men   FAIL   \n",
       "\n",
       "        budget    domgross     intgross      code  budget_2013$  \\\n",
       "year                                                              \n",
       "2013  13000000  25682380.0   42195766.0  2013FAIL      13000000   \n",
       "2012  45000000  13414714.0   40868994.0  2012PASS      45658735   \n",
       "2013  20000000  53107035.0  158607035.0  2013FAIL      20000000   \n",
       "2013  61000000  75612460.0  132493015.0  2013FAIL      61000000   \n",
       "2013  40000000  95020213.0   95020213.0  2013FAIL      40000000   \n",
       "\n",
       "      domgross_2013$  intgross_2013$  period code  decade code  \n",
       "year                                                            \n",
       "2013      25682380.0      42195766.0          1.0          1.0  \n",
       "2012      13611086.0      41467257.0          1.0          1.0  \n",
       "2013      53107035.0     158607035.0          1.0          1.0  \n",
       "2013      75612460.0     132493015.0          1.0          1.0  \n",
       "2013      95020213.0      95020213.0          1.0          1.0  "
      ]
     },
     "execution_count": 2,
     "metadata": {},
     "output_type": "execute_result"
    }
   ],
   "source": [
    "df = pd.read_csv(\"/Users/maite/Desktop/ADALAB/modulo-4/ejercicios/promoG-DA-modulo4-sprint2-Maite_Mirna-Alejandra/promoG-modulo4-sprint1-pairprogramming-Maite-Mirna-Alejandra/files_originales/archivos_originales/movies.csv\", index_col = 0)\n",
    "df.head()"
   ]
  },
  {
   "cell_type": "code",
   "execution_count": 3,
   "metadata": {},
   "outputs": [
    {
     "data": {
      "text/plain": [
       "1794"
      ]
     },
     "execution_count": 3,
     "metadata": {},
     "output_type": "execute_result"
    }
   ],
   "source": [
    "df.shape[0]"
   ]
  },
  {
   "cell_type": "code",
   "execution_count": 4,
   "metadata": {},
   "outputs": [
    {
     "data": {
      "text/plain": [
       "Index(['imdb', 'title', 'test', 'clean_test', 'binary', 'budget', 'domgross',\n",
       "       'intgross', 'code', 'budget_2013$', 'domgross_2013$', 'intgross_2013$',\n",
       "       'period code', 'decade code'],\n",
       "      dtype='object')"
      ]
     },
     "execution_count": 4,
     "metadata": {},
     "output_type": "execute_result"
    }
   ],
   "source": [
    "df.columns"
   ]
  },
  {
   "cell_type": "code",
   "execution_count": 5,
   "metadata": {},
   "outputs": [
    {
     "data": {
      "text/plain": [
       "Pride and Prejudice                   3\n",
       "Hannibal                              2\n",
       "The Illusionist                       2\n",
       "Conan the Barbarian                   2\n",
       "The Avengers                          2\n",
       "                                     ..\n",
       "In Bruges                             1\n",
       "Igor                                  1\n",
       "High School Musical 3: Senior Year    1\n",
       "Herb &amp; Dorothy                    1\n",
       "Beyond the Valley of the Dolls        1\n",
       "Name: title, Length: 1768, dtype: int64"
      ]
     },
     "execution_count": 5,
     "metadata": {},
     "output_type": "execute_result"
    }
   ],
   "source": [
    "df[\"title\"].value_counts()"
   ]
  },
  {
   "cell_type": "code",
   "execution_count": 6,
   "metadata": {},
   "outputs": [
    {
     "data": {
      "text/plain": [
       "ok                  696\n",
       "notalk              379\n",
       "notalk-disagree     135\n",
       "men                 125\n",
       "ok-disagree         107\n",
       "nowomen              88\n",
       "dubious              81\n",
       "men-disagree         69\n",
       "dubious-disagree     61\n",
       "nowomen-disagree     53\n",
       "Name: test, dtype: int64"
      ]
     },
     "execution_count": 6,
     "metadata": {},
     "output_type": "execute_result"
    }
   ],
   "source": [
    "df[\"test\"].value_counts()"
   ]
  },
  {
   "cell_type": "code",
   "execution_count": 7,
   "metadata": {},
   "outputs": [
    {
     "data": {
      "text/plain": [
       "ok         803\n",
       "notalk     514\n",
       "men        194\n",
       "dubious    142\n",
       "nowomen    141\n",
       "Name: clean_test, dtype: int64"
      ]
     },
     "execution_count": 7,
     "metadata": {},
     "output_type": "execute_result"
    }
   ],
   "source": [
    "df[\"clean_test\"].value_counts()"
   ]
  },
  {
   "cell_type": "code",
   "execution_count": 8,
   "metadata": {},
   "outputs": [
    {
     "data": {
      "text/plain": [
       "FAIL    991\n",
       "PASS    803\n",
       "Name: binary, dtype: int64"
      ]
     },
     "execution_count": 8,
     "metadata": {},
     "output_type": "execute_result"
    }
   ],
   "source": [
    "df[\"binary\"].value_counts()"
   ]
  },
  {
   "cell_type": "code",
   "execution_count": 9,
   "metadata": {},
   "outputs": [
    {
     "data": {
      "text/plain": [
       "1970"
      ]
     },
     "execution_count": 9,
     "metadata": {},
     "output_type": "execute_result"
    }
   ],
   "source": [
    "df.index.min()"
   ]
  },
  {
   "cell_type": "code",
   "execution_count": 10,
   "metadata": {},
   "outputs": [
    {
     "data": {
      "text/plain": [
       "2013"
      ]
     },
     "execution_count": 10,
     "metadata": {},
     "output_type": "execute_result"
    }
   ],
   "source": [
    "df.index.max()"
   ]
  },
  {
   "cell_type": "code",
   "execution_count": 11,
   "metadata": {},
   "outputs": [
    {
     "data": {
      "text/plain": [
       "2.0    488\n",
       "1.0    438\n",
       "3.0    352\n",
       "4.0    247\n",
       "5.0     90\n",
       "Name: period code, dtype: int64"
      ]
     },
     "execution_count": 11,
     "metadata": {},
     "output_type": "execute_result"
    }
   ],
   "source": [
    "df[\"period code\"].value_counts()"
   ]
  },
  {
   "cell_type": "code",
   "execution_count": 12,
   "metadata": {},
   "outputs": [
    {
     "data": {
      "text/html": [
       "<div>\n",
       "<style scoped>\n",
       "    .dataframe tbody tr th:only-of-type {\n",
       "        vertical-align: middle;\n",
       "    }\n",
       "\n",
       "    .dataframe tbody tr th {\n",
       "        vertical-align: top;\n",
       "    }\n",
       "\n",
       "    .dataframe thead th {\n",
       "        text-align: right;\n",
       "    }\n",
       "</style>\n",
       "<table border=\"1\" class=\"dataframe\">\n",
       "  <thead>\n",
       "    <tr style=\"text-align: right;\">\n",
       "      <th></th>\n",
       "      <th>imdb</th>\n",
       "      <th>title</th>\n",
       "      <th>test</th>\n",
       "      <th>clean_test</th>\n",
       "      <th>binary</th>\n",
       "      <th>budget</th>\n",
       "      <th>domgross</th>\n",
       "      <th>intgross</th>\n",
       "      <th>code</th>\n",
       "      <th>budget_2013$</th>\n",
       "      <th>domgross_2013$</th>\n",
       "      <th>intgross_2013$</th>\n",
       "      <th>period code</th>\n",
       "      <th>decade code</th>\n",
       "    </tr>\n",
       "    <tr>\n",
       "      <th>year</th>\n",
       "      <th></th>\n",
       "      <th></th>\n",
       "      <th></th>\n",
       "      <th></th>\n",
       "      <th></th>\n",
       "      <th></th>\n",
       "      <th></th>\n",
       "      <th></th>\n",
       "      <th></th>\n",
       "      <th></th>\n",
       "      <th></th>\n",
       "      <th></th>\n",
       "      <th></th>\n",
       "      <th></th>\n",
       "    </tr>\n",
       "  </thead>\n",
       "  <tbody>\n",
       "    <tr>\n",
       "      <th>2011</th>\n",
       "      <td>tt1540133</td>\n",
       "      <td>The Guard</td>\n",
       "      <td>notalk</td>\n",
       "      <td>notalk</td>\n",
       "      <td>FAIL</td>\n",
       "      <td>6000000</td>\n",
       "      <td>5359774.0</td>\n",
       "      <td>15944629.0</td>\n",
       "      <td>2011FAIL</td>\n",
       "      <td>6214145</td>\n",
       "      <td>5551069.0</td>\n",
       "      <td>1.651370e+07</td>\n",
       "      <td>1.0</td>\n",
       "      <td>1.0</td>\n",
       "    </tr>\n",
       "    <tr>\n",
       "      <th>2009</th>\n",
       "      <td>tt1182345</td>\n",
       "      <td>Moon</td>\n",
       "      <td>notalk-disagree</td>\n",
       "      <td>notalk</td>\n",
       "      <td>FAIL</td>\n",
       "      <td>5000000</td>\n",
       "      <td>5010163.0</td>\n",
       "      <td>10676073.0</td>\n",
       "      <td>2009FAIL</td>\n",
       "      <td>5428658</td>\n",
       "      <td>5439692.0</td>\n",
       "      <td>1.159135e+07</td>\n",
       "      <td>2.0</td>\n",
       "      <td>2.0</td>\n",
       "    </tr>\n",
       "    <tr>\n",
       "      <th>2001</th>\n",
       "      <td>tt0241527</td>\n",
       "      <td>Harry Potter and the Sorcerer&amp;#39;s Stone</td>\n",
       "      <td>ok</td>\n",
       "      <td>ok</td>\n",
       "      <td>PASS</td>\n",
       "      <td>125000000</td>\n",
       "      <td>317575550.0</td>\n",
       "      <td>974755371.0</td>\n",
       "      <td>2001PASS</td>\n",
       "      <td>164480745</td>\n",
       "      <td>417880504.0</td>\n",
       "      <td>1.282628e+09</td>\n",
       "      <td>3.0</td>\n",
       "      <td>2.0</td>\n",
       "    </tr>\n",
       "    <tr>\n",
       "      <th>1998</th>\n",
       "      <td>tt0120813</td>\n",
       "      <td>Safe Men</td>\n",
       "      <td>nowomen</td>\n",
       "      <td>nowomen</td>\n",
       "      <td>FAIL</td>\n",
       "      <td>1000000</td>\n",
       "      <td>21210.0</td>\n",
       "      <td>21210.0</td>\n",
       "      <td>1998FAIL</td>\n",
       "      <td>1429132</td>\n",
       "      <td>30312.0</td>\n",
       "      <td>3.031200e+04</td>\n",
       "      <td>4.0</td>\n",
       "      <td>3.0</td>\n",
       "    </tr>\n",
       "    <tr>\n",
       "      <th>2008</th>\n",
       "      <td>tt0942385</td>\n",
       "      <td>Tropic Thunder</td>\n",
       "      <td>nowomen</td>\n",
       "      <td>nowomen</td>\n",
       "      <td>FAIL</td>\n",
       "      <td>90000000</td>\n",
       "      <td>110461307.0</td>\n",
       "      <td>188163455.0</td>\n",
       "      <td>2008FAIL</td>\n",
       "      <td>97403068</td>\n",
       "      <td>119547447.0</td>\n",
       "      <td>2.036411e+08</td>\n",
       "      <td>2.0</td>\n",
       "      <td>2.0</td>\n",
       "    </tr>\n",
       "    <tr>\n",
       "      <th>1980</th>\n",
       "      <td>tt0081534</td>\n",
       "      <td>Somewhere in Time</td>\n",
       "      <td>men</td>\n",
       "      <td>men</td>\n",
       "      <td>FAIL</td>\n",
       "      <td>5100000</td>\n",
       "      <td>9709597.0</td>\n",
       "      <td>9709597.0</td>\n",
       "      <td>1980FAIL</td>\n",
       "      <td>14421616</td>\n",
       "      <td>27456486.0</td>\n",
       "      <td>2.745649e+07</td>\n",
       "      <td>NaN</td>\n",
       "      <td>NaN</td>\n",
       "    </tr>\n",
       "    <tr>\n",
       "      <th>2005</th>\n",
       "      <td>tt0342272</td>\n",
       "      <td>Dear Wendy</td>\n",
       "      <td>notalk</td>\n",
       "      <td>notalk</td>\n",
       "      <td>FAIL</td>\n",
       "      <td>8000000</td>\n",
       "      <td>23106.0</td>\n",
       "      <td>446438.0</td>\n",
       "      <td>2005FAIL</td>\n",
       "      <td>9544265</td>\n",
       "      <td>27566.0</td>\n",
       "      <td>5.326150e+05</td>\n",
       "      <td>2.0</td>\n",
       "      <td>2.0</td>\n",
       "    </tr>\n",
       "    <tr>\n",
       "      <th>2007</th>\n",
       "      <td>tt0848557</td>\n",
       "      <td>Diary of the Dead</td>\n",
       "      <td>ok</td>\n",
       "      <td>ok</td>\n",
       "      <td>PASS</td>\n",
       "      <td>2750000</td>\n",
       "      <td>952620.0</td>\n",
       "      <td>5394447.0</td>\n",
       "      <td>2007PASS</td>\n",
       "      <td>3089745</td>\n",
       "      <td>1070310.0</td>\n",
       "      <td>6.060896e+06</td>\n",
       "      <td>2.0</td>\n",
       "      <td>2.0</td>\n",
       "    </tr>\n",
       "    <tr>\n",
       "      <th>2003</th>\n",
       "      <td>tt0340855</td>\n",
       "      <td>Monster</td>\n",
       "      <td>ok</td>\n",
       "      <td>ok</td>\n",
       "      <td>PASS</td>\n",
       "      <td>5000000</td>\n",
       "      <td>34469210.0</td>\n",
       "      <td>58003694.0</td>\n",
       "      <td>2003PASS</td>\n",
       "      <td>6330435</td>\n",
       "      <td>43641017.0</td>\n",
       "      <td>7.343772e+07</td>\n",
       "      <td>3.0</td>\n",
       "      <td>2.0</td>\n",
       "    </tr>\n",
       "    <tr>\n",
       "      <th>2008</th>\n",
       "      <td>tt0482606</td>\n",
       "      <td>The Strangers</td>\n",
       "      <td>dubious-disagree</td>\n",
       "      <td>dubious</td>\n",
       "      <td>FAIL</td>\n",
       "      <td>9000000</td>\n",
       "      <td>52597610.0</td>\n",
       "      <td>83051676.0</td>\n",
       "      <td>2008FAIL</td>\n",
       "      <td>9740307</td>\n",
       "      <td>56924095.0</td>\n",
       "      <td>8.988320e+07</td>\n",
       "      <td>2.0</td>\n",
       "      <td>2.0</td>\n",
       "    </tr>\n",
       "    <tr>\n",
       "      <th>1997</th>\n",
       "      <td>tt0119874</td>\n",
       "      <td>The Peacemaker</td>\n",
       "      <td>dubious</td>\n",
       "      <td>dubious</td>\n",
       "      <td>FAIL</td>\n",
       "      <td>50000000</td>\n",
       "      <td>41263140.0</td>\n",
       "      <td>62967368.0</td>\n",
       "      <td>1997FAIL</td>\n",
       "      <td>72561906</td>\n",
       "      <td>59882642.0</td>\n",
       "      <td>9.138064e+07</td>\n",
       "      <td>4.0</td>\n",
       "      <td>3.0</td>\n",
       "    </tr>\n",
       "    <tr>\n",
       "      <th>2006</th>\n",
       "      <td>tt0400717</td>\n",
       "      <td>Open Season</td>\n",
       "      <td>notalk</td>\n",
       "      <td>notalk</td>\n",
       "      <td>FAIL</td>\n",
       "      <td>85000000</td>\n",
       "      <td>85105259.0</td>\n",
       "      <td>189901703.0</td>\n",
       "      <td>2006FAIL</td>\n",
       "      <td>98242689</td>\n",
       "      <td>98364347.0</td>\n",
       "      <td>2.194877e+08</td>\n",
       "      <td>2.0</td>\n",
       "      <td>2.0</td>\n",
       "    </tr>\n",
       "    <tr>\n",
       "      <th>2012</th>\n",
       "      <td>tt1781769</td>\n",
       "      <td>Anna Karenina</td>\n",
       "      <td>men-disagree</td>\n",
       "      <td>men</td>\n",
       "      <td>FAIL</td>\n",
       "      <td>49000000</td>\n",
       "      <td>12816367.0</td>\n",
       "      <td>70735540.0</td>\n",
       "      <td>2012FAIL</td>\n",
       "      <td>49717290</td>\n",
       "      <td>13003980.0</td>\n",
       "      <td>7.177101e+07</td>\n",
       "      <td>1.0</td>\n",
       "      <td>1.0</td>\n",
       "    </tr>\n",
       "    <tr>\n",
       "      <th>2003</th>\n",
       "      <td>tt0335266</td>\n",
       "      <td>Lost In Translation</td>\n",
       "      <td>dubious-disagree</td>\n",
       "      <td>dubious</td>\n",
       "      <td>FAIL</td>\n",
       "      <td>4000000</td>\n",
       "      <td>44585453.0</td>\n",
       "      <td>112550685.0</td>\n",
       "      <td>2003FAIL</td>\n",
       "      <td>5064348</td>\n",
       "      <td>56449060.0</td>\n",
       "      <td>1.424990e+08</td>\n",
       "      <td>3.0</td>\n",
       "      <td>2.0</td>\n",
       "    </tr>\n",
       "    <tr>\n",
       "      <th>2008</th>\n",
       "      <td>tt0876563</td>\n",
       "      <td>Gake no ue no Ponyo</td>\n",
       "      <td>ok</td>\n",
       "      <td>ok</td>\n",
       "      <td>PASS</td>\n",
       "      <td>34000000</td>\n",
       "      <td>15090399.0</td>\n",
       "      <td>205312666.0</td>\n",
       "      <td>2008PASS</td>\n",
       "      <td>36796715</td>\n",
       "      <td>16331680.0</td>\n",
       "      <td>2.222009e+08</td>\n",
       "      <td>2.0</td>\n",
       "      <td>2.0</td>\n",
       "    </tr>\n",
       "  </tbody>\n",
       "</table>\n",
       "</div>"
      ],
      "text/plain": [
       "           imdb                                      title              test  \\\n",
       "year                                                                           \n",
       "2011  tt1540133                                  The Guard            notalk   \n",
       "2009  tt1182345                                       Moon   notalk-disagree   \n",
       "2001  tt0241527  Harry Potter and the Sorcerer&#39;s Stone                ok   \n",
       "1998  tt0120813                                   Safe Men           nowomen   \n",
       "2008  tt0942385                             Tropic Thunder           nowomen   \n",
       "1980  tt0081534                          Somewhere in Time               men   \n",
       "2005  tt0342272                                 Dear Wendy            notalk   \n",
       "2007  tt0848557                          Diary of the Dead                ok   \n",
       "2003  tt0340855                                    Monster                ok   \n",
       "2008  tt0482606                              The Strangers  dubious-disagree   \n",
       "1997  tt0119874                             The Peacemaker           dubious   \n",
       "2006  tt0400717                                Open Season            notalk   \n",
       "2012  tt1781769                              Anna Karenina      men-disagree   \n",
       "2003  tt0335266                        Lost In Translation  dubious-disagree   \n",
       "2008  tt0876563                        Gake no ue no Ponyo                ok   \n",
       "\n",
       "     clean_test binary     budget     domgross     intgross      code  \\\n",
       "year                                                                    \n",
       "2011     notalk   FAIL    6000000    5359774.0   15944629.0  2011FAIL   \n",
       "2009     notalk   FAIL    5000000    5010163.0   10676073.0  2009FAIL   \n",
       "2001         ok   PASS  125000000  317575550.0  974755371.0  2001PASS   \n",
       "1998    nowomen   FAIL    1000000      21210.0      21210.0  1998FAIL   \n",
       "2008    nowomen   FAIL   90000000  110461307.0  188163455.0  2008FAIL   \n",
       "1980        men   FAIL    5100000    9709597.0    9709597.0  1980FAIL   \n",
       "2005     notalk   FAIL    8000000      23106.0     446438.0  2005FAIL   \n",
       "2007         ok   PASS    2750000     952620.0    5394447.0  2007PASS   \n",
       "2003         ok   PASS    5000000   34469210.0   58003694.0  2003PASS   \n",
       "2008    dubious   FAIL    9000000   52597610.0   83051676.0  2008FAIL   \n",
       "1997    dubious   FAIL   50000000   41263140.0   62967368.0  1997FAIL   \n",
       "2006     notalk   FAIL   85000000   85105259.0  189901703.0  2006FAIL   \n",
       "2012        men   FAIL   49000000   12816367.0   70735540.0  2012FAIL   \n",
       "2003    dubious   FAIL    4000000   44585453.0  112550685.0  2003FAIL   \n",
       "2008         ok   PASS   34000000   15090399.0  205312666.0  2008PASS   \n",
       "\n",
       "      budget_2013$  domgross_2013$  intgross_2013$  period code  decade code  \n",
       "year                                                                          \n",
       "2011       6214145       5551069.0    1.651370e+07          1.0          1.0  \n",
       "2009       5428658       5439692.0    1.159135e+07          2.0          2.0  \n",
       "2001     164480745     417880504.0    1.282628e+09          3.0          2.0  \n",
       "1998       1429132         30312.0    3.031200e+04          4.0          3.0  \n",
       "2008      97403068     119547447.0    2.036411e+08          2.0          2.0  \n",
       "1980      14421616      27456486.0    2.745649e+07          NaN          NaN  \n",
       "2005       9544265         27566.0    5.326150e+05          2.0          2.0  \n",
       "2007       3089745       1070310.0    6.060896e+06          2.0          2.0  \n",
       "2003       6330435      43641017.0    7.343772e+07          3.0          2.0  \n",
       "2008       9740307      56924095.0    8.988320e+07          2.0          2.0  \n",
       "1997      72561906      59882642.0    9.138064e+07          4.0          3.0  \n",
       "2006      98242689      98364347.0    2.194877e+08          2.0          2.0  \n",
       "2012      49717290      13003980.0    7.177101e+07          1.0          1.0  \n",
       "2003       5064348      56449060.0    1.424990e+08          3.0          2.0  \n",
       "2008      36796715      16331680.0    2.222009e+08          2.0          2.0  "
      ]
     },
     "execution_count": 12,
     "metadata": {},
     "output_type": "execute_result"
    }
   ],
   "source": [
    "df.sample(15)"
   ]
  },
  {
   "cell_type": "code",
   "execution_count": 13,
   "metadata": {},
   "outputs": [
    {
     "data": {
      "text/plain": [
       "ok         803\n",
       "notalk     514\n",
       "men        194\n",
       "dubious    142\n",
       "nowomen    141\n",
       "Name: clean_test, dtype: int64"
      ]
     },
     "execution_count": 13,
     "metadata": {},
     "output_type": "execute_result"
    }
   ],
   "source": [
    "df[\"clean_test\"].value_counts()"
   ]
  },
  {
   "cell_type": "code",
   "execution_count": 14,
   "metadata": {},
   "outputs": [],
   "source": [
    "valor_actual_a_nuevo_valor = {\n",
    "    'ok': 3,\n",
    "    'notalk': 1,\n",
    "    'men': 2,\n",
    "    'dubious': \"dubious\",\n",
    "    'no women': 0,\n",
    "    \"nowomen\": 0}"
   ]
  },
  {
   "cell_type": "code",
   "execution_count": 15,
   "metadata": {},
   "outputs": [],
   "source": [
    "df['clean_test'] = df['clean_test'].replace(valor_actual_a_nuevo_valor)"
   ]
  },
  {
   "cell_type": "code",
   "execution_count": 16,
   "metadata": {},
   "outputs": [
    {
     "data": {
      "text/plain": [
       "year\n",
       "2013    1\n",
       "2012    3\n",
       "2013    1\n",
       "2013    1\n",
       "2013    2\n",
       "       ..\n",
       "1971    1\n",
       "1971    1\n",
       "1971    1\n",
       "1971    2\n",
       "1970    3\n",
       "Name: clean_test, Length: 1794, dtype: object"
      ]
     },
     "execution_count": 16,
     "metadata": {},
     "output_type": "execute_result"
    }
   ],
   "source": [
    "df[\"clean_test\"]"
   ]
  },
  {
   "cell_type": "code",
   "execution_count": 17,
   "metadata": {},
   "outputs": [
    {
     "data": {
      "text/plain": [
       "Index(['imdb', 'title', 'test', 'clean_test', 'binary', 'budget', 'domgross',\n",
       "       'intgross', 'code', 'budget_2013$', 'domgross_2013$', 'intgross_2013$',\n",
       "       'period code', 'decade code'],\n",
       "      dtype='object')"
      ]
     },
     "execution_count": 17,
     "metadata": {},
     "output_type": "execute_result"
    }
   ],
   "source": [
    "df.columns"
   ]
  },
  {
   "cell_type": "code",
   "execution_count": 18,
   "metadata": {},
   "outputs": [],
   "source": [
    "columnas_a_eliminar = ['test', 'code', \"period code\", \"decade code\", 'budget_2013$', 'domgross_2013$', 'intgross_2013$']\n",
    "\n",
    "df_movies_limpio = df.drop(columnas_a_eliminar, axis=1)"
   ]
  },
  {
   "cell_type": "code",
   "execution_count": 19,
   "metadata": {},
   "outputs": [
    {
     "data": {
      "text/html": [
       "<div>\n",
       "<style scoped>\n",
       "    .dataframe tbody tr th:only-of-type {\n",
       "        vertical-align: middle;\n",
       "    }\n",
       "\n",
       "    .dataframe tbody tr th {\n",
       "        vertical-align: top;\n",
       "    }\n",
       "\n",
       "    .dataframe thead th {\n",
       "        text-align: right;\n",
       "    }\n",
       "</style>\n",
       "<table border=\"1\" class=\"dataframe\">\n",
       "  <thead>\n",
       "    <tr style=\"text-align: right;\">\n",
       "      <th></th>\n",
       "      <th>imdb</th>\n",
       "      <th>title</th>\n",
       "      <th>clean_test</th>\n",
       "      <th>binary</th>\n",
       "      <th>budget</th>\n",
       "      <th>domgross</th>\n",
       "      <th>intgross</th>\n",
       "    </tr>\n",
       "    <tr>\n",
       "      <th>year</th>\n",
       "      <th></th>\n",
       "      <th></th>\n",
       "      <th></th>\n",
       "      <th></th>\n",
       "      <th></th>\n",
       "      <th></th>\n",
       "      <th></th>\n",
       "    </tr>\n",
       "  </thead>\n",
       "  <tbody>\n",
       "    <tr>\n",
       "      <th>2013</th>\n",
       "      <td>tt1711425</td>\n",
       "      <td>21 &amp;amp; Over</td>\n",
       "      <td>1</td>\n",
       "      <td>FAIL</td>\n",
       "      <td>13000000</td>\n",
       "      <td>25682380.0</td>\n",
       "      <td>42195766.0</td>\n",
       "    </tr>\n",
       "    <tr>\n",
       "      <th>2012</th>\n",
       "      <td>tt1343727</td>\n",
       "      <td>Dredd 3D</td>\n",
       "      <td>3</td>\n",
       "      <td>PASS</td>\n",
       "      <td>45000000</td>\n",
       "      <td>13414714.0</td>\n",
       "      <td>40868994.0</td>\n",
       "    </tr>\n",
       "    <tr>\n",
       "      <th>2013</th>\n",
       "      <td>tt2024544</td>\n",
       "      <td>12 Years a Slave</td>\n",
       "      <td>1</td>\n",
       "      <td>FAIL</td>\n",
       "      <td>20000000</td>\n",
       "      <td>53107035.0</td>\n",
       "      <td>158607035.0</td>\n",
       "    </tr>\n",
       "    <tr>\n",
       "      <th>2013</th>\n",
       "      <td>tt1272878</td>\n",
       "      <td>2 Guns</td>\n",
       "      <td>1</td>\n",
       "      <td>FAIL</td>\n",
       "      <td>61000000</td>\n",
       "      <td>75612460.0</td>\n",
       "      <td>132493015.0</td>\n",
       "    </tr>\n",
       "    <tr>\n",
       "      <th>2013</th>\n",
       "      <td>tt0453562</td>\n",
       "      <td>42</td>\n",
       "      <td>2</td>\n",
       "      <td>FAIL</td>\n",
       "      <td>40000000</td>\n",
       "      <td>95020213.0</td>\n",
       "      <td>95020213.0</td>\n",
       "    </tr>\n",
       "  </tbody>\n",
       "</table>\n",
       "</div>"
      ],
      "text/plain": [
       "           imdb             title clean_test binary    budget    domgross  \\\n",
       "year                                                                        \n",
       "2013  tt1711425     21 &amp; Over          1   FAIL  13000000  25682380.0   \n",
       "2012  tt1343727          Dredd 3D          3   PASS  45000000  13414714.0   \n",
       "2013  tt2024544  12 Years a Slave          1   FAIL  20000000  53107035.0   \n",
       "2013  tt1272878            2 Guns          1   FAIL  61000000  75612460.0   \n",
       "2013  tt0453562                42          2   FAIL  40000000  95020213.0   \n",
       "\n",
       "         intgross  \n",
       "year               \n",
       "2013   42195766.0  \n",
       "2012   40868994.0  \n",
       "2013  158607035.0  \n",
       "2013  132493015.0  \n",
       "2013   95020213.0  "
      ]
     },
     "execution_count": 19,
     "metadata": {},
     "output_type": "execute_result"
    }
   ],
   "source": [
    "df_movies_limpio.head()"
   ]
  },
  {
   "cell_type": "code",
   "execution_count": 20,
   "metadata": {},
   "outputs": [],
   "source": [
    "df_movies_limpio['year'] = df_movies_limpio.index  \n"
   ]
  },
  {
   "cell_type": "code",
   "execution_count": 21,
   "metadata": {},
   "outputs": [
    {
     "data": {
      "text/plain": [
       "1970"
      ]
     },
     "execution_count": 21,
     "metadata": {},
     "output_type": "execute_result"
    }
   ],
   "source": [
    "df_movies_limpio[\"year\"].min()"
   ]
  },
  {
   "cell_type": "code",
   "execution_count": 22,
   "metadata": {},
   "outputs": [
    {
     "data": {
      "text/plain": [
       "2013"
      ]
     },
     "execution_count": 22,
     "metadata": {},
     "output_type": "execute_result"
    }
   ],
   "source": [
    "df_movies_limpio[\"year\"].max()"
   ]
  },
  {
   "cell_type": "code",
   "execution_count": 23,
   "metadata": {},
   "outputs": [
    {
     "data": {
      "text/plain": [
       "3          803\n",
       "1          514\n",
       "2          194\n",
       "dubious    142\n",
       "0          141\n",
       "Name: clean_test, dtype: int64"
      ]
     },
     "execution_count": 23,
     "metadata": {},
     "output_type": "execute_result"
    }
   ],
   "source": [
    "df_movies_limpio[\"clean_test\"].value_counts()"
   ]
  },
  {
   "cell_type": "code",
   "execution_count": 24,
   "metadata": {},
   "outputs": [],
   "source": [
    "decadas_dict = {\n",
    "    '1970s': range(1970, 1980),\n",
    "    '1980s': range(1980, 1990),\n",
    "    '1990s': range(1990, 2000),\n",
    "    '2000s': range(2000, 2010),\n",
    "    '2010s': range(2010, 2020),  # Include 2019 in this decade\n",
    "}\n",
    "\n",
    "# asignar decadas\n",
    "def get_decade(year):\n",
    "    for decade, year_range in decadas_dict.items():\n",
    "        if year in year_range:\n",
    "            return decade\n",
    "\n",
    "df_movies_limpio['década'] = df_movies_limpio['year'].apply(get_decade)\n",
    "\n"
   ]
  },
  {
   "cell_type": "code",
   "execution_count": 25,
   "metadata": {},
   "outputs": [
    {
     "name": "stdout",
     "output_type": "stream",
     "text": [
      "Empty DataFrame\n",
      "Columns: [imdb, title, clean_test, binary, budget, domgross, intgross, year, década]\n",
      "Index: []\n"
     ]
    }
   ],
   "source": [
    "df_no_disponible = df_movies_limpio[df_movies_limpio['década'] == \"No disponible\"]\n",
    "\n",
    "# Mostrar las filas donde 'década' es \"No disponible\"\n",
    "print(df_no_disponible)"
   ]
  },
  {
   "cell_type": "code",
   "execution_count": 26,
   "metadata": {},
   "outputs": [
    {
     "data": {
      "text/plain": [
       "2000s    840\n",
       "2010s    438\n",
       "1990s    337\n",
       "1980s    125\n",
       "1970s     54\n",
       "Name: década, dtype: int64"
      ]
     },
     "execution_count": 26,
     "metadata": {},
     "output_type": "execute_result"
    }
   ],
   "source": [
    "df_movies_limpio[\"década\"].value_counts()"
   ]
  },
  {
   "cell_type": "code",
   "execution_count": 27,
   "metadata": {},
   "outputs": [
    {
     "data": {
      "text/plain": [
       "False"
      ]
     },
     "execution_count": 27,
     "metadata": {},
     "output_type": "execute_result"
    }
   ],
   "source": [
    "df_movies_limpio[\"year\"].isnull().any()"
   ]
  },
  {
   "cell_type": "code",
   "execution_count": 28,
   "metadata": {},
   "outputs": [
    {
     "data": {
      "text/html": [
       "<div>\n",
       "<style scoped>\n",
       "    .dataframe tbody tr th:only-of-type {\n",
       "        vertical-align: middle;\n",
       "    }\n",
       "\n",
       "    .dataframe tbody tr th {\n",
       "        vertical-align: top;\n",
       "    }\n",
       "\n",
       "    .dataframe thead th {\n",
       "        text-align: right;\n",
       "    }\n",
       "</style>\n",
       "<table border=\"1\" class=\"dataframe\">\n",
       "  <thead>\n",
       "    <tr style=\"text-align: right;\">\n",
       "      <th></th>\n",
       "      <th>imdb</th>\n",
       "      <th>title</th>\n",
       "      <th>clean_test</th>\n",
       "      <th>binary</th>\n",
       "      <th>budget</th>\n",
       "      <th>domgross</th>\n",
       "      <th>intgross</th>\n",
       "      <th>year</th>\n",
       "      <th>década</th>\n",
       "    </tr>\n",
       "    <tr>\n",
       "      <th>year</th>\n",
       "      <th></th>\n",
       "      <th></th>\n",
       "      <th></th>\n",
       "      <th></th>\n",
       "      <th></th>\n",
       "      <th></th>\n",
       "      <th></th>\n",
       "      <th></th>\n",
       "      <th></th>\n",
       "    </tr>\n",
       "  </thead>\n",
       "  <tbody>\n",
       "    <tr>\n",
       "      <th>1971</th>\n",
       "      <td>tt0067741</td>\n",
       "      <td>Shaft</td>\n",
       "      <td>1</td>\n",
       "      <td>FAIL</td>\n",
       "      <td>53012938</td>\n",
       "      <td>70327868.0</td>\n",
       "      <td>107190108.0</td>\n",
       "      <td>1971</td>\n",
       "      <td>1970s</td>\n",
       "    </tr>\n",
       "    <tr>\n",
       "      <th>1971</th>\n",
       "      <td>tt0067800</td>\n",
       "      <td>Straw Dogs</td>\n",
       "      <td>1</td>\n",
       "      <td>FAIL</td>\n",
       "      <td>25000000</td>\n",
       "      <td>10324441.0</td>\n",
       "      <td>11253821.0</td>\n",
       "      <td>1971</td>\n",
       "      <td>1970s</td>\n",
       "    </tr>\n",
       "    <tr>\n",
       "      <th>1971</th>\n",
       "      <td>tt0067116</td>\n",
       "      <td>The French Connection</td>\n",
       "      <td>1</td>\n",
       "      <td>FAIL</td>\n",
       "      <td>2200000</td>\n",
       "      <td>41158757.0</td>\n",
       "      <td>41158757.0</td>\n",
       "      <td>1971</td>\n",
       "      <td>1970s</td>\n",
       "    </tr>\n",
       "    <tr>\n",
       "      <th>1971</th>\n",
       "      <td>tt0067992</td>\n",
       "      <td>Willy Wonka &amp;amp; the Chocolate Factory</td>\n",
       "      <td>2</td>\n",
       "      <td>FAIL</td>\n",
       "      <td>3000000</td>\n",
       "      <td>4000000.0</td>\n",
       "      <td>4000000.0</td>\n",
       "      <td>1971</td>\n",
       "      <td>1970s</td>\n",
       "    </tr>\n",
       "    <tr>\n",
       "      <th>1970</th>\n",
       "      <td>tt0065466</td>\n",
       "      <td>Beyond the Valley of the Dolls</td>\n",
       "      <td>3</td>\n",
       "      <td>PASS</td>\n",
       "      <td>1000000</td>\n",
       "      <td>9000000.0</td>\n",
       "      <td>9000000.0</td>\n",
       "      <td>1970</td>\n",
       "      <td>1970s</td>\n",
       "    </tr>\n",
       "  </tbody>\n",
       "</table>\n",
       "</div>"
      ],
      "text/plain": [
       "           imdb                                    title clean_test binary  \\\n",
       "year                                                                         \n",
       "1971  tt0067741                                    Shaft          1   FAIL   \n",
       "1971  tt0067800                               Straw Dogs          1   FAIL   \n",
       "1971  tt0067116                    The French Connection          1   FAIL   \n",
       "1971  tt0067992  Willy Wonka &amp; the Chocolate Factory          2   FAIL   \n",
       "1970  tt0065466           Beyond the Valley of the Dolls          3   PASS   \n",
       "\n",
       "        budget    domgross     intgross  year década  \n",
       "year                                                  \n",
       "1971  53012938  70327868.0  107190108.0  1971  1970s  \n",
       "1971  25000000  10324441.0   11253821.0  1971  1970s  \n",
       "1971   2200000  41158757.0   41158757.0  1971  1970s  \n",
       "1971   3000000   4000000.0    4000000.0  1971  1970s  \n",
       "1970   1000000   9000000.0    9000000.0  1970  1970s  "
      ]
     },
     "execution_count": 28,
     "metadata": {},
     "output_type": "execute_result"
    }
   ],
   "source": [
    "df_movies_limpio.head()\n",
    "df_movies_limpio.tail()"
   ]
  },
  {
   "cell_type": "code",
   "execution_count": 29,
   "metadata": {},
   "outputs": [
    {
     "data": {
      "text/plain": [
       "False"
      ]
     },
     "execution_count": 29,
     "metadata": {},
     "output_type": "execute_result"
    }
   ],
   "source": [
    "df_movies_limpio[\"year\"].isnull().any()"
   ]
  },
  {
   "cell_type": "code",
   "execution_count": null,
   "metadata": {},
   "outputs": [],
   "source": [
    "df_movies_limpio[\"title\"].__contains__\n",
    "rows_with_ampersand = df[df['column_name'].str.contains('&amp;')]\n",
    "print(rows_with_ampersand)"
   ]
  },
  {
   "cell_type": "code",
   "execution_count": 30,
   "metadata": {},
   "outputs": [],
   "source": [
    "\n",
    "df_movies_limpio.to_csv('movies_limpio.csv')\n",
    "\n"
   ]
  }
 ],
 "metadata": {
  "kernelspec": {
   "display_name": "base",
   "language": "python",
   "name": "python3"
  },
  "language_info": {
   "codemirror_mode": {
    "name": "ipython",
    "version": 3
   },
   "file_extension": ".py",
   "mimetype": "text/x-python",
   "name": "python",
   "nbconvert_exporter": "python",
   "pygments_lexer": "ipython3",
   "version": "3.9.7"
  }
 },
 "nbformat": 4,
 "nbformat_minor": 2
}
